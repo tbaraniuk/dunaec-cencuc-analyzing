{
 "cells": [
  {
   "cell_type": "markdown",
   "id": "1ec8b6de",
   "metadata": {},
   "source": [
    "# Census Analyzing in the Dunaec village (1778/1897)"
   ]
  },
  {
   "cell_type": "markdown",
   "id": "5d1c83f2",
   "metadata": {},
   "source": [
    "The village of Dunaec is the **only** settlement from the former Hetmanate whose census records from 1778 and 1897 have been preserved in Ukraine.\n",
    "\n",
    "The aim of this notebook is to cover the next questions:\n",
    "- The gender ratio of different age groups, how it has changed over a hundred years;\n",
    "- Family structure and size; how it has changed over the past hundred years;\n",
    "- Which surnames or families from both databases can be linked;\n"
   ]
  },
  {
   "cell_type": "markdown",
   "id": "229814be",
   "metadata": {},
   "source": [
    "## Imprort Libraries"
   ]
  },
  {
   "cell_type": "code",
   "execution_count": 1,
   "id": "7541c996",
   "metadata": {},
   "outputs": [
    {
     "name": "stdout",
     "output_type": "stream",
     "text": [
      "Requirement already satisfied: pandas in ./venv/lib/python3.12/site-packages (2.3.1)\n",
      "Requirement already satisfied: numpy in ./venv/lib/python3.12/site-packages (2.3.1)\n",
      "Requirement already satisfied: matplotlib in ./venv/lib/python3.12/site-packages (3.10.3)\n",
      "Requirement already satisfied: seaborn in ./venv/lib/python3.12/site-packages (0.13.2)\n",
      "Requirement already satisfied: plotly in ./venv/lib/python3.12/site-packages (6.2.0)\n",
      "Requirement already satisfied: nbformat in ./venv/lib/python3.12/site-packages (5.10.4)\n",
      "Requirement already satisfied: deepl in ./venv/lib/python3.12/site-packages (1.22.0)\n",
      "Requirement already satisfied: dotenv in ./venv/lib/python3.12/site-packages (0.9.9)\n",
      "Requirement already satisfied: wordcloud in ./venv/lib/python3.12/site-packages (1.9.4)\n",
      "Requirement already satisfied: python-dateutil>=2.8.2 in ./venv/lib/python3.12/site-packages (from pandas) (2.9.0.post0)\n",
      "Requirement already satisfied: pytz>=2020.1 in ./venv/lib/python3.12/site-packages (from pandas) (2025.2)\n",
      "Requirement already satisfied: tzdata>=2022.7 in ./venv/lib/python3.12/site-packages (from pandas) (2025.2)\n",
      "Requirement already satisfied: contourpy>=1.0.1 in ./venv/lib/python3.12/site-packages (from matplotlib) (1.3.2)\n",
      "Requirement already satisfied: cycler>=0.10 in ./venv/lib/python3.12/site-packages (from matplotlib) (0.12.1)\n",
      "Requirement already satisfied: fonttools>=4.22.0 in ./venv/lib/python3.12/site-packages (from matplotlib) (4.58.5)\n",
      "Requirement already satisfied: kiwisolver>=1.3.1 in ./venv/lib/python3.12/site-packages (from matplotlib) (1.4.8)\n",
      "Requirement already satisfied: packaging>=20.0 in ./venv/lib/python3.12/site-packages (from matplotlib) (25.0)\n",
      "Requirement already satisfied: pillow>=8 in ./venv/lib/python3.12/site-packages (from matplotlib) (11.3.0)\n",
      "Requirement already satisfied: pyparsing>=2.3.1 in ./venv/lib/python3.12/site-packages (from matplotlib) (3.2.3)\n",
      "Requirement already satisfied: narwhals>=1.15.1 in ./venv/lib/python3.12/site-packages (from plotly) (1.46.0)\n",
      "Requirement already satisfied: fastjsonschema>=2.15 in ./venv/lib/python3.12/site-packages (from nbformat) (2.21.1)\n",
      "Requirement already satisfied: jsonschema>=2.6 in ./venv/lib/python3.12/site-packages (from nbformat) (4.24.0)\n",
      "Requirement already satisfied: jupyter-core!=5.0.*,>=4.12 in ./venv/lib/python3.12/site-packages (from nbformat) (5.8.1)\n",
      "Requirement already satisfied: traitlets>=5.1 in ./venv/lib/python3.12/site-packages (from nbformat) (5.14.3)\n",
      "Requirement already satisfied: requests<3,>=2 in ./venv/lib/python3.12/site-packages (from deepl) (2.32.4)\n",
      "Requirement already satisfied: python-dotenv in ./venv/lib/python3.12/site-packages (from dotenv) (1.1.1)\n",
      "Requirement already satisfied: attrs>=22.2.0 in ./venv/lib/python3.12/site-packages (from jsonschema>=2.6->nbformat) (25.3.0)\n",
      "Requirement already satisfied: jsonschema-specifications>=2023.03.6 in ./venv/lib/python3.12/site-packages (from jsonschema>=2.6->nbformat) (2025.4.1)\n",
      "Requirement already satisfied: referencing>=0.28.4 in ./venv/lib/python3.12/site-packages (from jsonschema>=2.6->nbformat) (0.36.2)\n",
      "Requirement already satisfied: rpds-py>=0.7.1 in ./venv/lib/python3.12/site-packages (from jsonschema>=2.6->nbformat) (0.26.0)\n",
      "Requirement already satisfied: platformdirs>=2.5 in ./venv/lib/python3.12/site-packages (from jupyter-core!=5.0.*,>=4.12->nbformat) (4.3.8)\n",
      "Requirement already satisfied: six>=1.5 in ./venv/lib/python3.12/site-packages (from python-dateutil>=2.8.2->pandas) (1.17.0)\n",
      "Requirement already satisfied: charset_normalizer<4,>=2 in ./venv/lib/python3.12/site-packages (from requests<3,>=2->deepl) (3.4.2)\n",
      "Requirement already satisfied: idna<4,>=2.5 in ./venv/lib/python3.12/site-packages (from requests<3,>=2->deepl) (3.10)\n",
      "Requirement already satisfied: urllib3<3,>=1.21.1 in ./venv/lib/python3.12/site-packages (from requests<3,>=2->deepl) (2.5.0)\n",
      "Requirement already satisfied: certifi>=2017.4.17 in ./venv/lib/python3.12/site-packages (from requests<3,>=2->deepl) (2025.7.9)\n",
      "Requirement already satisfied: typing-extensions>=4.4.0 in ./venv/lib/python3.12/site-packages (from referencing>=0.28.4->jsonschema>=2.6->nbformat) (4.14.1)\n",
      "Note: you may need to restart the kernel to use updated packages.\n"
     ]
    }
   ],
   "source": [
    "%pip install pandas numpy matplotlib seaborn plotly nbformat deepl dotenv wordcloud"
   ]
  },
  {
   "cell_type": "code",
   "execution_count": 2,
   "id": "2af9adef",
   "metadata": {},
   "outputs": [],
   "source": [
    "import os\n",
    "from dotenv import load_dotenv\n",
    "\n",
    "import pandas as pd\n",
    "import numpy as np\n",
    "\n",
    "import matplotlib.pyplot as plt\n",
    "import seaborn as sns\n",
    "from wordcloud import WordCloud\n",
    "\n",
    "import plotly.graph_objects as go\n",
    "from plotly.subplots import make_subplots\n",
    "\n",
    "import deepl"
   ]
  },
  {
   "cell_type": "code",
   "execution_count": 3,
   "id": "b063aece",
   "metadata": {},
   "outputs": [
    {
     "data": {
      "text/plain": [
       "True"
      ]
     },
     "execution_count": 3,
     "metadata": {},
     "output_type": "execute_result"
    }
   ],
   "source": [
    "load_dotenv()"
   ]
  },
  {
   "cell_type": "markdown",
   "id": "650ac98e",
   "metadata": {},
   "source": [
    "## Read data"
   ]
  },
  {
   "cell_type": "code",
   "execution_count": 4,
   "id": "88fe5689",
   "metadata": {},
   "outputs": [],
   "source": [
    "household1_df = pd.read_csv('./datasets/2.1_Дунаєць.xlsx - База листов.csv')\n",
    "people1_df = pd.read_csv('./datasets/2.1_Дунаєць.xlsx - База людей.csv')\n",
    "\n",
    "people2_df = pd.read_csv('./datasets/2.2_Дунаєць_1778.xlsx - База.csv', header=3)"
   ]
  },
  {
   "cell_type": "code",
   "execution_count": 5,
   "id": "99db7fe6",
   "metadata": {},
   "outputs": [],
   "source": [
    "family_total_structure_1_df = pd.read_csv('./datasets/2.1.1_Структура родини Дунаєць_1897.xlsx - Total.csv')\n",
    "family_total_structure_2_df = pd.read_csv('./datasets/2.2.2_Структура родини Дунаєць_1778.xlsx - Total.csv')"
   ]
  },
  {
   "cell_type": "markdown",
   "id": "a4d100c2",
   "metadata": {},
   "source": [
    "## Preprocess data"
   ]
  },
  {
   "cell_type": "code",
   "execution_count": 6,
   "id": "12e53f94",
   "metadata": {},
   "outputs": [],
   "source": [
    "household1_df = household1_df.loc[:, ['ID Домохозяйствао', 'Село/деревня', 'Хозяин', 'Сколько жилых строений', 'Всего наличного мужеского населения', 'Всего наличнаго женского населения', 'Постоянно живущаго М', 'Постоянно живущаго Ж', 'Приписанного здесь М', 'Приписанного здесь Ж']]"
   ]
  },
  {
   "cell_type": "code",
   "execution_count": 7,
   "id": "fe03b761",
   "metadata": {},
   "outputs": [],
   "source": [
    "people1_df = people1_df.loc[:, ['ID строки в базе', 'ID Домохозяйствао', 'ID жилец', 'ФИО', 'Пол', 'Глава хозяйства и глава семьи', 'Возраст', 'Семейный статус', 'Сословие, состояние или звание', 'Здесь ли родился', 'Здесь ли обыкновенно проживает', 'Умеет ли читать', 'Обучение', 'Профессия главное', 'Профессия вспомогательное', 'Положение по воинской повинности']]"
   ]
  },
  {
   "cell_type": "code",
   "execution_count": 8,
   "id": "4c8672f1",
   "metadata": {},
   "outputs": [],
   "source": [
    "people2_df = people2_df.loc[:, ['ID наскрізна', 'ID домогосподарство', 'Чоловіки', 'Жінки', 'Імʼя', 'По-батькові', 'Прізвище', 'Родиний статус', 'Категорія', 'Клас', 'Соціальний статус', 'Вік']]"
   ]
  },
  {
   "cell_type": "code",
   "execution_count": 9,
   "id": "f2ef14b2",
   "metadata": {},
   "outputs": [],
   "source": [
    "household1_df.rename(columns={\n",
    "    'ID Домохозяйствао': 'id',\n",
    "    'Село/деревня': 'village/hamlet',\n",
    "    'Хозяин': 'host_name',\n",
    "    'Сколько жилых строений': 'residential_buildings_count',\n",
    "    'Всего наличного мужеского населения': 'total_male_count',\n",
    "    'Всего наличнаго женского населения': 'total_female_count',\n",
    "    'Постоянно живущаго М': 'permanent_male_count',\n",
    "    'Постоянно живущаго Ж': 'permanent_female_count',\n",
    "    'Приписанного здесь М': 'attributed_male_count',\n",
    "    'Приписанного здесь Ж': 'attributed_female_count'\n",
    "}, inplace=True)"
   ]
  },
  {
   "cell_type": "code",
   "execution_count": 10,
   "id": "6bdefa23",
   "metadata": {},
   "outputs": [],
   "source": [
    "people1_df.rename(columns={\n",
    "    'ID строки в базе': 'id',\n",
    "    'ID Домохозяйствао': 'household_id',\n",
    "    'ID жилец': 'resident_id',\n",
    "    'ФИО': 'name',\n",
    "    'Пол': 'sex',\n",
    "    'Глава хозяйства и глава семьи': 'family_social_status',\n",
    "    'Возраст': 'age',\n",
    "    'Семейный статус': 'marital status',\n",
    "    'Сословие, состояние или звание': 'class',\n",
    "    'Здесь ли родился': 'is_indigenous',\n",
    "    'Здесь ли обыкновенно проживает': 'is_resident',\n",
    "    'Умеет ли читать': 'can_read',\n",
    "    'Обучение': 'education',\n",
    "    'Профессия главное': 'main_profession',\n",
    "    'Профессия вспомогательное': 'additional_profession',\n",
    "    'Положение по воинской повинности': 'regulations_on_conscription'\n",
    "}, inplace=True)"
   ]
  },
  {
   "cell_type": "code",
   "execution_count": 11,
   "id": "d4307696",
   "metadata": {},
   "outputs": [],
   "source": [
    "people2_df.rename(columns={\n",
    "    'ID наскрізна': 'id',\n",
    "    'ID домогосподарство': 'household_id',\n",
    "    'Чоловіки': 'men_count',\n",
    "    'Жінки': 'women_count',\n",
    "    'Імʼя': 'fist_name',\n",
    "    'По-батькові': 'patronymic',\n",
    "    'Прізвище': 'surname',\n",
    "    'Родиний статус': 'family_social_status',\n",
    "    'Категорія': 'category',\n",
    "    'Клас': 'class',\n",
    "    'Соціальний статус': 'social_stauts',\n",
    "    'Вік' : 'age'\n",
    "}, inplace=True)"
   ]
  },
  {
   "cell_type": "code",
   "execution_count": 12,
   "id": "4c477396",
   "metadata": {},
   "outputs": [],
   "source": [
    "# Delete last rows with full empty data\n",
    "people1_df = people1_df[people1_df.name.notna()]"
   ]
  },
  {
   "cell_type": "code",
   "execution_count": 13,
   "id": "eed1920c",
   "metadata": {},
   "outputs": [
    {
     "data": {
      "text/plain": [
       "(1545, 16)"
      ]
     },
     "execution_count": 13,
     "metadata": {},
     "output_type": "execute_result"
    }
   ],
   "source": [
    "people1_df.shape"
   ]
  },
  {
   "cell_type": "code",
   "execution_count": 14,
   "id": "80113162",
   "metadata": {},
   "outputs": [],
   "source": [
    "people1_df.loc[:, 'name'] = people1_df.loc[:, 'name'].apply(str.strip)\n",
    "people1_df.loc[:, 'surname'] = people1_df.loc[:, 'name'].str.extract(r'(\\w+)\\s', expand=False)\n",
    "people1_df.loc[:, 'first_name'] = people1_df.loc[:, 'name'].str.extract(r'\\s(\\w+)\\s', expand=False)\n",
    "\n",
    "people1_df.patronymic = ''\n",
    "people1_df.loc[people1_df.name.apply(lambda x: len(x.split(' '))) == 3, 'patronymic'] = people1_df \\\n",
    "    .loc[people1_df.name.apply(lambda x: len(x.split(' '))) == 3, 'name'] \\\n",
    "    .str.extract(r'\\s\\w+\\s(\\w+)', expand=False)\n",
    "\n",
    "people1_df.drop(labels=['name'], axis=1, inplace=True)"
   ]
  },
  {
   "cell_type": "code",
   "execution_count": 15,
   "id": "8620c392",
   "metadata": {},
   "outputs": [],
   "source": [
    "people1_df.loc[~people1_df.age.str.isnumeric(), 'age'] = '0'"
   ]
  },
  {
   "cell_type": "code",
   "execution_count": 16,
   "id": "e7801a38",
   "metadata": {},
   "outputs": [],
   "source": [
    "people1_df.age = people1_df.age.astype(np.int32)"
   ]
  },
  {
   "cell_type": "markdown",
   "id": "3f38dc7f",
   "metadata": {},
   "source": [
    "Filling missing values. Since surname, category, class and household_id was only written to the host of the household, so we can make an assumption that other members of the have the same properties"
   ]
  },
  {
   "cell_type": "code",
   "execution_count": 17,
   "id": "fc7c9412",
   "metadata": {},
   "outputs": [],
   "source": [
    "people2_df.loc[:, ['household_id', 'category', 'class', 'surname']] = people2_df \\\n",
    "    .loc[:, ['household_id', 'category', 'class', 'surname']] \\\n",
    "    .ffill()\n",
    "\n",
    "people2_df.household_id = people2_df.household_id.astype(np.int32)"
   ]
  },
  {
   "cell_type": "code",
   "execution_count": 18,
   "id": "43807106",
   "metadata": {},
   "outputs": [],
   "source": [
    "people2_df['sex'] = ''\n",
    "people2_df.loc[people2_df.men_count.notna(), 'sex'] = 'm'\n",
    "people2_df.loc[people2_df.women_count.notna(), 'sex'] = 'f'"
   ]
  },
  {
   "cell_type": "code",
   "execution_count": 19,
   "id": "a785290d",
   "metadata": {},
   "outputs": [],
   "source": [
    "people2_df.drop(axis=1, labels=['men_count', 'women_count'], inplace=True)"
   ]
  },
  {
   "cell_type": "code",
   "execution_count": 20,
   "id": "f5ba369a",
   "metadata": {},
   "outputs": [],
   "source": [
    "people2_df.age = people2_df.age.astype(np.int32)"
   ]
  },
  {
   "cell_type": "code",
   "execution_count": 21,
   "id": "d7e8c4aa",
   "metadata": {},
   "outputs": [],
   "source": [
    "family_total_structure_1_df.rename(columns={\n",
    "    'Категорія': 'category',\n",
    "    'Клас': 'class',\n",
    "    'Кількість': 'class_count',\n",
    "    '%': 'category_percentage',\n",
    "    '% кожного класу': 'class_percentage',\n",
    "    'Усього по категоріях': 'category_total_count'\n",
    "}, inplace=True)\n",
    "\n",
    "family_total_structure_2_df.rename(columns={\n",
    "    'Категорія': 'category',\n",
    "    'Клас': 'class',\n",
    "    'Кількість': 'class_count',\n",
    "    '%': 'category_percentage',\n",
    "    '% кожного класу': 'class_percentage',\n",
    "    'Усього по категоріях': 'category_total_count'\n",
    "}, inplace=True)"
   ]
  },
  {
   "cell_type": "code",
   "execution_count": 22,
   "id": "aec4d3a6",
   "metadata": {},
   "outputs": [],
   "source": [
    "family_total_structure_1_df.loc[:, ['category', 'category_percentage']] = family_total_structure_1_df.loc[:, ['category', 'category_percentage']].ffill()\n",
    "\n",
    "family_total_structure_2_df.loc[:, ['category', 'category_percentage']] = family_total_structure_2_df.loc[:, ['category', 'category_percentage']].ffill()"
   ]
  },
  {
   "cell_type": "code",
   "execution_count": 23,
   "id": "593eeb91",
   "metadata": {},
   "outputs": [],
   "source": [
    "family_total_structure_1_df.loc[:, 'category_total_count'] = family_total_structure_1_df.loc[:, 'category_total_count'].bfill()\n",
    "\n",
    "family_total_structure_2_df.loc[:, 'category_total_count'] = family_total_structure_2_df.loc[:, 'category_total_count'].bfill()"
   ]
  },
  {
   "cell_type": "code",
   "execution_count": 24,
   "id": "dbbb9f9e",
   "metadata": {},
   "outputs": [],
   "source": [
    "# Delete Total Column\n",
    "family_total_structure_1_df = family_total_structure_1_df[family_total_structure_1_df.category != 'Усього']\n",
    "family_total_structure_2_df = family_total_structure_2_df[family_total_structure_2_df.category != 'Усього']"
   ]
  },
  {
   "cell_type": "markdown",
   "id": "398fcb63",
   "metadata": {},
   "source": [
    "## Visualizing Insights"
   ]
  },
  {
   "cell_type": "markdown",
   "id": "84170008",
   "metadata": {},
   "source": [
    "### Age Distribution"
   ]
  },
  {
   "cell_type": "code",
   "execution_count": 25,
   "id": "a5eded60",
   "metadata": {},
   "outputs": [
    {
     "data": {
      "text/plain": [
       "(np.int32(90), np.int32(84))"
      ]
     },
     "execution_count": 25,
     "metadata": {},
     "output_type": "execute_result"
    }
   ],
   "source": [
    "(people1_df.age.max(), people2_df.age.max())"
   ]
  },
  {
   "cell_type": "code",
   "execution_count": 26,
   "id": "3d8da87c",
   "metadata": {},
   "outputs": [],
   "source": [
    "bins = [i for i in range(0, 90, 10)]\n",
    "labels = [f'{i}-{i+10}' for i in range(0, 80, 10)]"
   ]
  },
  {
   "cell_type": "code",
   "execution_count": 27,
   "id": "1b9925e9",
   "metadata": {},
   "outputs": [],
   "source": [
    "men_ages_1 = people1_df.loc[people1_df.sex == 'm', 'age']\n",
    "women_ages_1 = people1_df.loc[people1_df.sex == 'f', 'age'] * -1\n",
    "\n",
    "men_ages_2 = people2_df.loc[people2_df.sex == 'm', 'age']\n",
    "women_ages_2 = people2_df.loc[people2_df.sex == 'f', 'age'] * -1"
   ]
  },
  {
   "cell_type": "code",
   "execution_count": 28,
   "id": "dc31c367",
   "metadata": {},
   "outputs": [
    {
     "data": {
      "application/vnd.plotly.v1+json": {
       "config": {
        "plotlyServerURL": "https://plot.ly"
       },
       "data": [
        {
         "hoverinfo": "name+x",
         "marker": {
          "color": "#005f73"
         },
         "name": "Men 1778",
         "orientation": "h",
         "type": "bar",
         "x": {
          "bdata": "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",
          "dtype": "i4"
         },
         "xaxis": "x",
         "y": [
          0,
          10,
          20,
          30,
          40,
          50,
          60,
          70,
          80
         ],
         "yaxis": "y"
        },
        {
         "customdata": {
          "bdata": "IwAAABEAAAAhAAAABgAAAAMAAAA6AAAANwAAABAAAAArAAAADwAAAAIAAAAWAAAAKAAAAAQAAAAhAAAAAwAAACgAAAABAAAAKQAAAAkAAAAdAAAABAAAABAAAAADAAAAGQAAABMAAAAOAAAACgAAAAgAAAAoAAAAGgAAABMAAAAdAAAAAwAAACUAAAASAAAADwAAAAMAAAAdAAAAJAAAABAAAAANAAAAFwAAAAMAAAARAAAAJgAAADoAAAASAAAAKQAAAAwAAAAbAAAAMgAAABIAAAAiAAAABAAAAAIAAAAWAAAAKgAAAAwAAAAKAAAANAAAAB0AAAAEAAAAHAAAAAIAAAA7AAAAFQAAAB8AAAAUAAAAAQAAACwAAAAMAAAACgAAAAQAAAABAAAANAAAAAwAAAAbAAAABwAAABcAAAABAAAANgAAABoAAAABAAAAGQAAAAcAAAABAAAAEwAAAC8AAAAUAAAALQAAAAMAAAAXAAAAAgAAABwAAAALAAAAFgAAAAMAAAABAAAAEQAAACUAAAAQAAAADAAAAAEAAAAiAAAACQAAADkAAAAkAAAADwAAABsAAAADAAAAFwAAAAMAAAAuAAAAGQAAAAUAAAADAAAALQAAAA8AAAAnAAAADgAAAAYAAAAQAAAAJwAAAAoAAAAFAAAAAQAAADwAAAAxAAAALQAAAA0AAAAhAAAAAQAAADgAAAAeAAAAFgAAAAEAAAAiAAAAGAAAABQAAAAiAAAAEQAAADkAAAASAAAAFAAAABwAAAAEAAAAHAAAAAYAAAADAAAANQAAABcAAAAEAAAAAQAAADUAAAAPAAAAGwAAAAcAAAAdAAAAAwAAABYAAAAcAAAAHwAAADgAAAAmAAAAJgAAAAYAAAAfAAAAAwAAACkAAAAjAAAAEwAAABAAAAAzAAAAEQAAAA8AAAATAAAAMgAAAA4AAAALAAAAHQAAAAYAAAAcAAAACgAAAAIAAABAAAAAJAAAAAgAAAA4AAAADgAAAAMAAAAaAAAAFwAAAC8AAAAVAAAAFAAAACAAAAADAAAANQAAABIAAAALAAAAHgAAACcAAAADAAAAGAAAAB4AAAAGAAAAAwAAAAEAAAAXAAAAAwAAABYAAAAiAAAAEAAAAAwAAAAgAAAADAAAAAoAAAAIAAAAGAAAAAIAAAA4AAAADQAAAB4AAAADAAAAAQAAADQAAAAUAAAAHgAAAAQAAAAlAAAAFQAAAB0AAAAGAAAAAwAAACMAAAAPAAAAMAAAABYAAAAjAAAAEgAAAAEAAAAgAAAABAAAAAIAAAAdAAAACQAAAAEAAAA7AAAACQAAAAYAAAAgAAAABAAAAAIAAAAbAAAANAAAAB0AAAACAAAAHAAAAAUAAAArAAAAEQAAAB4AAAAHAAAAIgAAABAAAAAjAAAACgAAAAgAAAABAAAAHwAAAAoAAAA+AAAAHwAAAAYAAAAdAAAABgAAAAQAAAAuAAAACAAAAAMAAAA1AAAABgAAABYAAAAqAAAAEQAAAA4AAAAIAAAAFAAAADcAAAAdAAAAAwAAACgAAAAPAAAAJwAAABEAAAADAAAAGwAAABIAAAAzAAAAFAAAADEAAAAcAAAABAAAAAEAAAAlAAAAAQAAABQAAAATAAAAMQAAABgAAAAUAAAAVAAAACcAAAAMAAAAIAAAAB8AAAAFAAAAAgAAABUAAAAkAAAAFwAAAAEAAAATAAAAIAAAAAIAAAATAAAALAAAABcAAAAiAAAAHAAAABYAAAABAAAAJwAAAAoAAAAIAAAAHgAAAB4AAAAeAAAAHQAAADUAAAAQAAAAGQAAAEEAAAAiAAAAGAAAADgAAAAcAAAAAQAAADQAAAAgAAAABwAAAAMAAAArAAAAJwAAAAMAAAAbAAAAAwAAABUAAAAuAAAACgAAABQAAAABAAAAKwAAABEAAAAHAAAAFAAAABwAAAAFAAAAIgAAAA4AAAAIAAAALgAAABAAAAAMAAAAHQAAAAIAAAAsAAAAAwAAABQAAAA5AAAAEwAAACoAAAAEAAAAGwAAAAwAAAACAAAALwAAABcAAAACAAAAAQAAACQAAAALAAAAIQAAAAsAAAAIAAAAAwAAADAAAAAUAAAAHwAAABgAAAABAAAAHQAAADsAAAAhAAAAHAAAABkAAAAgAAAAFAAAABkAAAAEAAAAIwAAAAwAAAAsAAAAFQAAADcAAAAXAAAAAwAAACEAAAAbAAAAIgAAAAkAAAAkAAAACwAAAAMAAAATAAAAHAAAADEAAAANAAAAHAAAABQAAAABAAAAMgAAACwAAAASAAAAJgAAAAwAAAAFAAAAAQAAADMAAAAQAAAADQAAACUAAAAPAAAAHQAAAAIAAAAcAAAAAgAAACMAAAAYAAAAFgAAABgAAAACAAAAFwAAABQAAAAlAAAABAAAADYAAAAYAAAAGAAAAAMAAAA6AAAAGgAAAB8AAAAKAAAAEwAAABkAAABDAAAAHAAAABAAAAAcAAAAAgAAACkAAAAQAAAAFgAAABYAAAAhAAAADgAAAAwAAAAmAAAAAQAAADsAAAAeAAAANQAAACgAAAAiAAAAHgAAAC8AAAAeAAAAAQAAABoAAAAEAAAAMwAAABsAAAAdAAAAJwAAAA4AAAAMAAAANAAAAA8AAAAcAAAAAwAAABgAAAACAAAALQAAABYAAAAyAAAADAAAABYAAABDAAAAHwAAAAgAAAA0AAAAHAAAADoAAAAgAAAADAAAAAMAAAAbAAAAAwAAADQAAAAWAAAAGwAAACwAAAASAAAAFgAAACcAAAAPAAAABwAAABUAAAAjAAAAFwAAACAAAAAjAAAACAAAABkAAAAuAAAAHQAAACQAAAARAAAALgAAABkAAAAVAAAAIwAAAA4AAAAJAAAABwAAAAEAAAABAAAAEwAAABgAAAAqAAAAIAAAABEAAAALAAAAKgAAAAwAAAAJAAAAMgAAABoAAAAWAAAAGAAAABcAAAARAAAAEQAAABEAAAAQAAAAIgAAAAoAAAAlAAAACQAAACUAAAALAAAAAgAAACwAAAAPAAAAHgAAAAkAAAAnAAAACwAAABwAAAAIAAAAFwAAABUAAAABAAAAFwAAACoAAAANAAAAFgAAACUAAAAmAAAABQAAACIAAAAGAAAAAwAAACQAAAAEAAAAFgAAABIAAAAkAAAACAAAAAEAAABDAAAAIgAAAAUAAAAOAAAALgAAAAUAAAAqAAAABAAAADQAAAARAAAAFgAAADsAAAAeAAAACQAAABUAAAASAAAAMAAAACEAAAAUAAAAJwAAAA0AAAALAAAACQAAACAAAAAFAAAAGwAAAAkAAAAGAAAAAgAAABQAAAAlAAAAAgAAAD8AAAAxAAAAFQAAACsAAAABAAAALwAAAEEAAAAyAAAAEAAAAA4AAAAfAAAAJAAAACUAAAAGAAAAMQAAAAUAAAAaAAAAIwAAADEAAAARAAAADgAAABcAAAAyAAAAFAAAABYAAAAOAAAAFQAAAAEAAAApAAAACwAAAAIAAAAnAAAAHgAAABEAAAA1AAAAEAAAAAwAAAATAAAAEQAAABUAAAAiAAAADAAAAAkAAAAoAAAAEQAAACQAAAALAAAABwAAAAIAAAAVAAAALQAAABoAAAAWAAAAEwAAACEAAAAEAAAAJQAAABQAAAACAAAAIwAAAAkAAAAgAAAALwAAACUAAAAMAAAAIwAAAAgAAAABAAAAGwAAAAIAAAAUAAAARQAAADkAAAASAAAAGgAAAAIAAAAvAAAAFAAAACMAAAAeAAAAJAAAAAQAAAACAAAAEQAAADEAAAAWAAAADAAAABQAAAAkAAAAEQAAAAsAAAAbAAAABQAAABoAAAAqAAAAEAAAABMAAAAgAAAAAQAAACYAAAAUAAAAGgAAABQAAAAaAAAABAAAACIAAAAMAAAAEQAAABMAAAAlAAAADwAAAAMAAAA2AAAAMQAAACoAAAAVAAAAKAAAAA4AAAAyAAAAMgAAACgAAAAOAAAAJAAAADQAAAAaAAAAAgAAABYAAAABAAAAKwAAAAwAAAACAAAAIQAAAAsAAAA3AAAAIAAAAAgAAAAVAAAAFgAAACoAAAA=",
          "dtype": "i4"
         },
         "hovertemplate": "%{customdata}",
         "marker": {
          "color": "#ae2012"
         },
         "name": "Women 1778",
         "orientation": "h",
         "type": "bar",
         "x": {
          "bdata": "3f///+/////f////+v////3////G////yf////D////V////8f////7////q////2P////z////f/////f///9j/////////1/////f////j/////P////D////9////5////+3////y////9v////j////Y////5v///+3////j/////f///9v////u////8f////3////j////3P////D////z////6f////3////v////2v///8b////u////1/////T////l////zv///+7////e/////P////7////q////1v////T////2////zP///+P////8////5P////7////F////6////+H////s/////////9T////0////9v////z/////////zP////T////l////+f///+n/////////yv///+b/////////5/////n/////////7f///9H////s////0/////3////p/////v///+T////1////6v////3/////////7////9v////w////9P/////////e////9////8f////c////8f///+X////9////6f////3////S////5/////v////9////0/////H////Z////8v////r////w////2f////b////7/////////8T////P////0/////P////f/////////8j////i////6v/////////e////6P///+z////e////7////8f////u////7P///+T////8////5P////r////9////y////+n////8/////////8v////x////5f////n////j/////f///+r////k////4f///8j////a////2v////r////h/////f///9f////d////7f////D////N////7/////H////t////zv////L////1////4/////r////k////9v////7////A////3P////j////I////8v////3////m////6f///9H////r////7P///+D////9////y////+7////1////4v///9n////9////6P///+L////6/////f/////////p/////f///+r////e////8P////T////g////9P////b////4////6P////7////I////8////+L////9/////////8z////s////4v////z////b////6////+P////6/////f///93////x////0P///+r////d////7v/////////g/////P////7////j////9//////////F////9/////r////g/////P////7////l////zP///+P////+////5P////v////V////7////+L////5////3v////D////d////9v////j/////////4f////b////C////4f////r////j////+v////z////S////+P////3////L////+v///+r////W////7/////L////4////7P///8n////j/////f///9j////x////2f///+/////9////5f///+7////N////7P///8/////k/////P/////////b/////////+z////t////z////+j////s////rP///9n////0////4P///+H////7/////v///+v////c////6f/////////t////4P////7////t////1P///+n////e////5P///+r/////////2f////b////4////4v///+L////i////4////8v////w////5////7/////e////6P///8j////k/////////8z////g////+f////3////V////2f////3////l/////f///+v////S////9v///+z/////////1f///+/////5////7P///+T////7////3v////L////4////0v////D////0////4/////7////U/////f///+z////H////7f///9b////8////5f////T////+////0f///+n////+/////////9z////1////3/////X////4/////f///9D////s////4f///+j/////////4////8X////f////5P///+f////g////7P///+f////8////3f////T////U////6////8n////p/////f///9/////l////3v////f////c////9f////3////t////5P///8/////z////5P///+z/////////zv///9T////u////2v////T////7/////////83////w////8////9v////x////4/////7////k/////v///93////o////6v///+j////+////6f///+z////b/////P///8r////o////6P////3////G////5v///+H////2////7f///+f///+9////5P////D////k/////v///9f////w////6v///+r////f////8v////T////a/////////8X////i////y////9j////e////4v///9H////i/////////+b////8////zf///+X////j////2f////L////0////zP////H////k/////f///+j////+////0////+r////O////9P///+r///+9////4f////j////M////5P///8b////g////9P////3////l/////f///8z////q////5f///9T////u////6v///9n////x////+f///+v////d////6f///+D////d////+P///+f////S////4////9z////v////0v///+f////r////3f////L////3////+f//////////////7f///+j////W////4P///+/////1////1v////T////3////zv///+b////q////6P///+n////v////7////+/////w////3v////b////b////9////9v////1/////v///9T////x////4v////f////Z////9f///+T////4////6f///+v/////////6f///9b////z////6v///9v////a////+////97////6/////f///9z////8////6v///+7////c////+P////////+9////3v////v////y////0v////v////W/////P///8z////v////6v///8X////i////9////+v////u////0P///9/////s////2f////P////1////9////+D////7////5f////f////6/////v///+z////b/////v///8H////P////6////9X/////////0f///7/////O////8P////L////h////3P///9v////6////z/////v////m////3f///8/////v////8v///+n////O////7P///+r////y////6//////////X////9f////7////Z////4v///+/////L////8P////T////t////7////+v////e////9P////f////Y////7////9z////1////+f////7////r////0////+b////q////7f///9/////8////2////+z////+////3f////f////g////0f///9v////0////3f////j/////////5f////7////s////u////8f////u////5v////7////R////7P///93////i////3P////z////+////7////8/////q////9P///+z////c////7/////X////l////+////+b////W////8P///+3////g/////////9r////s////5v///+z////m/////P///97////0////7////+3////b////8f////3////K////z////9b////r////2P////L////O////zv///9j////y////3P///8z////m/////v///+r/////////1f////T////+////3/////X////J////4P////j////r////6v///9b///8=",
          "dtype": "i4"
         },
         "xaxis": "x",
         "y": [
          0,
          10,
          20,
          30,
          40,
          50,
          60,
          70,
          80
         ],
         "yaxis": "y"
        },
        {
         "hoverinfo": "name+x",
         "marker": {
          "color": "#94d2bd"
         },
         "name": "Men 1897",
         "orientation": "h",
         "type": "bar",
         "x": {
          "bdata": "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",
          "dtype": "i4"
         },
         "xaxis": "x2",
         "y": [
          0,
          10,
          20,
          30,
          40,
          50,
          60,
          70,
          80
         ],
         "yaxis": "y2"
        },
        {
         "customdata": {
          "bdata": "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",
          "dtype": "i4"
         },
         "hoverinfo": "name",
         "hovertemplate": "%{customdata}",
         "marker": {
          "color": "#ca6702"
         },
         "name": "Women 1897",
         "orientation": "h",
         "type": "bar",
         "x": {
          "bdata": "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",
          "dtype": "i4"
         },
         "xaxis": "x2",
         "y": [
          0,
          10,
          20,
          30,
          40,
          50,
          60,
          70,
          80
         ],
         "yaxis": "y2"
        }
       ],
       "layout": {
        "annotations": [
         {
          "font": {
           "size": 16
          },
          "showarrow": false,
          "text": "1778 year",
          "x": 0.225,
          "xanchor": "center",
          "xref": "paper",
          "y": 1,
          "yanchor": "bottom",
          "yref": "paper"
         },
         {
          "font": {
           "size": 16
          },
          "showarrow": false,
          "text": "1897 year",
          "x": 0.775,
          "xanchor": "center",
          "xref": "paper",
          "y": 1,
          "yanchor": "bottom",
          "yref": "paper"
         }
        ],
        "bargap": 0.1,
        "barmode": "overlay",
        "height": 500,
        "template": {
         "data": {
          "bar": [
           {
            "error_x": {
             "color": "#2a3f5f"
            },
            "error_y": {
             "color": "#2a3f5f"
            },
            "marker": {
             "line": {
              "color": "#E5ECF6",
              "width": 0.5
             },
             "pattern": {
              "fillmode": "overlay",
              "size": 10,
              "solidity": 0.2
             }
            },
            "type": "bar"
           }
          ],
          "barpolar": [
           {
            "marker": {
             "line": {
              "color": "#E5ECF6",
              "width": 0.5
             },
             "pattern": {
              "fillmode": "overlay",
              "size": 10,
              "solidity": 0.2
             }
            },
            "type": "barpolar"
           }
          ],
          "carpet": [
           {
            "aaxis": {
             "endlinecolor": "#2a3f5f",
             "gridcolor": "white",
             "linecolor": "white",
             "minorgridcolor": "white",
             "startlinecolor": "#2a3f5f"
            },
            "baxis": {
             "endlinecolor": "#2a3f5f",
             "gridcolor": "white",
             "linecolor": "white",
             "minorgridcolor": "white",
             "startlinecolor": "#2a3f5f"
            },
            "type": "carpet"
           }
          ],
          "choropleth": [
           {
            "colorbar": {
             "outlinewidth": 0,
             "ticks": ""
            },
            "type": "choropleth"
           }
          ],
          "contour": [
           {
            "colorbar": {
             "outlinewidth": 0,
             "ticks": ""
            },
            "colorscale": [
             [
              0,
              "#0d0887"
             ],
             [
              0.1111111111111111,
              "#46039f"
             ],
             [
              0.2222222222222222,
              "#7201a8"
             ],
             [
              0.3333333333333333,
              "#9c179e"
             ],
             [
              0.4444444444444444,
              "#bd3786"
             ],
             [
              0.5555555555555556,
              "#d8576b"
             ],
             [
              0.6666666666666666,
              "#ed7953"
             ],
             [
              0.7777777777777778,
              "#fb9f3a"
             ],
             [
              0.8888888888888888,
              "#fdca26"
             ],
             [
              1,
              "#f0f921"
             ]
            ],
            "type": "contour"
           }
          ],
          "contourcarpet": [
           {
            "colorbar": {
             "outlinewidth": 0,
             "ticks": ""
            },
            "type": "contourcarpet"
           }
          ],
          "heatmap": [
           {
            "colorbar": {
             "outlinewidth": 0,
             "ticks": ""
            },
            "colorscale": [
             [
              0,
              "#0d0887"
             ],
             [
              0.1111111111111111,
              "#46039f"
             ],
             [
              0.2222222222222222,
              "#7201a8"
             ],
             [
              0.3333333333333333,
              "#9c179e"
             ],
             [
              0.4444444444444444,
              "#bd3786"
             ],
             [
              0.5555555555555556,
              "#d8576b"
             ],
             [
              0.6666666666666666,
              "#ed7953"
             ],
             [
              0.7777777777777778,
              "#fb9f3a"
             ],
             [
              0.8888888888888888,
              "#fdca26"
             ],
             [
              1,
              "#f0f921"
             ]
            ],
            "type": "heatmap"
           }
          ],
          "histogram": [
           {
            "marker": {
             "pattern": {
              "fillmode": "overlay",
              "size": 10,
              "solidity": 0.2
             }
            },
            "type": "histogram"
           }
          ],
          "histogram2d": [
           {
            "colorbar": {
             "outlinewidth": 0,
             "ticks": ""
            },
            "colorscale": [
             [
              0,
              "#0d0887"
             ],
             [
              0.1111111111111111,
              "#46039f"
             ],
             [
              0.2222222222222222,
              "#7201a8"
             ],
             [
              0.3333333333333333,
              "#9c179e"
             ],
             [
              0.4444444444444444,
              "#bd3786"
             ],
             [
              0.5555555555555556,
              "#d8576b"
             ],
             [
              0.6666666666666666,
              "#ed7953"
             ],
             [
              0.7777777777777778,
              "#fb9f3a"
             ],
             [
              0.8888888888888888,
              "#fdca26"
             ],
             [
              1,
              "#f0f921"
             ]
            ],
            "type": "histogram2d"
           }
          ],
          "histogram2dcontour": [
           {
            "colorbar": {
             "outlinewidth": 0,
             "ticks": ""
            },
            "colorscale": [
             [
              0,
              "#0d0887"
             ],
             [
              0.1111111111111111,
              "#46039f"
             ],
             [
              0.2222222222222222,
              "#7201a8"
             ],
             [
              0.3333333333333333,
              "#9c179e"
             ],
             [
              0.4444444444444444,
              "#bd3786"
             ],
             [
              0.5555555555555556,
              "#d8576b"
             ],
             [
              0.6666666666666666,
              "#ed7953"
             ],
             [
              0.7777777777777778,
              "#fb9f3a"
             ],
             [
              0.8888888888888888,
              "#fdca26"
             ],
             [
              1,
              "#f0f921"
             ]
            ],
            "type": "histogram2dcontour"
           }
          ],
          "mesh3d": [
           {
            "colorbar": {
             "outlinewidth": 0,
             "ticks": ""
            },
            "type": "mesh3d"
           }
          ],
          "parcoords": [
           {
            "line": {
             "colorbar": {
              "outlinewidth": 0,
              "ticks": ""
             }
            },
            "type": "parcoords"
           }
          ],
          "pie": [
           {
            "automargin": true,
            "type": "pie"
           }
          ],
          "scatter": [
           {
            "fillpattern": {
             "fillmode": "overlay",
             "size": 10,
             "solidity": 0.2
            },
            "type": "scatter"
           }
          ],
          "scatter3d": [
           {
            "line": {
             "colorbar": {
              "outlinewidth": 0,
              "ticks": ""
             }
            },
            "marker": {
             "colorbar": {
              "outlinewidth": 0,
              "ticks": ""
             }
            },
            "type": "scatter3d"
           }
          ],
          "scattercarpet": [
           {
            "marker": {
             "colorbar": {
              "outlinewidth": 0,
              "ticks": ""
             }
            },
            "type": "scattercarpet"
           }
          ],
          "scattergeo": [
           {
            "marker": {
             "colorbar": {
              "outlinewidth": 0,
              "ticks": ""
             }
            },
            "type": "scattergeo"
           }
          ],
          "scattergl": [
           {
            "marker": {
             "colorbar": {
              "outlinewidth": 0,
              "ticks": ""
             }
            },
            "type": "scattergl"
           }
          ],
          "scattermap": [
           {
            "marker": {
             "colorbar": {
              "outlinewidth": 0,
              "ticks": ""
             }
            },
            "type": "scattermap"
           }
          ],
          "scattermapbox": [
           {
            "marker": {
             "colorbar": {
              "outlinewidth": 0,
              "ticks": ""
             }
            },
            "type": "scattermapbox"
           }
          ],
          "scatterpolar": [
           {
            "marker": {
             "colorbar": {
              "outlinewidth": 0,
              "ticks": ""
             }
            },
            "type": "scatterpolar"
           }
          ],
          "scatterpolargl": [
           {
            "marker": {
             "colorbar": {
              "outlinewidth": 0,
              "ticks": ""
             }
            },
            "type": "scatterpolargl"
           }
          ],
          "scatterternary": [
           {
            "marker": {
             "colorbar": {
              "outlinewidth": 0,
              "ticks": ""
             }
            },
            "type": "scatterternary"
           }
          ],
          "surface": [
           {
            "colorbar": {
             "outlinewidth": 0,
             "ticks": ""
            },
            "colorscale": [
             [
              0,
              "#0d0887"
             ],
             [
              0.1111111111111111,
              "#46039f"
             ],
             [
              0.2222222222222222,
              "#7201a8"
             ],
             [
              0.3333333333333333,
              "#9c179e"
             ],
             [
              0.4444444444444444,
              "#bd3786"
             ],
             [
              0.5555555555555556,
              "#d8576b"
             ],
             [
              0.6666666666666666,
              "#ed7953"
             ],
             [
              0.7777777777777778,
              "#fb9f3a"
             ],
             [
              0.8888888888888888,
              "#fdca26"
             ],
             [
              1,
              "#f0f921"
             ]
            ],
            "type": "surface"
           }
          ],
          "table": [
           {
            "cells": {
             "fill": {
              "color": "#EBF0F8"
             },
             "line": {
              "color": "white"
             }
            },
            "header": {
             "fill": {
              "color": "#C8D4E3"
             },
             "line": {
              "color": "white"
             }
            },
            "type": "table"
           }
          ]
         },
         "layout": {
          "annotationdefaults": {
           "arrowcolor": "#2a3f5f",
           "arrowhead": 0,
           "arrowwidth": 1
          },
          "autotypenumbers": "strict",
          "coloraxis": {
           "colorbar": {
            "outlinewidth": 0,
            "ticks": ""
           }
          },
          "colorscale": {
           "diverging": [
            [
             0,
             "#8e0152"
            ],
            [
             0.1,
             "#c51b7d"
            ],
            [
             0.2,
             "#de77ae"
            ],
            [
             0.3,
             "#f1b6da"
            ],
            [
             0.4,
             "#fde0ef"
            ],
            [
             0.5,
             "#f7f7f7"
            ],
            [
             0.6,
             "#e6f5d0"
            ],
            [
             0.7,
             "#b8e186"
            ],
            [
             0.8,
             "#7fbc41"
            ],
            [
             0.9,
             "#4d9221"
            ],
            [
             1,
             "#276419"
            ]
           ],
           "sequential": [
            [
             0,
             "#0d0887"
            ],
            [
             0.1111111111111111,
             "#46039f"
            ],
            [
             0.2222222222222222,
             "#7201a8"
            ],
            [
             0.3333333333333333,
             "#9c179e"
            ],
            [
             0.4444444444444444,
             "#bd3786"
            ],
            [
             0.5555555555555556,
             "#d8576b"
            ],
            [
             0.6666666666666666,
             "#ed7953"
            ],
            [
             0.7777777777777778,
             "#fb9f3a"
            ],
            [
             0.8888888888888888,
             "#fdca26"
            ],
            [
             1,
             "#f0f921"
            ]
           ],
           "sequentialminus": [
            [
             0,
             "#0d0887"
            ],
            [
             0.1111111111111111,
             "#46039f"
            ],
            [
             0.2222222222222222,
             "#7201a8"
            ],
            [
             0.3333333333333333,
             "#9c179e"
            ],
            [
             0.4444444444444444,
             "#bd3786"
            ],
            [
             0.5555555555555556,
             "#d8576b"
            ],
            [
             0.6666666666666666,
             "#ed7953"
            ],
            [
             0.7777777777777778,
             "#fb9f3a"
            ],
            [
             0.8888888888888888,
             "#fdca26"
            ],
            [
             1,
             "#f0f921"
            ]
           ]
          },
          "colorway": [
           "#636efa",
           "#EF553B",
           "#00cc96",
           "#ab63fa",
           "#FFA15A",
           "#19d3f3",
           "#FF6692",
           "#B6E880",
           "#FF97FF",
           "#FECB52"
          ],
          "font": {
           "color": "#2a3f5f"
          },
          "geo": {
           "bgcolor": "white",
           "lakecolor": "white",
           "landcolor": "#E5ECF6",
           "showlakes": true,
           "showland": true,
           "subunitcolor": "white"
          },
          "hoverlabel": {
           "align": "left"
          },
          "hovermode": "closest",
          "mapbox": {
           "style": "light"
          },
          "paper_bgcolor": "white",
          "plot_bgcolor": "#E5ECF6",
          "polar": {
           "angularaxis": {
            "gridcolor": "white",
            "linecolor": "white",
            "ticks": ""
           },
           "bgcolor": "#E5ECF6",
           "radialaxis": {
            "gridcolor": "white",
            "linecolor": "white",
            "ticks": ""
           }
          },
          "scene": {
           "xaxis": {
            "backgroundcolor": "#E5ECF6",
            "gridcolor": "white",
            "gridwidth": 2,
            "linecolor": "white",
            "showbackground": true,
            "ticks": "",
            "zerolinecolor": "white"
           },
           "yaxis": {
            "backgroundcolor": "#E5ECF6",
            "gridcolor": "white",
            "gridwidth": 2,
            "linecolor": "white",
            "showbackground": true,
            "ticks": "",
            "zerolinecolor": "white"
           },
           "zaxis": {
            "backgroundcolor": "#E5ECF6",
            "gridcolor": "white",
            "gridwidth": 2,
            "linecolor": "white",
            "showbackground": true,
            "ticks": "",
            "zerolinecolor": "white"
           }
          },
          "shapedefaults": {
           "line": {
            "color": "#2a3f5f"
           }
          },
          "ternary": {
           "aaxis": {
            "gridcolor": "white",
            "linecolor": "white",
            "ticks": ""
           },
           "baxis": {
            "gridcolor": "white",
            "linecolor": "white",
            "ticks": ""
           },
           "bgcolor": "#E5ECF6",
           "caxis": {
            "gridcolor": "white",
            "linecolor": "white",
            "ticks": ""
           }
          },
          "title": {
           "x": 0.05
          },
          "xaxis": {
           "automargin": true,
           "gridcolor": "white",
           "linecolor": "white",
           "ticks": "",
           "title": {
            "standoff": 15
           },
           "zerolinecolor": "white",
           "zerolinewidth": 2
          },
          "yaxis": {
           "automargin": true,
           "gridcolor": "white",
           "linecolor": "white",
           "ticks": "",
           "title": {
            "standoff": 15
           },
           "zerolinecolor": "white",
           "zerolinewidth": 2
          }
         }
        },
        "title": {
         "font": {
          "size": 30
         },
         "text": "Sex-age pyramid"
        },
        "width": 1000,
        "xaxis": {
         "anchor": "y",
         "domain": [
          0,
          0.45
         ],
         "range": [
          -75,
          75
         ],
         "ticktext": [
          75,
          50,
          25,
          0,
          25,
          50,
          75
         ],
         "tickvals": [
          -75,
          -50,
          -25,
          0,
          25,
          50,
          75
         ],
         "title": {
          "text": "Number"
         }
        },
        "xaxis2": {
         "anchor": "y2",
         "domain": [
          0.55,
          1
         ],
         "range": [
          -75,
          75
         ],
         "ticktext": [
          75,
          50,
          25,
          0,
          25,
          50,
          75
         ],
         "tickvals": [
          -75,
          -50,
          -25,
          0,
          25,
          50,
          75
         ],
         "title": {
          "text": "Number"
         }
        },
        "yaxis": {
         "range": [
          -8,
          98
         ],
         "ticktext": [
          "0-10",
          "10-20",
          "20-30",
          "30-40",
          "40-50",
          "50-60",
          "60-70",
          "70-80"
         ],
         "tickvals": [
          0,
          10,
          20,
          30,
          40,
          50,
          60,
          70,
          80
         ],
         "title": {
          "text": "Age"
         }
        },
        "yaxis2": {
         "anchor": "x2",
         "domain": [
          0,
          1
         ],
         "matches": "y",
         "showticklabels": false
        }
       }
      }
     },
     "metadata": {},
     "output_type": "display_data"
    }
   ],
   "source": [
    "fig = make_subplots(\n",
    "    rows=1,\n",
    "    cols=2,\n",
    "    specs=[[{'type': 'bar'}, {'type': 'bar'}]],\n",
    "    subplot_titles=(\n",
    "        '1778 year',\n",
    "        '1897 year',\n",
    "    ),\n",
    "    shared_yaxes=True\n",
    ")\n",
    "\n",
    "fig.add_trace(\n",
    "    go.Bar(\n",
    "        y=bins,\n",
    "        x=men_ages_2,\n",
    "        orientation='h',\n",
    "        name='Men 1778',\n",
    "        hoverinfo='name+x',\n",
    "        marker=dict(color='#005f73')\n",
    "    ), row=1, col=1\n",
    "),\n",
    "\n",
    "fig.add_trace(\n",
    "    go.Bar(\n",
    "        y=bins,\n",
    "        x=women_ages_2,\n",
    "        orientation='h',\n",
    "        name='Women 1778',\n",
    "        textposition=None,\n",
    "        customdata=women_ages_2 * - 1,\n",
    "        hovertemplate='%{customdata}',\n",
    "        marker=dict(color='#ae2012')\n",
    "    ), row=1, col=1\n",
    ")\n",
    "\n",
    "fig.add_trace(\n",
    "    go.Bar(\n",
    "        y=bins,\n",
    "        x=men_ages_1,\n",
    "        orientation='h',\n",
    "        name='Men 1897',\n",
    "        hoverinfo='name+x',\n",
    "        marker=dict(color='#94d2bd')\n",
    "    ), row=1, col=2\n",
    ")\n",
    "\n",
    "fig.add_trace(\n",
    "    go.Bar(\n",
    "        y=bins,\n",
    "        x=women_ages_1,\n",
    "        orientation='h',\n",
    "        name='Women 1897',\n",
    "        hoverinfo='name',\n",
    "        customdata=women_ages_1 * - 1,\n",
    "        hovertemplate='%{customdata}',\n",
    "        textposition=None,\n",
    "        marker=dict(color='#ca6702')\n",
    "    ), row=1, col=2\n",
    ")\n",
    "\n",
    "xaxis = dict(\n",
    "    range=[-75, 75],\n",
    "    tickvals=[-75, -50, -25, 0, 25, 50, 75],\n",
    "    ticktext=[75, 50, 25, 0, 25, 50, 75],\n",
    "    title='Number'\n",
    ")\n",
    "\n",
    "fig.update_layout(\n",
    "    yaxis=go.layout.YAxis(title='Age', range=[-8, 98], tickvals=bins, ticktext=labels),\n",
    "    xaxis=dict(**xaxis),\n",
    "    xaxis2=dict(**xaxis),\n",
    "    title_text=\"Sex-age pyramid\",\n",
    "    title_font=dict(size=30),\n",
    "    height=500,\n",
    "    width=1000,\n",
    "    barmode='overlay',\n",
    "    bargap=0.1,\n",
    ")\n",
    "\n",
    "fig.show()"
   ]
  },
  {
   "cell_type": "markdown",
   "id": "0d0576a5",
   "metadata": {},
   "source": [
    "So mystically, there are only few women of 30-50 age in both years 🧐"
   ]
  },
  {
   "cell_type": "code",
   "execution_count": 53,
   "id": "89703bdd",
   "metadata": {},
   "outputs": [
    {
     "data": {
      "image/png": "[encoded data removed]",
      "text/plain": [
       "<Figure size 640x480 with 1 Axes>"
      ]
     },
     "metadata": {},
     "output_type": "display_data"
    }
   ],
   "source": [
    "people1_ages_df = people1_df.loc[:, ['age', 'sex']]\n",
    "people1_ages_df.loc[:, 'year'] = 1897\n",
    "people1_ages_df.loc[people1_ages_df.sex == 'm', 'sex'] = 'male'\n",
    "people1_ages_df.loc[people1_ages_df.sex == 'f', 'sex'] = 'female'\n",
    "\n",
    "people2_ages_df = people2_df.loc[:, ['age', 'sex']]\n",
    "people2_ages_df.loc[:, 'year'] = 1778\n",
    "people2_ages_df.loc[people2_ages_df.sex == 'm', 'sex'] = 'male'\n",
    "people2_ages_df.loc[people2_ages_df.sex == 'f', 'sex'] = 'female'\n",
    "\n",
    "data_concated_ages = pd.concat([people2_ages_df, people1_ages_df])\n",
    "\n",
    "plt.title('Age boxplot')\n",
    "sns.boxplot(\n",
    "    data=data_concated_ages,\n",
    "    y='age',\n",
    "    x='year',\n",
    "    hue='sex',\n",
    "    legend='brief',\n",
    "    palette=['#0a9396', '#bb3e03'],\n",
    ")\n",
    "sns.despine(offset=10, trim=True)\n",
    "plt.xlabel('Year')\n",
    "plt.ylabel('Age')\n",
    "plt.show()"
   ]
  },
  {
   "cell_type": "code",
   "execution_count": 30,
   "id": "ac9a316e",
   "metadata": {},
   "outputs": [
    {
     "name": "stdout",
     "output_type": "stream",
     "text": [
      "Some more statistics in 1778 and 1897 years:\n",
      "The average age - 23.53 and 25.42\n",
      "The number of people - 1597 and 1545\n",
      "The men proportion - 52.0% and 50.0%\n",
      "The men average age - 23.58 and 26.63\n",
      "The women average age - 23.47 and 24.2\n"
     ]
    }
   ],
   "source": [
    "mean_age1 = people1_df.age.mean()\n",
    "mean_age2 = people2_df.age.mean()\n",
    "\n",
    "people_count1 = people1_df.age.count()\n",
    "people_count2 = people2_df.age.count()\n",
    "\n",
    "men_count1 = men_ages_1.count()\n",
    "men_count2 = men_ages_2.count()\n",
    "\n",
    "mean_men1 = men_ages_1.mean()\n",
    "mean_men2 = men_ages_2.mean()\n",
    "\n",
    "mean_women1 = women_ages_1.mean() * -1\n",
    "mean_women2 = women_ages_2.mean() * -1\n",
    "\n",
    "print(\"Some more statistics in 1778 and 1897 years:\")\n",
    "print(f\"The average age - {round(mean_age2, 2)} and {round(mean_age1, 2)}\")\n",
    "print(f\"The number of people - {people_count2} and {people_count1}\")\n",
    "print(f\"The men proportion - {round(men_count2 / people_count2, 2) * 100}% and {round(men_count1 / people_count1, 2) * 100}%\")\n",
    "print(f\"The men average age - {round(mean_men2, 2)} and {round(mean_men1, 2)}\")\n",
    "print(f\"The women average age - {round(mean_women2, 2)} and {round(mean_women1, 2)}\")"
   ]
  },
  {
   "cell_type": "markdown",
   "id": "623ceaf2",
   "metadata": {},
   "source": [
    "### Family Size"
   ]
  },
  {
   "cell_type": "code",
   "execution_count": 50,
   "id": "992fe22e",
   "metadata": {},
   "outputs": [
    {
     "data": {
      "image/png": "[encoded data removed]",
      "text/plain": [
       "<Figure size 640x480 with 1 Axes>"
      ]
     },
     "metadata": {},
     "output_type": "display_data"
    }
   ],
   "source": [
    "family_size_counts_1 = people1_df.groupby('household_id')['id'] \\\n",
    "    .count() \\\n",
    "    .reset_index() \\\n",
    "    .rename(columns={'id': 'count'}) \\\n",
    "    .sort_values('count')\n",
    "\n",
    "family_size_counts_1.loc[:, 'year'] = 1897\n",
    "\n",
    "family_size_counts_2 = people2_df.groupby('household_id')['id'] \\\n",
    "    .count() \\\n",
    "    .reset_index() \\\n",
    "    .rename(columns={'id': 'count'}) \\\n",
    "    .sort_values('count')\n",
    "\n",
    "family_size_counts_2.loc[:, 'year'] = 1778\n",
    "\n",
    "family_size = pd.concat([family_size_counts_1, family_size_counts_2])\n",
    "\n",
    "plt.title('Log Density plot of family size in 1778/1897 years')\n",
    "ax = sns.kdeplot(\n",
    "    data=family_size,\n",
    "    x='count',\n",
    "    hue='year',\n",
    "    log_scale=True,\n",
    "    fill=True,\n",
    "    alpha=0.7,\n",
    "    palette=['#0a9396', '#bb3e03']\n",
    ")\n",
    "plt.xlabel('Log Count')\n",
    "plt.show()"
   ]
  },
  {
   "cell_type": "markdown",
   "id": "d701f6fd",
   "metadata": {},
   "source": [
    "In 1778 the family could include even **100 members**, so it is why the blue graph is wide and due to it, it is better to use the log scale"
   ]
  },
  {
   "cell_type": "code",
   "execution_count": 58,
   "id": "d2c74133",
   "metadata": {},
   "outputs": [
    {
     "name": "stdout",
     "output_type": "stream",
     "text": [
      "The average family size in 1778 is 15.21\n",
      "And the average family size in 1897 is 5.94\n"
     ]
    }
   ],
   "source": [
    "print(f\"The average family size in 1778 is {round(family_size_counts_2['count'].mean(), 2)}\")\n",
    "print(f\"And the average family size in 1897 is {round(family_size_counts_1['count'].mean(), 2)}\")"
   ]
  },
  {
   "cell_type": "markdown",
   "id": "4a2c6c71",
   "metadata": {},
   "source": [
    "### Family Total Structure Comparison"
   ]
  },
  {
   "cell_type": "code",
   "execution_count": 32,
   "id": "a0b555ff",
   "metadata": {},
   "outputs": [
    {
     "data": {
      "text/html": [
       "<div>\n",
       "<style scoped>\n",
       "    .dataframe tbody tr th:only-of-type {\n",
       "        vertical-align: middle;\n",
       "    }\n",
       "\n",
       "    .dataframe tbody tr th {\n",
       "        vertical-align: top;\n",
       "    }\n",
       "\n",
       "    .dataframe thead th {\n",
       "        text-align: right;\n",
       "    }\n",
       "</style>\n",
       "<table border=\"1\" class=\"dataframe\">\n",
       "  <thead>\n",
       "    <tr style=\"text-align: right;\">\n",
       "      <th></th>\n",
       "      <th>category</th>\n",
       "      <th>class</th>\n",
       "      <th>class_count</th>\n",
       "      <th>category_percentage</th>\n",
       "      <th>class_percentage</th>\n",
       "      <th>category_total_count</th>\n",
       "    </tr>\n",
       "  </thead>\n",
       "  <tbody>\n",
       "    <tr>\n",
       "      <th>0</th>\n",
       "      <td>Самотні особи</td>\n",
       "      <td>1a Вдови і вдівці</td>\n",
       "      <td>0</td>\n",
       "      <td>0.0</td>\n",
       "      <td>0.0</td>\n",
       "      <td>0.0</td>\n",
       "    </tr>\n",
       "    <tr>\n",
       "      <th>1</th>\n",
       "      <td>Самотні особи</td>\n",
       "      <td>1b Нежонаті, або неокресленого цивільного стану</td>\n",
       "      <td>0</td>\n",
       "      <td>0.0</td>\n",
       "      <td>0.0</td>\n",
       "      <td>0.0</td>\n",
       "    </tr>\n",
       "    <tr>\n",
       "      <th>2</th>\n",
       "      <td>Безструктурні</td>\n",
       "      <td>2a Нежонаті брати і сестри, які живуть разом</td>\n",
       "      <td>0</td>\n",
       "      <td>0.0</td>\n",
       "      <td>0.0</td>\n",
       "      <td>0.0</td>\n",
       "    </tr>\n",
       "    <tr>\n",
       "      <th>3</th>\n",
       "      <td>Безструктурні</td>\n",
       "      <td>2b Інші кревні, які живуть разом</td>\n",
       "      <td>0</td>\n",
       "      <td>0.0</td>\n",
       "      <td>0.0</td>\n",
       "      <td>0.0</td>\n",
       "    </tr>\n",
       "    <tr>\n",
       "      <th>4</th>\n",
       "      <td>Нуклеарні</td>\n",
       "      <td>3a Шлюбі пари без дітей</td>\n",
       "      <td>1</td>\n",
       "      <td>18.9</td>\n",
       "      <td>0.9</td>\n",
       "      <td>21.0</td>\n",
       "    </tr>\n",
       "    <tr>\n",
       "      <th>5</th>\n",
       "      <td>Нуклеарні</td>\n",
       "      <td>3b Шлюбні пари з дітьми</td>\n",
       "      <td>19</td>\n",
       "      <td>18.9</td>\n",
       "      <td>17.1</td>\n",
       "      <td>21.0</td>\n",
       "    </tr>\n",
       "    <tr>\n",
       "      <th>6</th>\n",
       "      <td>Нуклеарні</td>\n",
       "      <td>3c Вдівці з дітьми</td>\n",
       "      <td>0</td>\n",
       "      <td>18.9</td>\n",
       "      <td>0.0</td>\n",
       "      <td>21.0</td>\n",
       "    </tr>\n",
       "    <tr>\n",
       "      <th>7</th>\n",
       "      <td>Нуклеарні</td>\n",
       "      <td>3d Вдови з дітьми</td>\n",
       "      <td>1</td>\n",
       "      <td>18.9</td>\n",
       "      <td>0.9</td>\n",
       "      <td>21.0</td>\n",
       "    </tr>\n",
       "    <tr>\n",
       "      <th>8</th>\n",
       "      <td>Розширені</td>\n",
       "      <td>4a Родини з висхідним розширенням</td>\n",
       "      <td>1</td>\n",
       "      <td>1.8</td>\n",
       "      <td>0.9</td>\n",
       "      <td>2.0</td>\n",
       "    </tr>\n",
       "    <tr>\n",
       "      <th>9</th>\n",
       "      <td>Розширені</td>\n",
       "      <td>4b Родини з низхідним розширенням</td>\n",
       "      <td>0</td>\n",
       "      <td>1.8</td>\n",
       "      <td>0.0</td>\n",
       "      <td>2.0</td>\n",
       "    </tr>\n",
       "    <tr>\n",
       "      <th>10</th>\n",
       "      <td>Розширені</td>\n",
       "      <td>4c Родини з бічним розширенням</td>\n",
       "      <td>1</td>\n",
       "      <td>1.8</td>\n",
       "      <td>0.9</td>\n",
       "      <td>2.0</td>\n",
       "    </tr>\n",
       "    <tr>\n",
       "      <th>11</th>\n",
       "      <td>Розширені</td>\n",
       "      <td>4d Комбінація 4a-4c</td>\n",
       "      <td>0</td>\n",
       "      <td>1.8</td>\n",
       "      <td>0.0</td>\n",
       "      <td>2.0</td>\n",
       "    </tr>\n",
       "    <tr>\n",
       "      <th>12</th>\n",
       "      <td>Мультифокальні</td>\n",
       "      <td>5a Родини з висхідними другорядними ядрами</td>\n",
       "      <td>1</td>\n",
       "      <td>79.3</td>\n",
       "      <td>0.9</td>\n",
       "      <td>88.0</td>\n",
       "    </tr>\n",
       "    <tr>\n",
       "      <th>13</th>\n",
       "      <td>Мультифокальні</td>\n",
       "      <td>5b Родини з низхідними другорядними ядрами</td>\n",
       "      <td>10</td>\n",
       "      <td>79.3</td>\n",
       "      <td>9.0</td>\n",
       "      <td>88.0</td>\n",
       "    </tr>\n",
       "    <tr>\n",
       "      <th>14</th>\n",
       "      <td>Мультифокальні</td>\n",
       "      <td>5c Родини з бічними другорядними ядрами</td>\n",
       "      <td>7</td>\n",
       "      <td>79.3</td>\n",
       "      <td>6.3</td>\n",
       "      <td>88.0</td>\n",
       "    </tr>\n",
       "    <tr>\n",
       "      <th>15</th>\n",
       "      <td>Мультифокальні</td>\n",
       "      <td>5d Братські родини</td>\n",
       "      <td>12</td>\n",
       "      <td>79.3</td>\n",
       "      <td>10.8</td>\n",
       "      <td>88.0</td>\n",
       "    </tr>\n",
       "    <tr>\n",
       "      <th>16</th>\n",
       "      <td>Мультифокальні</td>\n",
       "      <td>5e Інші</td>\n",
       "      <td>58</td>\n",
       "      <td>79.3</td>\n",
       "      <td>52.3</td>\n",
       "      <td>88.0</td>\n",
       "    </tr>\n",
       "  </tbody>\n",
       "</table>\n",
       "</div>"
      ],
      "text/plain": [
       "          category                                            class  \\\n",
       "0    Самотні особи                                1a Вдови і вдівці   \n",
       "1    Самотні особи  1b Нежонаті, або неокресленого цивільного стану   \n",
       "2    Безструктурні     2a Нежонаті брати і сестри, які живуть разом   \n",
       "3    Безструктурні                 2b Інші кревні, які живуть разом   \n",
       "4        Нуклеарні                          3a Шлюбі пари без дітей   \n",
       "5        Нуклеарні                          3b Шлюбні пари з дітьми   \n",
       "6        Нуклеарні                               3c Вдівці з дітьми   \n",
       "7        Нуклеарні                                3d Вдови з дітьми   \n",
       "8        Розширені                4a Родини з висхідним розширенням   \n",
       "9        Розширені                4b Родини з низхідним розширенням   \n",
       "10       Розширені                   4c Родини з бічним розширенням   \n",
       "11       Розширені                              4d Комбінація 4a-4c   \n",
       "12  Мультифокальні       5a Родини з висхідними другорядними ядрами   \n",
       "13  Мультифокальні       5b Родини з низхідними другорядними ядрами   \n",
       "14  Мультифокальні          5c Родини з бічними другорядними ядрами   \n",
       "15  Мультифокальні                               5d Братські родини   \n",
       "16  Мультифокальні                                          5e Інші   \n",
       "\n",
       "    class_count  category_percentage  class_percentage  category_total_count  \n",
       "0             0                  0.0               0.0                   0.0  \n",
       "1             0                  0.0               0.0                   0.0  \n",
       "2             0                  0.0               0.0                   0.0  \n",
       "3             0                  0.0               0.0                   0.0  \n",
       "4             1                 18.9               0.9                  21.0  \n",
       "5            19                 18.9              17.1                  21.0  \n",
       "6             0                 18.9               0.0                  21.0  \n",
       "7             1                 18.9               0.9                  21.0  \n",
       "8             1                  1.8               0.9                   2.0  \n",
       "9             0                  1.8               0.0                   2.0  \n",
       "10            1                  1.8               0.9                   2.0  \n",
       "11            0                  1.8               0.0                   2.0  \n",
       "12            1                 79.3               0.9                  88.0  \n",
       "13           10                 79.3               9.0                  88.0  \n",
       "14            7                 79.3               6.3                  88.0  \n",
       "15           12                 79.3              10.8                  88.0  \n",
       "16           58                 79.3              52.3                  88.0  "
      ]
     },
     "execution_count": 32,
     "metadata": {},
     "output_type": "execute_result"
    }
   ],
   "source": [
    "family_total_structure_2_df"
   ]
  },
  {
   "cell_type": "code",
   "execution_count": 33,
   "id": "758a4a52",
   "metadata": {},
   "outputs": [
    {
     "data": {
      "application/vnd.plotly.v1+json": {
       "config": {
        "plotlyServerURL": "https://plot.ly"
       },
       "data": [
        {
         "domain": {
          "x": [
           0.55,
           1
          ],
          "y": [
           0.575,
           1
          ]
         },
         "hole": 0.3,
         "hoverinfo": "label+percent",
         "labels": [
          "Самотні особи",
          "Безструктурні",
          "Нуклеарні",
          "Розширені",
          "Мультифокальні"
         ],
         "marker": {
          "colors": [
           "#001219",
           "#0a9396",
           "#e9d8a6",
           "#ca6702",
           "#ae2012"
          ],
          "line": {
           "color": "#000000",
           "width": 2
          }
         },
         "textfont": {
          "size": 20
         },
         "textinfo": "value",
         "textposition": "inside",
         "type": "pie",
         "values": {
          "bdata": "AAAAAAAA8D8AAAAAAEBWQAAAAAAAQFxAAAAAAAAASkAAAAAAAAAUQA==",
          "dtype": "f8"
         }
        },
        {
         "domain": {
          "x": [
           0,
           0.45
          ],
          "y": [
           0.575,
           1
          ]
         },
         "hole": 0.3,
         "hoverinfo": "label+percent",
         "labels": [
          "Самотні особи",
          "Безструктурні",
          "Нуклеарні",
          "Розширені",
          "Мультифокальні"
         ],
         "marker": {
          "colors": [
           "#001219",
           "#0a9396",
           "#e9d8a6",
           "#ca6702",
           "#ae2012"
          ],
          "line": {
           "color": "#000000",
           "width": 2
          }
         },
         "textfont": {
          "size": 20
         },
         "textinfo": "value",
         "textposition": "inside",
         "type": "pie",
         "values": {
          "bdata": "AAAAAAAAAAAAAAAAAABWQAAAAAAAADVAAAAAAAAAAEAAAAAAAAAAAA==",
          "dtype": "f8"
         }
        },
        {
         "marker": {
          "color": "#9b2226"
         },
         "name": "1778",
         "textposition": "inside",
         "type": "bar",
         "x": [
          "1a Вдови і вдівці",
          "1b Нежонаті, або неокресленого цивільного стану",
          "2a Нежонаті брати і сестри, які живуть разом",
          "2b Інші кревні, які живуть разом",
          "3a Шлюбі пари без дітей",
          "3b Шлюбні пари з дітьми",
          "3c Вдівці з дітьми",
          "3d Вдови з дітьми",
          "4a Родини з висхідним розширенням",
          "4b Родини з низхідним розширенням",
          "4c Родини з бічним розширенням",
          "4d Комбінація 4a-4c",
          "5a Родини з висхідними другорядними ядрами",
          "5b Родини з низхідними другорядними ядрами",
          "5c Родини з бічними другорядними ядрами",
          "5d Братські родини",
          "5e Інші"
         ],
         "xaxis": "x",
         "y": {
          "bdata": "AAAAAAAAAAAAAAAAAAAAAAAAAAAAAAAAAAAAAAAAAAA830+Nl26CPxfZzvdT48U/AAAAAAAAAAA830+Nl26CPzzfT42XboI/AAAAAAAAAAA830+Nl26CPwAAAAAAAAAAPN9PjZdugj8K16NwPQq3P1TjpZvEILA/2s73U+Oluz8j2/l+arzgPw==",
          "dtype": "f8"
         },
         "yaxis": "y"
        },
        {
         "marker": {
          "color": "#005f73"
         },
         "name": "1897",
         "textposition": "inside",
         "type": "bar",
         "x": [
          "1a Вдови і вдівці",
          "1b Нежонаті, або неокресленого цивільного стану",
          "2a Нежонаті брати і сестри, які живуть разом",
          "2b Інші кревні, які живуть разом",
          "3a Шлюбі пари без дітей",
          "3b Шлюбні пари з дітьми",
          "3c Вдівці з дітьми",
          "3d Вдови з дітьми",
          "4a Родини з висхідним розширенням",
          "4b Родини з низхідним розширенням",
          "4c Родини з бічним розширенням",
          "4d Комбінація 4a-4c",
          "5a Родини з висхідними другорядними ядрами",
          "5b Родини з низхідними другорядними ядрами",
          "5c Родини з бічними другорядними ядрами",
          "5d Братські родини",
          "5e Інші"
         ],
         "xaxis": "x",
         "y": {
          "bdata": "+n5qvHSTiD/8qfHSTWKAPwAAAAAAAAAA/Knx0k1icD8bL90kBoGlP3E9CtejcNU/+n5qvHSTiD9aZDvfT42nP3E9CtejcL0/uB6F61G4jj/azvdT46WrP7gehetRuI4/WDm0yHa+nz8UrkfhehTOP1pkO99PjZc/7FG4HoXroT/b+X5qvHSTPw==",
          "dtype": "f8"
         },
         "yaxis": "y"
        }
       ],
       "layout": {
        "annotations": [
         {
          "font": {
           "size": 16
          },
          "showarrow": false,
          "text": "People category distribution in 1778",
          "x": 0.225,
          "xanchor": "center",
          "xref": "paper",
          "y": 1,
          "yanchor": "bottom",
          "yref": "paper"
         },
         {
          "font": {
           "size": 16
          },
          "showarrow": false,
          "text": "People category distribution in 1897",
          "x": 0.775,
          "xanchor": "center",
          "xref": "paper",
          "y": 1,
          "yanchor": "bottom",
          "yref": "paper"
         },
         {
          "font": {
           "size": 16
          },
          "showarrow": false,
          "text": "People class distribution in 1778/1897",
          "x": 0.5,
          "xanchor": "center",
          "xref": "paper",
          "y": 0.425,
          "yanchor": "bottom",
          "yref": "paper"
         }
        ],
        "barmode": "group",
        "height": 900,
        "template": {
         "data": {
          "bar": [
           {
            "error_x": {
             "color": "#2a3f5f"
            },
            "error_y": {
             "color": "#2a3f5f"
            },
            "marker": {
             "line": {
              "color": "#E5ECF6",
              "width": 0.5
             },
             "pattern": {
              "fillmode": "overlay",
              "size": 10,
              "solidity": 0.2
             }
            },
            "type": "bar"
           }
          ],
          "barpolar": [
           {
            "marker": {
             "line": {
              "color": "#E5ECF6",
              "width": 0.5
             },
             "pattern": {
              "fillmode": "overlay",
              "size": 10,
              "solidity": 0.2
             }
            },
            "type": "barpolar"
           }
          ],
          "carpet": [
           {
            "aaxis": {
             "endlinecolor": "#2a3f5f",
             "gridcolor": "white",
             "linecolor": "white",
             "minorgridcolor": "white",
             "startlinecolor": "#2a3f5f"
            },
            "baxis": {
             "endlinecolor": "#2a3f5f",
             "gridcolor": "white",
             "linecolor": "white",
             "minorgridcolor": "white",
             "startlinecolor": "#2a3f5f"
            },
            "type": "carpet"
           }
          ],
          "choropleth": [
           {
            "colorbar": {
             "outlinewidth": 0,
             "ticks": ""
            },
            "type": "choropleth"
           }
          ],
          "contour": [
           {
            "colorbar": {
             "outlinewidth": 0,
             "ticks": ""
            },
            "colorscale": [
             [
              0,
              "#0d0887"
             ],
             [
              0.1111111111111111,
              "#46039f"
             ],
             [
              0.2222222222222222,
              "#7201a8"
             ],
             [
              0.3333333333333333,
              "#9c179e"
             ],
             [
              0.4444444444444444,
              "#bd3786"
             ],
             [
              0.5555555555555556,
              "#d8576b"
             ],
             [
              0.6666666666666666,
              "#ed7953"
             ],
             [
              0.7777777777777778,
              "#fb9f3a"
             ],
             [
              0.8888888888888888,
              "#fdca26"
             ],
             [
              1,
              "#f0f921"
             ]
            ],
            "type": "contour"
           }
          ],
          "contourcarpet": [
           {
            "colorbar": {
             "outlinewidth": 0,
             "ticks": ""
            },
            "type": "contourcarpet"
           }
          ],
          "heatmap": [
           {
            "colorbar": {
             "outlinewidth": 0,
             "ticks": ""
            },
            "colorscale": [
             [
              0,
              "#0d0887"
             ],
             [
              0.1111111111111111,
              "#46039f"
             ],
             [
              0.2222222222222222,
              "#7201a8"
             ],
             [
              0.3333333333333333,
              "#9c179e"
             ],
             [
              0.4444444444444444,
              "#bd3786"
             ],
             [
              0.5555555555555556,
              "#d8576b"
             ],
             [
              0.6666666666666666,
              "#ed7953"
             ],
             [
              0.7777777777777778,
              "#fb9f3a"
             ],
             [
              0.8888888888888888,
              "#fdca26"
             ],
             [
              1,
              "#f0f921"
             ]
            ],
            "type": "heatmap"
           }
          ],
          "histogram": [
           {
            "marker": {
             "pattern": {
              "fillmode": "overlay",
              "size": 10,
              "solidity": 0.2
             }
            },
            "type": "histogram"
           }
          ],
          "histogram2d": [
           {
            "colorbar": {
             "outlinewidth": 0,
             "ticks": ""
            },
            "colorscale": [
             [
              0,
              "#0d0887"
             ],
             [
              0.1111111111111111,
              "#46039f"
             ],
             [
              0.2222222222222222,
              "#7201a8"
             ],
             [
              0.3333333333333333,
              "#9c179e"
             ],
             [
              0.4444444444444444,
              "#bd3786"
             ],
             [
              0.5555555555555556,
              "#d8576b"
             ],
             [
              0.6666666666666666,
              "#ed7953"
             ],
             [
              0.7777777777777778,
              "#fb9f3a"
             ],
             [
              0.8888888888888888,
              "#fdca26"
             ],
             [
              1,
              "#f0f921"
             ]
            ],
            "type": "histogram2d"
           }
          ],
          "histogram2dcontour": [
           {
            "colorbar": {
             "outlinewidth": 0,
             "ticks": ""
            },
            "colorscale": [
             [
              0,
              "#0d0887"
             ],
             [
              0.1111111111111111,
              "#46039f"
             ],
             [
              0.2222222222222222,
              "#7201a8"
             ],
             [
              0.3333333333333333,
              "#9c179e"
             ],
             [
              0.4444444444444444,
              "#bd3786"
             ],
             [
              0.5555555555555556,
              "#d8576b"
             ],
             [
              0.6666666666666666,
              "#ed7953"
             ],
             [
              0.7777777777777778,
              "#fb9f3a"
             ],
             [
              0.8888888888888888,
              "#fdca26"
             ],
             [
              1,
              "#f0f921"
             ]
            ],
            "type": "histogram2dcontour"
           }
          ],
          "mesh3d": [
           {
            "colorbar": {
             "outlinewidth": 0,
             "ticks": ""
            },
            "type": "mesh3d"
           }
          ],
          "parcoords": [
           {
            "line": {
             "colorbar": {
              "outlinewidth": 0,
              "ticks": ""
             }
            },
            "type": "parcoords"
           }
          ],
          "pie": [
           {
            "automargin": true,
            "type": "pie"
           }
          ],
          "scatter": [
           {
            "fillpattern": {
             "fillmode": "overlay",
             "size": 10,
             "solidity": 0.2
            },
            "type": "scatter"
           }
          ],
          "scatter3d": [
           {
            "line": {
             "colorbar": {
              "outlinewidth": 0,
              "ticks": ""
             }
            },
            "marker": {
             "colorbar": {
              "outlinewidth": 0,
              "ticks": ""
             }
            },
            "type": "scatter3d"
           }
          ],
          "scattercarpet": [
           {
            "marker": {
             "colorbar": {
              "outlinewidth": 0,
              "ticks": ""
             }
            },
            "type": "scattercarpet"
           }
          ],
          "scattergeo": [
           {
            "marker": {
             "colorbar": {
              "outlinewidth": 0,
              "ticks": ""
             }
            },
            "type": "scattergeo"
           }
          ],
          "scattergl": [
           {
            "marker": {
             "colorbar": {
              "outlinewidth": 0,
              "ticks": ""
             }
            },
            "type": "scattergl"
           }
          ],
          "scattermap": [
           {
            "marker": {
             "colorbar": {
              "outlinewidth": 0,
              "ticks": ""
             }
            },
            "type": "scattermap"
           }
          ],
          "scattermapbox": [
           {
            "marker": {
             "colorbar": {
              "outlinewidth": 0,
              "ticks": ""
             }
            },
            "type": "scattermapbox"
           }
          ],
          "scatterpolar": [
           {
            "marker": {
             "colorbar": {
              "outlinewidth": 0,
              "ticks": ""
             }
            },
            "type": "scatterpolar"
           }
          ],
          "scatterpolargl": [
           {
            "marker": {
             "colorbar": {
              "outlinewidth": 0,
              "ticks": ""
             }
            },
            "type": "scatterpolargl"
           }
          ],
          "scatterternary": [
           {
            "marker": {
             "colorbar": {
              "outlinewidth": 0,
              "ticks": ""
             }
            },
            "type": "scatterternary"
           }
          ],
          "surface": [
           {
            "colorbar": {
             "outlinewidth": 0,
             "ticks": ""
            },
            "colorscale": [
             [
              0,
              "#0d0887"
             ],
             [
              0.1111111111111111,
              "#46039f"
             ],
             [
              0.2222222222222222,
              "#7201a8"
             ],
             [
              0.3333333333333333,
              "#9c179e"
             ],
             [
              0.4444444444444444,
              "#bd3786"
             ],
             [
              0.5555555555555556,
              "#d8576b"
             ],
             [
              0.6666666666666666,
              "#ed7953"
             ],
             [
              0.7777777777777778,
              "#fb9f3a"
             ],
             [
              0.8888888888888888,
              "#fdca26"
             ],
             [
              1,
              "#f0f921"
             ]
            ],
            "type": "surface"
           }
          ],
          "table": [
           {
            "cells": {
             "fill": {
              "color": "#EBF0F8"
             },
             "line": {
              "color": "white"
             }
            },
            "header": {
             "fill": {
              "color": "#C8D4E3"
             },
             "line": {
              "color": "white"
             }
            },
            "type": "table"
           }
          ]
         },
         "layout": {
          "annotationdefaults": {
           "arrowcolor": "#2a3f5f",
           "arrowhead": 0,
           "arrowwidth": 1
          },
          "autotypenumbers": "strict",
          "coloraxis": {
           "colorbar": {
            "outlinewidth": 0,
            "ticks": ""
           }
          },
          "colorscale": {
           "diverging": [
            [
             0,
             "#8e0152"
            ],
            [
             0.1,
             "#c51b7d"
            ],
            [
             0.2,
             "#de77ae"
            ],
            [
             0.3,
             "#f1b6da"
            ],
            [
             0.4,
             "#fde0ef"
            ],
            [
             0.5,
             "#f7f7f7"
            ],
            [
             0.6,
             "#e6f5d0"
            ],
            [
             0.7,
             "#b8e186"
            ],
            [
             0.8,
             "#7fbc41"
            ],
            [
             0.9,
             "#4d9221"
            ],
            [
             1,
             "#276419"
            ]
           ],
           "sequential": [
            [
             0,
             "#0d0887"
            ],
            [
             0.1111111111111111,
             "#46039f"
            ],
            [
             0.2222222222222222,
             "#7201a8"
            ],
            [
             0.3333333333333333,
             "#9c179e"
            ],
            [
             0.4444444444444444,
             "#bd3786"
            ],
            [
             0.5555555555555556,
             "#d8576b"
            ],
            [
             0.6666666666666666,
             "#ed7953"
            ],
            [
             0.7777777777777778,
             "#fb9f3a"
            ],
            [
             0.8888888888888888,
             "#fdca26"
            ],
            [
             1,
             "#f0f921"
            ]
           ],
           "sequentialminus": [
            [
             0,
             "#0d0887"
            ],
            [
             0.1111111111111111,
             "#46039f"
            ],
            [
             0.2222222222222222,
             "#7201a8"
            ],
            [
             0.3333333333333333,
             "#9c179e"
            ],
            [
             0.4444444444444444,
             "#bd3786"
            ],
            [
             0.5555555555555556,
             "#d8576b"
            ],
            [
             0.6666666666666666,
             "#ed7953"
            ],
            [
             0.7777777777777778,
             "#fb9f3a"
            ],
            [
             0.8888888888888888,
             "#fdca26"
            ],
            [
             1,
             "#f0f921"
            ]
           ]
          },
          "colorway": [
           "#636efa",
           "#EF553B",
           "#00cc96",
           "#ab63fa",
           "#FFA15A",
           "#19d3f3",
           "#FF6692",
           "#B6E880",
           "#FF97FF",
           "#FECB52"
          ],
          "font": {
           "color": "#2a3f5f"
          },
          "geo": {
           "bgcolor": "white",
           "lakecolor": "white",
           "landcolor": "#E5ECF6",
           "showlakes": true,
           "showland": true,
           "subunitcolor": "white"
          },
          "hoverlabel": {
           "align": "left"
          },
          "hovermode": "closest",
          "mapbox": {
           "style": "light"
          },
          "paper_bgcolor": "white",
          "plot_bgcolor": "#E5ECF6",
          "polar": {
           "angularaxis": {
            "gridcolor": "white",
            "linecolor": "white",
            "ticks": ""
           },
           "bgcolor": "#E5ECF6",
           "radialaxis": {
            "gridcolor": "white",
            "linecolor": "white",
            "ticks": ""
           }
          },
          "scene": {
           "xaxis": {
            "backgroundcolor": "#E5ECF6",
            "gridcolor": "white",
            "gridwidth": 2,
            "linecolor": "white",
            "showbackground": true,
            "ticks": "",
            "zerolinecolor": "white"
           },
           "yaxis": {
            "backgroundcolor": "#E5ECF6",
            "gridcolor": "white",
            "gridwidth": 2,
            "linecolor": "white",
            "showbackground": true,
            "ticks": "",
            "zerolinecolor": "white"
           },
           "zaxis": {
            "backgroundcolor": "#E5ECF6",
            "gridcolor": "white",
            "gridwidth": 2,
            "linecolor": "white",
            "showbackground": true,
            "ticks": "",
            "zerolinecolor": "white"
           }
          },
          "shapedefaults": {
           "line": {
            "color": "#2a3f5f"
           }
          },
          "ternary": {
           "aaxis": {
            "gridcolor": "white",
            "linecolor": "white",
            "ticks": ""
           },
           "baxis": {
            "gridcolor": "white",
            "linecolor": "white",
            "ticks": ""
           },
           "bgcolor": "#E5ECF6",
           "caxis": {
            "gridcolor": "white",
            "linecolor": "white",
            "ticks": ""
           }
          },
          "title": {
           "x": 0.05
          },
          "xaxis": {
           "automargin": true,
           "gridcolor": "white",
           "linecolor": "white",
           "ticks": "",
           "title": {
            "standoff": 15
           },
           "zerolinecolor": "white",
           "zerolinewidth": 2
          },
          "yaxis": {
           "automargin": true,
           "gridcolor": "white",
           "linecolor": "white",
           "ticks": "",
           "title": {
            "standoff": 15
           },
           "zerolinecolor": "white",
           "zerolinewidth": 2
          }
         }
        },
        "uniformtext": {
         "minsize": 12,
         "mode": "hide"
        },
        "width": 1000,
        "xaxis": {
         "anchor": "y",
         "domain": [
          0,
          1
         ]
        },
        "yaxis": {
         "anchor": "x",
         "domain": [
          0,
          0.425
         ],
         "tickformat": ".0%"
        }
       }
      }
     },
     "metadata": {},
     "output_type": "display_data"
    }
   ],
   "source": [
    "fig = make_subplots(\n",
    "    rows=2,\n",
    "    cols=2,\n",
    "    specs=[[{'type': 'pie'}, {'type': 'pie'}], [{'type': 'bar', 'colspan': 2}, None]],\n",
    "    subplot_titles=(\n",
    "        'People category distribution in 1778',\n",
    "        'People category distribution in 1897',\n",
    "        'People class distribution in 1778/1897'\n",
    "    ),\n",
    "    vertical_spacing=0.15\n",
    ")\n",
    "\n",
    "pie_colors = ['#001219', '#0a9396', '#e9d8a6', '#ca6702', '#ae2012']\n",
    "\n",
    "fig.add_trace(\n",
    "    go.Pie(\n",
    "        labels=family_total_structure_1_df.category.unique(),\n",
    "        values=family_total_structure_1_df.groupby('category')['category_total_count'] \\\n",
    "            .first() \\\n",
    "            .reset_index() \\\n",
    "            ['category_total_count'],\n",
    "        textinfo='value',\n",
    "        hoverinfo='label+percent',\n",
    "        marker=dict(colors=pie_colors, line=dict(color='#000000', width=2)),\n",
    "        textfont_size=20,\n",
    "        hole=0.3\n",
    "    ),\n",
    "    row=1, col=2\n",
    ")\n",
    "\n",
    "fig.add_trace(\n",
    "    go.Pie(\n",
    "        labels=family_total_structure_2_df.category.unique(),\n",
    "        values=family_total_structure_2_df.groupby('category')['category_total_count'] \\\n",
    "            .first() \\\n",
    "            .reset_index() \\\n",
    "            ['category_total_count'],\n",
    "        textinfo='value',\n",
    "        hoverinfo='label+percent',\n",
    "        marker=dict(colors=pie_colors, line=dict(color='#000000', width=2)),\n",
    "        textfont_size=20,\n",
    "        hole=0.3\n",
    "    ),\n",
    "    row=1, col=1\n",
    ")\n",
    "\n",
    "fig.add_trace(\n",
    "    go.Bar(\n",
    "        name='1778',\n",
    "        x=family_total_structure_2_df.loc[:, 'class'],\n",
    "        y=family_total_structure_2_df.loc[:, 'class_percentage'] / 100,\n",
    "        marker_color='#9b2226'\n",
    "    ),\n",
    "    row=2, col='all'\n",
    ")\n",
    "\n",
    "fig.add_trace(\n",
    "    go.Bar(\n",
    "        name='1897',\n",
    "        x=family_total_structure_1_df.loc[:, 'class'],\n",
    "        y=family_total_structure_1_df.loc[:, 'class_percentage'] / 100,\n",
    "        marker_color='#005f73'\n",
    "    ),\n",
    "    row=2, col='all'\n",
    ")\n",
    "\n",
    "fig.update_yaxes(\n",
    "    tickformat=\".0%\",\n",
    ")\n",
    "\n",
    "fig.update_traces(textposition='inside')\n",
    "fig.update_layout(\n",
    "    barmode='group',\n",
    "    height=900,\n",
    "    width=1000,\n",
    "    uniformtext_minsize=12,\n",
    "    uniformtext_mode='hide',\n",
    ")\n",
    "\n",
    "fig.show()"
   ]
  },
  {
   "cell_type": "markdown",
   "id": "9ad17256",
   "metadata": {},
   "source": [
    "Family structure in 1778 was very broad and included a large circle of relatives, so about 52% families in 1778 were remarked as \"other\" class. And to 1897 the number of nuclear, total and expanded families was highly increased  "
   ]
  },
  {
   "cell_type": "markdown",
   "id": "e137a594",
   "metadata": {},
   "source": [
    "### Surname Comparison"
   ]
  },
  {
   "cell_type": "code",
   "execution_count": 35,
   "id": "52cd8255",
   "metadata": {},
   "outputs": [],
   "source": [
    "auth_key = os.getenv('AUTH_KEY')"
   ]
  },
  {
   "cell_type": "code",
   "execution_count": 36,
   "id": "00ff2f7b",
   "metadata": {},
   "outputs": [],
   "source": [
    "deepl_client = deepl.DeepLClient(auth_key)"
   ]
  },
  {
   "cell_type": "markdown",
   "id": "518ff4b6",
   "metadata": {},
   "source": [
    "To decrease the number of requests and the time of translating let's translate only the male surname of each household "
   ]
  },
  {
   "cell_type": "code",
   "execution_count": 37,
   "id": "38b4a851",
   "metadata": {},
   "outputs": [
    {
     "ename": "TooManyRequestsException",
     "evalue": "Too many requests, DeepL servers are currently experiencing high load",
     "output_type": "error",
     "traceback": [
      "\u001b[31m---------------------------------------------------------------------------\u001b[39m",
      "\u001b[31mTooManyRequestsException\u001b[39m                  Traceback (most recent call last)",
      "\u001b[36mCell\u001b[39m\u001b[36m \u001b[39m\u001b[32mIn[37]\u001b[39m\u001b[32m, line 7\u001b[39m\n\u001b[32m      1\u001b[39m surnames_1 = people1_df[people1_df.sex == \u001b[33m'\u001b[39m\u001b[33mm\u001b[39m\u001b[33m'\u001b[39m] \\\n\u001b[32m      2\u001b[39m     .groupby([\u001b[33m'\u001b[39m\u001b[33mhousehold_id\u001b[39m\u001b[33m'\u001b[39m])[\u001b[33m'\u001b[39m\u001b[33msurname\u001b[39m\u001b[33m'\u001b[39m] \\\n\u001b[32m      3\u001b[39m     .first() \\\n\u001b[32m      4\u001b[39m     .reset_index()\n\u001b[32m      6\u001b[39m surnames_1.loc[:, \u001b[33m'\u001b[39m\u001b[33msurname_translated\u001b[39m\u001b[33m'\u001b[39m] = \u001b[33m'\u001b[39m\u001b[33m'\u001b[39m\n\u001b[32m----> \u001b[39m\u001b[32m7\u001b[39m surnames_1.loc[:, \u001b[33m'\u001b[39m\u001b[33msurname_translated\u001b[39m\u001b[33m'\u001b[39m] = \u001b[43msurnames_1\u001b[49m\u001b[43m.\u001b[49m\u001b[43msurname\u001b[49m\u001b[43m.\u001b[49m\u001b[43mapply\u001b[49m\u001b[43m(\u001b[49m\u001b[38;5;28;43;01mlambda\u001b[39;49;00m\u001b[43m \u001b[49m\u001b[43mx\u001b[49m\u001b[43m:\u001b[49m\u001b[43m \u001b[49m\u001b[43mdeepl_client\u001b[49m\u001b[43m.\u001b[49m\u001b[43mtranslate_text\u001b[49m\u001b[43m(\u001b[49m\u001b[43mx\u001b[49m\u001b[43m,\u001b[49m\u001b[43m \u001b[49m\u001b[43mtarget_lang\u001b[49m\u001b[43m=\u001b[49m\u001b[33;43m\"\u001b[39;49m\u001b[33;43mUK\u001b[39;49m\u001b[33;43m\"\u001b[39;49m\u001b[43m)\u001b[49m\u001b[43m.\u001b[49m\u001b[43mtext\u001b[49m\u001b[43m)\u001b[49m\n",
      "\u001b[36mFile \u001b[39m\u001b[32m~/Documents/Workspace/KSE/dm/final-project/venv/lib/python3.12/site-packages/pandas/core/series.py:4935\u001b[39m, in \u001b[36mSeries.apply\u001b[39m\u001b[34m(self, func, convert_dtype, args, by_row, **kwargs)\u001b[39m\n\u001b[32m   4800\u001b[39m \u001b[38;5;28;01mdef\u001b[39;00m\u001b[38;5;250m \u001b[39m\u001b[34mapply\u001b[39m(\n\u001b[32m   4801\u001b[39m     \u001b[38;5;28mself\u001b[39m,\n\u001b[32m   4802\u001b[39m     func: AggFuncType,\n\u001b[32m   (...)\u001b[39m\u001b[32m   4807\u001b[39m     **kwargs,\n\u001b[32m   4808\u001b[39m ) -> DataFrame | Series:\n\u001b[32m   4809\u001b[39m \u001b[38;5;250m    \u001b[39m\u001b[33;03m\"\"\"\u001b[39;00m\n\u001b[32m   4810\u001b[39m \u001b[33;03m    Invoke function on values of Series.\u001b[39;00m\n\u001b[32m   4811\u001b[39m \n\u001b[32m   (...)\u001b[39m\u001b[32m   4926\u001b[39m \u001b[33;03m    dtype: float64\u001b[39;00m\n\u001b[32m   4927\u001b[39m \u001b[33;03m    \"\"\"\u001b[39;00m\n\u001b[32m   4928\u001b[39m     \u001b[38;5;28;01mreturn\u001b[39;00m \u001b[43mSeriesApply\u001b[49m\u001b[43m(\u001b[49m\n\u001b[32m   4929\u001b[39m \u001b[43m        \u001b[49m\u001b[38;5;28;43mself\u001b[39;49m\u001b[43m,\u001b[49m\n\u001b[32m   4930\u001b[39m \u001b[43m        \u001b[49m\u001b[43mfunc\u001b[49m\u001b[43m,\u001b[49m\n\u001b[32m   4931\u001b[39m \u001b[43m        \u001b[49m\u001b[43mconvert_dtype\u001b[49m\u001b[43m=\u001b[49m\u001b[43mconvert_dtype\u001b[49m\u001b[43m,\u001b[49m\n\u001b[32m   4932\u001b[39m \u001b[43m        \u001b[49m\u001b[43mby_row\u001b[49m\u001b[43m=\u001b[49m\u001b[43mby_row\u001b[49m\u001b[43m,\u001b[49m\n\u001b[32m   4933\u001b[39m \u001b[43m        \u001b[49m\u001b[43margs\u001b[49m\u001b[43m=\u001b[49m\u001b[43margs\u001b[49m\u001b[43m,\u001b[49m\n\u001b[32m   4934\u001b[39m \u001b[43m        \u001b[49m\u001b[43mkwargs\u001b[49m\u001b[43m=\u001b[49m\u001b[43mkwargs\u001b[49m\u001b[43m,\u001b[49m\n\u001b[32m-> \u001b[39m\u001b[32m4935\u001b[39m \u001b[43m    \u001b[49m\u001b[43m)\u001b[49m\u001b[43m.\u001b[49m\u001b[43mapply\u001b[49m\u001b[43m(\u001b[49m\u001b[43m)\u001b[49m\n",
      "\u001b[36mFile \u001b[39m\u001b[32m~/Documents/Workspace/KSE/dm/final-project/venv/lib/python3.12/site-packages/pandas/core/apply.py:1422\u001b[39m, in \u001b[36mSeriesApply.apply\u001b[39m\u001b[34m(self)\u001b[39m\n\u001b[32m   1419\u001b[39m     \u001b[38;5;28;01mreturn\u001b[39;00m \u001b[38;5;28mself\u001b[39m.apply_compat()\n\u001b[32m   1421\u001b[39m \u001b[38;5;66;03m# self.func is Callable\u001b[39;00m\n\u001b[32m-> \u001b[39m\u001b[32m1422\u001b[39m \u001b[38;5;28;01mreturn\u001b[39;00m \u001b[38;5;28;43mself\u001b[39;49m\u001b[43m.\u001b[49m\u001b[43mapply_standard\u001b[49m\u001b[43m(\u001b[49m\u001b[43m)\u001b[49m\n",
      "\u001b[36mFile \u001b[39m\u001b[32m~/Documents/Workspace/KSE/dm/final-project/venv/lib/python3.12/site-packages/pandas/core/apply.py:1502\u001b[39m, in \u001b[36mSeriesApply.apply_standard\u001b[39m\u001b[34m(self)\u001b[39m\n\u001b[32m   1496\u001b[39m \u001b[38;5;66;03m# row-wise access\u001b[39;00m\n\u001b[32m   1497\u001b[39m \u001b[38;5;66;03m# apply doesn't have a `na_action` keyword and for backward compat reasons\u001b[39;00m\n\u001b[32m   1498\u001b[39m \u001b[38;5;66;03m# we need to give `na_action=\"ignore\"` for categorical data.\u001b[39;00m\n\u001b[32m   1499\u001b[39m \u001b[38;5;66;03m# TODO: remove the `na_action=\"ignore\"` when that default has been changed in\u001b[39;00m\n\u001b[32m   1500\u001b[39m \u001b[38;5;66;03m#  Categorical (GH51645).\u001b[39;00m\n\u001b[32m   1501\u001b[39m action = \u001b[33m\"\u001b[39m\u001b[33mignore\u001b[39m\u001b[33m\"\u001b[39m \u001b[38;5;28;01mif\u001b[39;00m \u001b[38;5;28misinstance\u001b[39m(obj.dtype, CategoricalDtype) \u001b[38;5;28;01melse\u001b[39;00m \u001b[38;5;28;01mNone\u001b[39;00m\n\u001b[32m-> \u001b[39m\u001b[32m1502\u001b[39m mapped = \u001b[43mobj\u001b[49m\u001b[43m.\u001b[49m\u001b[43m_map_values\u001b[49m\u001b[43m(\u001b[49m\n\u001b[32m   1503\u001b[39m \u001b[43m    \u001b[49m\u001b[43mmapper\u001b[49m\u001b[43m=\u001b[49m\u001b[43mcurried\u001b[49m\u001b[43m,\u001b[49m\u001b[43m \u001b[49m\u001b[43mna_action\u001b[49m\u001b[43m=\u001b[49m\u001b[43maction\u001b[49m\u001b[43m,\u001b[49m\u001b[43m \u001b[49m\u001b[43mconvert\u001b[49m\u001b[43m=\u001b[49m\u001b[38;5;28;43mself\u001b[39;49m\u001b[43m.\u001b[49m\u001b[43mconvert_dtype\u001b[49m\n\u001b[32m   1504\u001b[39m \u001b[43m\u001b[49m\u001b[43m)\u001b[49m\n\u001b[32m   1506\u001b[39m \u001b[38;5;28;01mif\u001b[39;00m \u001b[38;5;28mlen\u001b[39m(mapped) \u001b[38;5;129;01mand\u001b[39;00m \u001b[38;5;28misinstance\u001b[39m(mapped[\u001b[32m0\u001b[39m], ABCSeries):\n\u001b[32m   1507\u001b[39m     \u001b[38;5;66;03m# GH#43986 Need to do list(mapped) in order to get treated as nested\u001b[39;00m\n\u001b[32m   1508\u001b[39m     \u001b[38;5;66;03m#  See also GH#25959 regarding EA support\u001b[39;00m\n\u001b[32m   1509\u001b[39m     \u001b[38;5;28;01mreturn\u001b[39;00m obj._constructor_expanddim(\u001b[38;5;28mlist\u001b[39m(mapped), index=obj.index)\n",
      "\u001b[36mFile \u001b[39m\u001b[32m~/Documents/Workspace/KSE/dm/final-project/venv/lib/python3.12/site-packages/pandas/core/base.py:925\u001b[39m, in \u001b[36mIndexOpsMixin._map_values\u001b[39m\u001b[34m(self, mapper, na_action, convert)\u001b[39m\n\u001b[32m    922\u001b[39m \u001b[38;5;28;01mif\u001b[39;00m \u001b[38;5;28misinstance\u001b[39m(arr, ExtensionArray):\n\u001b[32m    923\u001b[39m     \u001b[38;5;28;01mreturn\u001b[39;00m arr.map(mapper, na_action=na_action)\n\u001b[32m--> \u001b[39m\u001b[32m925\u001b[39m \u001b[38;5;28;01mreturn\u001b[39;00m \u001b[43malgorithms\u001b[49m\u001b[43m.\u001b[49m\u001b[43mmap_array\u001b[49m\u001b[43m(\u001b[49m\u001b[43marr\u001b[49m\u001b[43m,\u001b[49m\u001b[43m \u001b[49m\u001b[43mmapper\u001b[49m\u001b[43m,\u001b[49m\u001b[43m \u001b[49m\u001b[43mna_action\u001b[49m\u001b[43m=\u001b[49m\u001b[43mna_action\u001b[49m\u001b[43m,\u001b[49m\u001b[43m \u001b[49m\u001b[43mconvert\u001b[49m\u001b[43m=\u001b[49m\u001b[43mconvert\u001b[49m\u001b[43m)\u001b[49m\n",
      "\u001b[36mFile \u001b[39m\u001b[32m~/Documents/Workspace/KSE/dm/final-project/venv/lib/python3.12/site-packages/pandas/core/algorithms.py:1743\u001b[39m, in \u001b[36mmap_array\u001b[39m\u001b[34m(arr, mapper, na_action, convert)\u001b[39m\n\u001b[32m   1741\u001b[39m values = arr.astype(\u001b[38;5;28mobject\u001b[39m, copy=\u001b[38;5;28;01mFalse\u001b[39;00m)\n\u001b[32m   1742\u001b[39m \u001b[38;5;28;01mif\u001b[39;00m na_action \u001b[38;5;129;01mis\u001b[39;00m \u001b[38;5;28;01mNone\u001b[39;00m:\n\u001b[32m-> \u001b[39m\u001b[32m1743\u001b[39m     \u001b[38;5;28;01mreturn\u001b[39;00m \u001b[43mlib\u001b[49m\u001b[43m.\u001b[49m\u001b[43mmap_infer\u001b[49m\u001b[43m(\u001b[49m\u001b[43mvalues\u001b[49m\u001b[43m,\u001b[49m\u001b[43m \u001b[49m\u001b[43mmapper\u001b[49m\u001b[43m,\u001b[49m\u001b[43m \u001b[49m\u001b[43mconvert\u001b[49m\u001b[43m=\u001b[49m\u001b[43mconvert\u001b[49m\u001b[43m)\u001b[49m\n\u001b[32m   1744\u001b[39m \u001b[38;5;28;01melse\u001b[39;00m:\n\u001b[32m   1745\u001b[39m     \u001b[38;5;28;01mreturn\u001b[39;00m lib.map_infer_mask(\n\u001b[32m   1746\u001b[39m         values, mapper, mask=isna(values).view(np.uint8), convert=convert\n\u001b[32m   1747\u001b[39m     )\n",
      "\u001b[36mFile \u001b[39m\u001b[32mpandas/_libs/lib.pyx:2999\u001b[39m, in \u001b[36mpandas._libs.lib.map_infer\u001b[39m\u001b[34m()\u001b[39m\n",
      "\u001b[36mCell\u001b[39m\u001b[36m \u001b[39m\u001b[32mIn[37]\u001b[39m\u001b[32m, line 7\u001b[39m, in \u001b[36m<lambda>\u001b[39m\u001b[34m(x)\u001b[39m\n\u001b[32m      1\u001b[39m surnames_1 = people1_df[people1_df.sex == \u001b[33m'\u001b[39m\u001b[33mm\u001b[39m\u001b[33m'\u001b[39m] \\\n\u001b[32m      2\u001b[39m     .groupby([\u001b[33m'\u001b[39m\u001b[33mhousehold_id\u001b[39m\u001b[33m'\u001b[39m])[\u001b[33m'\u001b[39m\u001b[33msurname\u001b[39m\u001b[33m'\u001b[39m] \\\n\u001b[32m      3\u001b[39m     .first() \\\n\u001b[32m      4\u001b[39m     .reset_index()\n\u001b[32m      6\u001b[39m surnames_1.loc[:, \u001b[33m'\u001b[39m\u001b[33msurname_translated\u001b[39m\u001b[33m'\u001b[39m] = \u001b[33m'\u001b[39m\u001b[33m'\u001b[39m\n\u001b[32m----> \u001b[39m\u001b[32m7\u001b[39m surnames_1.loc[:, \u001b[33m'\u001b[39m\u001b[33msurname_translated\u001b[39m\u001b[33m'\u001b[39m] = surnames_1.surname.apply(\u001b[38;5;28;01mlambda\u001b[39;00m x: \u001b[43mdeepl_client\u001b[49m\u001b[43m.\u001b[49m\u001b[43mtranslate_text\u001b[49m\u001b[43m(\u001b[49m\u001b[43mx\u001b[49m\u001b[43m,\u001b[49m\u001b[43m \u001b[49m\u001b[43mtarget_lang\u001b[49m\u001b[43m=\u001b[49m\u001b[33;43m\"\u001b[39;49m\u001b[33;43mUK\u001b[39;49m\u001b[33;43m\"\u001b[39;49m\u001b[43m)\u001b[49m.text)\n",
      "\u001b[36mFile \u001b[39m\u001b[32m~/Documents/Workspace/KSE/dm/final-project/venv/lib/python3.12/site-packages/deepl/translator.py:474\u001b[39m, in \u001b[36mTranslator.translate_text\u001b[39m\u001b[34m(self, text, source_lang, target_lang, context, split_sentences, preserve_formatting, formality, glossary, tag_handling, outline_detection, non_splitting_tags, splitting_tags, ignore_tags, model_type)\u001b[39m\n\u001b[32m    468\u001b[39m     request_data[\u001b[33m\"\u001b[39m\u001b[33mignore_tags\u001b[39m\u001b[33m\"\u001b[39m] = join_tags(ignore_tags)\n\u001b[32m    470\u001b[39m status, content, json = \u001b[38;5;28mself\u001b[39m._api_call(\n\u001b[32m    471\u001b[39m     \u001b[33m\"\u001b[39m\u001b[33mv2/translate\u001b[39m\u001b[33m\"\u001b[39m, json=request_data\n\u001b[32m    472\u001b[39m )\n\u001b[32m--> \u001b[39m\u001b[32m474\u001b[39m \u001b[38;5;28;43mself\u001b[39;49m\u001b[43m.\u001b[49m\u001b[43m_raise_for_status\u001b[49m\u001b[43m(\u001b[49m\u001b[43mstatus\u001b[49m\u001b[43m,\u001b[49m\u001b[43m \u001b[49m\u001b[43mcontent\u001b[49m\u001b[43m,\u001b[49m\u001b[43m \u001b[49m\u001b[43mjson\u001b[49m\u001b[43m)\u001b[49m\n\u001b[32m    476\u001b[39m translations = (\n\u001b[32m    477\u001b[39m     json.get(\u001b[33m\"\u001b[39m\u001b[33mtranslations\u001b[39m\u001b[33m\"\u001b[39m, [])\n\u001b[32m    478\u001b[39m     \u001b[38;5;28;01mif\u001b[39;00m (json \u001b[38;5;129;01mand\u001b[39;00m \u001b[38;5;28misinstance\u001b[39m(json, \u001b[38;5;28mdict\u001b[39m))\n\u001b[32m    479\u001b[39m     \u001b[38;5;28;01melse\u001b[39;00m []\n\u001b[32m    480\u001b[39m )\n\u001b[32m    481\u001b[39m output = []\n",
      "\u001b[36mFile \u001b[39m\u001b[32m~/Documents/Workspace/KSE/dm/final-project/venv/lib/python3.12/site-packages/deepl/translator.py:209\u001b[39m, in \u001b[36mTranslator._raise_for_status\u001b[39m\u001b[34m(self, status_code, content, json, glossary, downloading_document)\u001b[39m\n\u001b[32m    205\u001b[39m     \u001b[38;5;28;01mraise\u001b[39;00m DeepLException(\n\u001b[32m    206\u001b[39m         \u001b[33mf\u001b[39m\u001b[33m\"\u001b[39m\u001b[33mBad request\u001b[39m\u001b[38;5;132;01m{\u001b[39;00mmessage\u001b[38;5;132;01m}\u001b[39;00m\u001b[33m\"\u001b[39m, http_status_code=status_code\n\u001b[32m    207\u001b[39m     )\n\u001b[32m    208\u001b[39m \u001b[38;5;28;01melif\u001b[39;00m status_code == http.HTTPStatus.TOO_MANY_REQUESTS:\n\u001b[32m--> \u001b[39m\u001b[32m209\u001b[39m     \u001b[38;5;28;01mraise\u001b[39;00m TooManyRequestsException(\n\u001b[32m    210\u001b[39m         \u001b[33m\"\u001b[39m\u001b[33mToo many requests, DeepL servers are currently experiencing \u001b[39m\u001b[33m\"\u001b[39m\n\u001b[32m    211\u001b[39m         \u001b[33mf\u001b[39m\u001b[33m\"\u001b[39m\u001b[33mhigh load\u001b[39m\u001b[38;5;132;01m{\u001b[39;00mmessage\u001b[38;5;132;01m}\u001b[39;00m\u001b[33m\"\u001b[39m,\n\u001b[32m    212\u001b[39m         should_retry=\u001b[38;5;28;01mTrue\u001b[39;00m,\n\u001b[32m    213\u001b[39m         http_status_code=status_code,\n\u001b[32m    214\u001b[39m     )\n\u001b[32m    215\u001b[39m \u001b[38;5;28;01melif\u001b[39;00m status_code == http.HTTPStatus.SERVICE_UNAVAILABLE:\n\u001b[32m    216\u001b[39m     \u001b[38;5;28;01mif\u001b[39;00m downloading_document:\n",
      "\u001b[31mTooManyRequestsException\u001b[39m: Too many requests, DeepL servers are currently experiencing high load"
     ]
    }
   ],
   "source": [
    "surnames_1 = people1_df[people1_df.sex == 'm'] \\\n",
    "    .groupby(['household_id'])['surname'] \\\n",
    "    .first() \\\n",
    "    .reset_index()\n",
    "\n",
    "surnames_1.loc[:, 'surname_translated'] = ''\n",
    "surnames_1.loc[:, 'surname_translated'] = surnames_1.surname.apply(lambda x: deepl_client.translate_text(x, target_lang=\"UK\").text)"
   ]
  },
  {
   "cell_type": "code",
   "execution_count": null,
   "id": "55e69c50",
   "metadata": {},
   "outputs": [],
   "source": [
    "surnames_2 = people2_df.groupby(['household_id'])['surname'] \\\n",
    "    .first() \\\n",
    "    .reset_index() \\\n",
    "    ['surname']"
   ]
  },
  {
   "cell_type": "code",
   "execution_count": null,
   "id": "72f3f7bf",
   "metadata": {},
   "outputs": [
    {
     "data": {
      "text/plain": [
       "(260, 105)"
      ]
     },
     "execution_count": 115,
     "metadata": {},
     "output_type": "execute_result"
    }
   ],
   "source": [
    "(len(surnames_1), len(surnames_2))"
   ]
  },
  {
   "cell_type": "code",
   "execution_count": null,
   "id": "a0a0c4a3",
   "metadata": {},
   "outputs": [],
   "source": [
    "surnames_1 = pd.Series(surnames_1['surname_translated'].str.lower())\n",
    "surnames_2 = surnames_2.str.lower()"
   ]
  },
  {
   "cell_type": "code",
   "execution_count": null,
   "id": "e7621648",
   "metadata": {},
   "outputs": [
    {
     "ename": "AttributeError",
     "evalue": "'DataFrame' object has no attribute 'str'",
     "output_type": "error",
     "traceback": [
      "\u001b[31m---------------------------------------------------------------------------\u001b[39m",
      "\u001b[31mAttributeError\u001b[39m                            Traceback (most recent call last)",
      "\u001b[32m/tmp/ipykernel_49432/1062065064.py\u001b[39m in \u001b[36m?\u001b[39m\u001b[34m()\u001b[39m\n\u001b[32m      1\u001b[39m \u001b[38;5;66;03m# Not include last symbols at the end of the word\u001b[39;00m\n\u001b[32m----> \u001b[39m\u001b[32m2\u001b[39m surnames_1 = surnames_1.str.extract(\u001b[33mr'(\\w+)'\u001b[39m, expand=\u001b[38;5;28;01mFalse\u001b[39;00m)\n\u001b[32m      3\u001b[39m surnames_2 = surnames_2.str.extract(\u001b[33mr'(\\w+)'\u001b[39m, expand=\u001b[38;5;28;01mFalse\u001b[39;00m)\n",
      "\u001b[32m~/Documents/Workspace/KSE/dm/final-project/venv/lib/python3.12/site-packages/pandas/core/generic.py\u001b[39m in \u001b[36m?\u001b[39m\u001b[34m(self, name)\u001b[39m\n\u001b[32m   6314\u001b[39m             \u001b[38;5;28;01mand\u001b[39;00m name \u001b[38;5;28;01mnot\u001b[39;00m \u001b[38;5;28;01min\u001b[39;00m self._accessors\n\u001b[32m   6315\u001b[39m             \u001b[38;5;28;01mand\u001b[39;00m self._info_axis._can_hold_identifiers_and_holds_name(name)\n\u001b[32m   6316\u001b[39m         ):\n\u001b[32m   6317\u001b[39m             \u001b[38;5;28;01mreturn\u001b[39;00m self[name]\n\u001b[32m-> \u001b[39m\u001b[32m6318\u001b[39m         \u001b[38;5;28;01mreturn\u001b[39;00m object.__getattribute__(self, name)\n",
      "\u001b[31mAttributeError\u001b[39m: 'DataFrame' object has no attribute 'str'"
     ]
    }
   ],
   "source": [
    "# Not include last symbols at the end of the word\n",
    "surnames_1 = surnames_1.str.extract(r'(\\w+)', expand=False)\n",
    "surnames_2 = surnames_2.str.extract(r'(\\w+)', expand=False)"
   ]
  },
  {
   "cell_type": "code",
   "execution_count": null,
   "id": "4c54a12e",
   "metadata": {},
   "outputs": [
    {
     "name": "stdout",
     "output_type": "stream",
     "text": [
      "лукашевич\n",
      "овсеенко\n",
      "старченко\n",
      "василенко\n",
      "гайворонец\n",
      "хоменко\n",
      "лещенко\n",
      "цикаль\n",
      "науменко\n",
      "оноприенко\n",
      "дручок\n",
      "гаевой\n",
      "середа\n",
      "скорупа\n",
      "дяталь\n",
      "сковей\n",
      "илляшенко\n",
      "корсун\n",
      "корсун\n",
      "лукаш\n",
      "герасименко\n",
      "красовский\n",
      "игнатенко\n",
      "оксененко\n",
      "бабич\n",
      "смычок\n",
      "резниченко\n",
      "давиденко\n",
      "кириченкова\n",
      "телюга\n",
      "савченко\n",
      "корсун\n",
      "москалец\n",
      "мочалкина\n",
      "герасименко\n",
      "манко\n",
      "московченко\n",
      "довгополый\n",
      "бондарец\n",
      "григориев\n",
      "гаркун\n",
      "малафеев\n",
      "московченко\n",
      "вороненко\n",
      "панченко\n",
      "шкоменкова\n",
      "мехедон\n",
      "бабенко\n",
      "шевченко\n",
      "рожен\n",
      "хвиленко\n",
      "коваль\n",
      "козел\n",
      "прокопец\n",
      "мехедон\n",
      "кулиш\n",
      "лаврентиев\n",
      "воробей\n",
      "тищенко\n",
      "малафеев\n",
      "гладченко\n",
      "рудичка\n",
      "гайдук\n",
      "бойченко\n",
      "созон\n",
      "гаврись\n",
      "трембач\n",
      "воробей\n",
      "мехедон\n",
      "позняк\n",
      "позняк\n",
      "савченко\n",
      "бортник\n",
      "бортник\n",
      "матюшенко\n",
      "мурашка\n",
      "литвак\n",
      "блин\n",
      "бырин\n",
      "игнатенко\n",
      "бобарус\n",
      "лоцман\n",
      "мяхкин\n",
      "заика\n",
      "печений\n",
      "загребельный\n",
      "мищенко\n",
      "кульбачник\n",
      "андрущенко\n",
      "николченко\n",
      "кантрибуц\n",
      "швец\n",
      "попченко\n",
      "майдан\n",
      "визюн\n",
      "сорокапуд\n",
      "ковалиха\n",
      "лобач\n",
      "рибальченко\n",
      "литовка\n",
      "столяр\n",
      "майданенко\n",
      "кислая\n",
      "кислая\n",
      "мерник\n"
     ]
    }
   ],
   "source": [
    "similar_surnames_text = ''\n",
    "\n",
    "for surname in list(surnames_2):\n",
    "    if surname in set(surnames_1):\n",
    "        similar_surnames_text += surname + ' '"
   ]
  },
  {
   "cell_type": "markdown",
   "id": "dd8a5527",
   "metadata": {},
   "source": [
    "Let's see the word cloud of the most similar surnames that there are in both years"
   ]
  },
  {
   "cell_type": "code",
   "execution_count": null,
   "id": "c9ac1670",
   "metadata": {},
   "outputs": [
    {
     "data": {
      "image/png": "[encoded data removed]",
      "text/plain": [
       "<Figure size 1000x500 with 1 Axes>"
      ]
     },
     "metadata": {},
     "output_type": "display_data"
    }
   ],
   "source": [
    "wordcloud = WordCloud(width=800, height=400, background_color='white').generate(similar_surnames_text)\n",
    "\n",
    "plt.figure(figsize=(10, 5))\n",
    "plt.imshow(wordcloud, interpolation='bilinear')\n",
    "plt.axis('off')\n",
    "plt.show()"
   ]
  },
  {
   "cell_type": "markdown",
   "id": "97ff3bf4",
   "metadata": {},
   "source": [
    "It is *so* sadly to see \"московченко\" here, but it is the reality 😩"
   ]
  },
  {
   "cell_type": "markdown",
   "id": "98d84199",
   "metadata": {},
   "source": [
    "## Conclusions"
   ]
  },
  {
   "cell_type": "markdown",
   "id": "1f19b203",
   "metadata": {},
   "source": [
    "Using preprocessed data and the listed visualizations we can make the next conclusions:\n",
    "1) The average age and sex ratio are remained stable ;\n",
    "2) The sex ratio proportion is almost the same (≈ 1);\n",
    "3) The family size during the period was highly decreased (from 15 => 6);\n",
    "4) The percentage of nuclear and expanded families was highly increased (from 19% => 43.5%, and from 1.8% => 20% respectively)\n",
    "5) The percentage of \"other\" family class was extremely decreased (from 58% => 2%), and so the percentage of the others classes was increase (particularly for \"3b Шлюбні пари з дітьми\" and for \"5b Родини з низхідними другорядними ядрама\")\n",
    "6) The most common surnames in both years are: Позняк, Московченко, Воробей, Бортник... "
   ]
  }
 ],
 "metadata": {
  "kernelspec": {
   "display_name": "venv",
   "language": "python",
   "name": "python3"
  },
  "language_info": {
   "codemirror_mode": {
    "name": "ipython",
    "version": 3
   },
   "file_extension": ".py",
   "mimetype": "text/x-python",
   "name": "python",
   "nbconvert_exporter": "python",
   "pygments_lexer": "ipython3",
   "version": "3.12.3"
  }
 },
 "nbformat": 4,
 "nbformat_minor": 5
}
