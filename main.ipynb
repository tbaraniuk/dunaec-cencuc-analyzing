{
 "cells": [
  {
   "cell_type": "markdown",
   "id": "1ec8b6de",
   "metadata": {},
   "source": [
    "# Census Analyzing in the Dunaec village (1778/1897)"
   ]
  },
  {
   "cell_type": "markdown",
   "id": "5d1c83f2",
   "metadata": {},
   "source": [
    "The village of Dunaec is the **only** settlement from the former Hetmanate whose census records from 1778 and 1897 have been preserved in Ukraine.\n",
    "\n",
    "The aim of this notebook is to cover the next questions:\n",
    "- The gender ratio of different age groups, how it has changed over a hundred years;\n",
    "- Family structure and size; how it has changed over the past hundred years;\n",
    "- Which surnames or families from both databases can be linked;\n"
   ]
  },
  {
   "cell_type": "markdown",
   "id": "229814be",
   "metadata": {},
   "source": [
    "## Imprort Libraries"
   ]
  },
  {
   "cell_type": "code",
   "execution_count": 59,
   "id": "7541c996",
   "metadata": {},
   "outputs": [
    {
     "name": "stdout",
     "output_type": "stream",
     "text": [
      "Requirement already satisfied: pandas in ./venv/lib/python3.12/site-packages (2.3.1)\n",
      "Requirement already satisfied: numpy in ./venv/lib/python3.12/site-packages (2.3.1)\n",
      "Requirement already satisfied: matplotlib in ./venv/lib/python3.12/site-packages (3.10.3)\n",
      "Requirement already satisfied: seaborn in ./venv/lib/python3.12/site-packages (0.13.2)\n",
      "Requirement already satisfied: plotly in ./venv/lib/python3.12/site-packages (6.2.0)\n",
      "Requirement already satisfied: nbformat in ./venv/lib/python3.12/site-packages (5.10.4)\n",
      "Requirement already satisfied: deepl in ./venv/lib/python3.12/site-packages (1.22.0)\n",
      "Requirement already satisfied: dotenv in ./venv/lib/python3.12/site-packages (0.9.9)\n",
      "Requirement already satisfied: wordcloud in ./venv/lib/python3.12/site-packages (1.9.4)\n",
      "Requirement already satisfied: python-dateutil>=2.8.2 in ./venv/lib/python3.12/site-packages (from pandas) (2.9.0.post0)\n",
      "Requirement already satisfied: pytz>=2020.1 in ./venv/lib/python3.12/site-packages (from pandas) (2025.2)\n",
      "Requirement already satisfied: tzdata>=2022.7 in ./venv/lib/python3.12/site-packages (from pandas) (2025.2)\n",
      "Requirement already satisfied: contourpy>=1.0.1 in ./venv/lib/python3.12/site-packages (from matplotlib) (1.3.2)\n",
      "Requirement already satisfied: cycler>=0.10 in ./venv/lib/python3.12/site-packages (from matplotlib) (0.12.1)\n",
      "Requirement already satisfied: fonttools>=4.22.0 in ./venv/lib/python3.12/site-packages (from matplotlib) (4.58.5)\n",
      "Requirement already satisfied: kiwisolver>=1.3.1 in ./venv/lib/python3.12/site-packages (from matplotlib) (1.4.8)\n",
      "Requirement already satisfied: packaging>=20.0 in ./venv/lib/python3.12/site-packages (from matplotlib) (25.0)\n",
      "Requirement already satisfied: pillow>=8 in ./venv/lib/python3.12/site-packages (from matplotlib) (11.3.0)\n",
      "Requirement already satisfied: pyparsing>=2.3.1 in ./venv/lib/python3.12/site-packages (from matplotlib) (3.2.3)\n",
      "Requirement already satisfied: narwhals>=1.15.1 in ./venv/lib/python3.12/site-packages (from plotly) (1.46.0)\n",
      "Requirement already satisfied: fastjsonschema>=2.15 in ./venv/lib/python3.12/site-packages (from nbformat) (2.21.1)\n",
      "Requirement already satisfied: jsonschema>=2.6 in ./venv/lib/python3.12/site-packages (from nbformat) (4.24.0)\n",
      "Requirement already satisfied: jupyter-core!=5.0.*,>=4.12 in ./venv/lib/python3.12/site-packages (from nbformat) (5.8.1)\n",
      "Requirement already satisfied: traitlets>=5.1 in ./venv/lib/python3.12/site-packages (from nbformat) (5.14.3)\n",
      "Requirement already satisfied: requests<3,>=2 in ./venv/lib/python3.12/site-packages (from deepl) (2.32.4)\n",
      "Requirement already satisfied: python-dotenv in ./venv/lib/python3.12/site-packages (from dotenv) (1.1.1)\n",
      "Requirement already satisfied: attrs>=22.2.0 in ./venv/lib/python3.12/site-packages (from jsonschema>=2.6->nbformat) (25.3.0)\n",
      "Requirement already satisfied: jsonschema-specifications>=2023.03.6 in ./venv/lib/python3.12/site-packages (from jsonschema>=2.6->nbformat) (2025.4.1)\n",
      "Requirement already satisfied: referencing>=0.28.4 in ./venv/lib/python3.12/site-packages (from jsonschema>=2.6->nbformat) (0.36.2)\n",
      "Requirement already satisfied: rpds-py>=0.7.1 in ./venv/lib/python3.12/site-packages (from jsonschema>=2.6->nbformat) (0.26.0)\n",
      "Requirement already satisfied: platformdirs>=2.5 in ./venv/lib/python3.12/site-packages (from jupyter-core!=5.0.*,>=4.12->nbformat) (4.3.8)\n",
      "Requirement already satisfied: six>=1.5 in ./venv/lib/python3.12/site-packages (from python-dateutil>=2.8.2->pandas) (1.17.0)\n",
      "Requirement already satisfied: charset_normalizer<4,>=2 in ./venv/lib/python3.12/site-packages (from requests<3,>=2->deepl) (3.4.2)\n",
      "Requirement already satisfied: idna<4,>=2.5 in ./venv/lib/python3.12/site-packages (from requests<3,>=2->deepl) (3.10)\n",
      "Requirement already satisfied: urllib3<3,>=1.21.1 in ./venv/lib/python3.12/site-packages (from requests<3,>=2->deepl) (2.5.0)\n",
      "Requirement already satisfied: certifi>=2017.4.17 in ./venv/lib/python3.12/site-packages (from requests<3,>=2->deepl) (2025.7.9)\n",
      "Requirement already satisfied: typing-extensions>=4.4.0 in ./venv/lib/python3.12/site-packages (from referencing>=0.28.4->jsonschema>=2.6->nbformat) (4.14.1)\n",
      "Note: you may need to restart the kernel to use updated packages.\n"
     ]
    }
   ],
   "source": [
    "%pip install pandas numpy matplotlib seaborn plotly nbformat deepl dotenv wordcloud"
   ]
  },
  {
   "cell_type": "code",
   "execution_count": 1,
   "id": "2af9adef",
   "metadata": {},
   "outputs": [],
   "source": [
    "import os\n",
    "from dotenv import load_dotenv\n",
    "\n",
    "import pandas as pd\n",
    "import numpy as np\n",
    "\n",
    "import matplotlib.pyplot as plt\n",
    "import seaborn as sns\n",
    "from wordcloud import WordCloud\n",
    "\n",
    "import plotly.graph_objects as go\n",
    "from plotly.subplots import make_subplots\n",
    "\n",
    "import deepl"
   ]
  },
  {
   "cell_type": "code",
   "execution_count": 2,
   "id": "b063aece",
   "metadata": {},
   "outputs": [
    {
     "data": {
      "text/plain": [
       "True"
      ]
     },
     "execution_count": 2,
     "metadata": {},
     "output_type": "execute_result"
    }
   ],
   "source": [
    "load_dotenv()"
   ]
  },
  {
   "cell_type": "markdown",
   "id": "650ac98e",
   "metadata": {},
   "source": [
    "## Read data"
   ]
  },
  {
   "cell_type": "code",
   "execution_count": 3,
   "id": "88fe5689",
   "metadata": {},
   "outputs": [],
   "source": [
    "household1_df = pd.read_csv('./datasets/2.1_Дунаєць.xlsx - База листов.csv')\n",
    "people1_df = pd.read_csv('./datasets/2.1_Дунаєць.xlsx - База людей.csv')\n",
    "\n",
    "people2_df = pd.read_csv('./datasets/2.2_Дунаєць_1778.xlsx - База.csv', header=3)"
   ]
  },
  {
   "cell_type": "code",
   "execution_count": 4,
   "id": "99db7fe6",
   "metadata": {},
   "outputs": [],
   "source": [
    "family_total_structure_1_df = pd.read_csv('./datasets/2.1.1_Структура родини Дунаєць_1897.xlsx - Total.csv')\n",
    "family_total_structure_2_df = pd.read_csv('./datasets/2.2.2_Структура родини Дунаєць_1778.xlsx - Total.csv')"
   ]
  },
  {
   "cell_type": "markdown",
   "id": "a4d100c2",
   "metadata": {},
   "source": [
    "## Preprocess data"
   ]
  },
  {
   "cell_type": "code",
   "execution_count": 5,
   "id": "12e53f94",
   "metadata": {},
   "outputs": [],
   "source": [
    "household1_df = household1_df.loc[:, ['ID Домохозяйствао', 'Село/деревня', 'Хозяин', 'Сколько жилых строений', 'Всего наличного мужеского населения', 'Всего наличнаго женского населения', 'Постоянно живущаго М', 'Постоянно живущаго Ж', 'Приписанного здесь М', 'Приписанного здесь Ж']]"
   ]
  },
  {
   "cell_type": "code",
   "execution_count": 6,
   "id": "fe03b761",
   "metadata": {},
   "outputs": [],
   "source": [
    "people1_df = people1_df.loc[:, ['ID строки в базе', 'ID Домохозяйствао', 'ID жилец', 'ФИО', 'Пол', 'Глава хозяйства и глава семьи', 'Возраст', 'Семейный статус', 'Сословие, состояние или звание', 'Здесь ли родился', 'Здесь ли обыкновенно проживает', 'Умеет ли читать', 'Обучение', 'Профессия главное', 'Профессия вспомогательное', 'Положение по воинской повинности']]"
   ]
  },
  {
   "cell_type": "code",
   "execution_count": 7,
   "id": "4c8672f1",
   "metadata": {},
   "outputs": [],
   "source": [
    "people2_df = people2_df.loc[:, ['ID наскрізна', 'ID домогосподарство', 'Чоловіки', 'Жінки', 'Імʼя', 'По-батькові', 'Прізвище', 'Родиний статус', 'Категорія', 'Клас', 'Соціальний статус', 'Вік']]"
   ]
  },
  {
   "cell_type": "code",
   "execution_count": 8,
   "id": "f2ef14b2",
   "metadata": {},
   "outputs": [],
   "source": [
    "household1_df.rename(columns={\n",
    "    'ID Домохозяйствао': 'id',\n",
    "    'Село/деревня': 'village/hamlet',\n",
    "    'Хозяин': 'host_name',\n",
    "    'Сколько жилых строений': 'residential_buildings_count',\n",
    "    'Всего наличного мужеского населения': 'total_male_count',\n",
    "    'Всего наличнаго женского населения': 'total_female_count',\n",
    "    'Постоянно живущаго М': 'permanent_male_count',\n",
    "    'Постоянно живущаго Ж': 'permanent_female_count',\n",
    "    'Приписанного здесь М': 'attributed_male_count',\n",
    "    'Приписанного здесь Ж': 'attributed_female_count'\n",
    "}, inplace=True)"
   ]
  },
  {
   "cell_type": "code",
   "execution_count": 9,
   "id": "6bdefa23",
   "metadata": {},
   "outputs": [],
   "source": [
    "people1_df.rename(columns={\n",
    "    'ID строки в базе': 'id',\n",
    "    'ID Домохозяйствао': 'household_id',\n",
    "    'ID жилец': 'resident_id',\n",
    "    'ФИО': 'name',\n",
    "    'Пол': 'sex',\n",
    "    'Глава хозяйства и глава семьи': 'family_social_status',\n",
    "    'Возраст': 'age',\n",
    "    'Семейный статус': 'marital status',\n",
    "    'Сословие, состояние или звание': 'class',\n",
    "    'Здесь ли родился': 'is_indigenous',\n",
    "    'Здесь ли обыкновенно проживает': 'is_resident',\n",
    "    'Умеет ли читать': 'can_read',\n",
    "    'Обучение': 'education',\n",
    "    'Профессия главное': 'main_profession',\n",
    "    'Профессия вспомогательное': 'additional_profession',\n",
    "    'Положение по воинской повинности': 'regulations_on_conscription'\n",
    "}, inplace=True)"
   ]
  },
  {
   "cell_type": "code",
   "execution_count": 10,
   "id": "d4307696",
   "metadata": {},
   "outputs": [],
   "source": [
    "people2_df.rename(columns={\n",
    "    'ID наскрізна': 'id',\n",
    "    'ID домогосподарство': 'household_id',\n",
    "    'Чоловіки': 'men_count',\n",
    "    'Жінки': 'women_count',\n",
    "    'Імʼя': 'fist_name',\n",
    "    'По-батькові': 'patronymic',\n",
    "    'Прізвище': 'surname',\n",
    "    'Родиний статус': 'family_social_status',\n",
    "    'Категорія': 'category',\n",
    "    'Клас': 'class',\n",
    "    'Соціальний статус': 'social_stauts',\n",
    "    'Вік' : 'age'\n",
    "}, inplace=True)"
   ]
  },
  {
   "cell_type": "code",
   "execution_count": 11,
   "id": "4c477396",
   "metadata": {},
   "outputs": [],
   "source": [
    "# Delete last rows with full empty data\n",
    "people1_df = people1_df[people1_df.name.notna()]"
   ]
  },
  {
   "cell_type": "code",
   "execution_count": 12,
   "id": "eed1920c",
   "metadata": {},
   "outputs": [
    {
     "data": {
      "text/plain": [
       "(1545, 16)"
      ]
     },
     "execution_count": 12,
     "metadata": {},
     "output_type": "execute_result"
    }
   ],
   "source": [
    "people1_df.shape"
   ]
  },
  {
   "cell_type": "code",
   "execution_count": 13,
   "id": "80113162",
   "metadata": {},
   "outputs": [],
   "source": [
    "people1_df.loc[:, 'name'] = people1_df.loc[:, 'name'].apply(str.strip)\n",
    "people1_df.loc[:, 'surname'] = people1_df.loc[:, 'name'].str.extract(r'(\\w+)\\s', expand=False)\n",
    "people1_df.loc[:, 'first_name'] = people1_df.loc[:, 'name'].str.extract(r'\\s(\\w+)\\s', expand=False)\n",
    "\n",
    "people1_df.patronymic = ''\n",
    "people1_df.loc[people1_df.name.apply(lambda x: len(x.split(' '))) == 3, 'patronymic'] = people1_df \\\n",
    "    .loc[people1_df.name.apply(lambda x: len(x.split(' '))) == 3, 'name'] \\\n",
    "    .str.extract(r'\\s\\w+\\s(\\w+)', expand=False)\n",
    "\n",
    "people1_df.drop(labels=['name'], axis=1, inplace=True)"
   ]
  },
  {
   "cell_type": "code",
   "execution_count": 14,
   "id": "8620c392",
   "metadata": {},
   "outputs": [],
   "source": [
    "people1_df.loc[~people1_df.age.str.isnumeric(), 'age'] = '0'"
   ]
  },
  {
   "cell_type": "code",
   "execution_count": 15,
   "id": "e7801a38",
   "metadata": {},
   "outputs": [],
   "source": [
    "people1_df.age = people1_df.age.astype(np.int32)"
   ]
  },
  {
   "cell_type": "markdown",
   "id": "3f38dc7f",
   "metadata": {},
   "source": [
    "Filling missing values. Since surname, category, class and household_id was only written to the host of the household, so we can make an assumption that other members of the have the same properties"
   ]
  },
  {
   "cell_type": "code",
   "execution_count": 16,
   "id": "fc7c9412",
   "metadata": {},
   "outputs": [],
   "source": [
    "people2_df.loc[:, ['household_id', 'category', 'class', 'surname']] = people2_df \\\n",
    "    .loc[:, ['household_id', 'category', 'class', 'surname']] \\\n",
    "    .ffill()\n",
    "\n",
    "people2_df.household_id = people2_df.household_id.astype(np.int32)"
   ]
  },
  {
   "cell_type": "code",
   "execution_count": 17,
   "id": "43807106",
   "metadata": {},
   "outputs": [],
   "source": [
    "people2_df['sex'] = ''\n",
    "people2_df.loc[people2_df.men_count.notna(), 'sex'] = 'm'\n",
    "people2_df.loc[people2_df.women_count.notna(), 'sex'] = 'f'"
   ]
  },
  {
   "cell_type": "code",
   "execution_count": 18,
   "id": "a785290d",
   "metadata": {},
   "outputs": [],
   "source": [
    "people2_df.drop(axis=1, labels=['men_count', 'women_count'], inplace=True)"
   ]
  },
  {
   "cell_type": "code",
   "execution_count": 19,
   "id": "f5ba369a",
   "metadata": {},
   "outputs": [],
   "source": [
    "people2_df.age = people2_df.age.astype(np.int32)"
   ]
  },
  {
   "cell_type": "code",
   "execution_count": 20,
   "id": "d7e8c4aa",
   "metadata": {},
   "outputs": [],
   "source": [
    "family_total_structure_1_df.rename(columns={\n",
    "    'Категорія': 'category',\n",
    "    'Клас': 'class',\n",
    "    'Кількість': 'class_count',\n",
    "    '%': 'category_percentage',\n",
    "    '% кожного класу': 'class_percentage',\n",
    "    'Усього по категоріях': 'category_total_count'\n",
    "}, inplace=True)\n",
    "\n",
    "family_total_structure_2_df.rename(columns={\n",
    "    'Категорія': 'category',\n",
    "    'Клас': 'class',\n",
    "    'Кількість': 'class_count',\n",
    "    '%': 'category_percentage',\n",
    "    '% кожного класу': 'class_percentage',\n",
    "    'Усього по категоріях': 'category_total_count'\n",
    "}, inplace=True)"
   ]
  },
  {
   "cell_type": "code",
   "execution_count": 21,
   "id": "aec4d3a6",
   "metadata": {},
   "outputs": [],
   "source": [
    "family_total_structure_1_df.loc[:, ['category', 'category_percentage']] = family_total_structure_1_df.loc[:, ['category', 'category_percentage']].ffill()\n",
    "\n",
    "family_total_structure_2_df.loc[:, ['category', 'category_percentage']] = family_total_structure_2_df.loc[:, ['category', 'category_percentage']].ffill()"
   ]
  },
  {
   "cell_type": "code",
   "execution_count": 22,
   "id": "593eeb91",
   "metadata": {},
   "outputs": [],
   "source": [
    "family_total_structure_1_df.loc[:, 'category_total_count'] = family_total_structure_1_df.loc[:, 'category_total_count'].bfill()\n",
    "\n",
    "family_total_structure_2_df.loc[:, 'category_total_count'] = family_total_structure_2_df.loc[:, 'category_total_count'].bfill()"
   ]
  },
  {
   "cell_type": "code",
   "execution_count": 23,
   "id": "dbbb9f9e",
   "metadata": {},
   "outputs": [],
   "source": [
    "# Delete Total Column\n",
    "family_total_structure_1_df = family_total_structure_1_df[family_total_structure_1_df.category != 'Усього']\n",
    "family_total_structure_2_df = family_total_structure_2_df[family_total_structure_2_df.category != 'Усього']"
   ]
  },
  {
   "cell_type": "markdown",
   "id": "398fcb63",
   "metadata": {},
   "source": [
    "## Visualizing Insights"
   ]
  },
  {
   "cell_type": "markdown",
   "id": "84170008",
   "metadata": {},
   "source": [
    "### Age Distribution"
   ]
  },
  {
   "cell_type": "code",
   "execution_count": 56,
   "id": "a5eded60",
   "metadata": {},
   "outputs": [
    {
     "data": {
      "text/plain": [
       "(np.int32(90), np.int32(84))"
      ]
     },
     "execution_count": 56,
     "metadata": {},
     "output_type": "execute_result"
    }
   ],
   "source": [
    "(people1_df.age.max(), people2_df.age.max())"
   ]
  },
  {
   "cell_type": "code",
   "execution_count": 97,
   "id": "3d8da87c",
   "metadata": {},
   "outputs": [],
   "source": [
    "bins = [i for i in range(0, 100, 10)]\n",
    "labels = [f'{i}-{i+10}' for i in range(0, 90, 10)]"
   ]
  },
  {
   "cell_type": "code",
   "execution_count": 98,
   "id": "bee0618d",
   "metadata": {},
   "outputs": [],
   "source": [
    "people1_df.loc[:, 'age_group'] = ''\n",
    "people2_df.loc[:, 'age_group'] = ''\n",
    "\n",
    "people1_df.loc[:, 'age_group'] = pd.cut(people1_df.age, bins=bins, labels=labels)\n",
    "people2_df.loc[:, 'age_group'] = pd.cut(people2_df.age, bins=bins, labels=labels)"
   ]
  },
  {
   "cell_type": "code",
   "execution_count": 99,
   "id": "002812b5",
   "metadata": {},
   "outputs": [],
   "source": [
    "men_ages_1 = people1_df.loc[people1_df.sex == 'm', :][['age_group']] \\\n",
    "    .groupby('age_group') \\\n",
    "    .agg(count=('age_group', 'size')) \\\n",
    "    .reset_index()\n",
    "\n",
    "women_ages_1 = people1_df.loc[people1_df.sex == 'f', :][['age_group']] \\\n",
    "    .groupby('age_group') \\\n",
    "    .agg(count=('age_group', 'size')) \\\n",
    "    .reset_index()\n",
    "\n",
    "men_ages_2 = people2_df.loc[people2_df.sex == 'm', :][['age_group']] \\\n",
    "    .groupby('age_group') \\\n",
    "    .agg(count=('age_group', 'size')) \\\n",
    "    .reset_index()\n",
    "\n",
    "women_ages_2 = people2_df.loc[people2_df.sex == 'f', :][['age_group']] \\\n",
    "    .groupby('age_group') \\\n",
    "    .agg(count=('age_group', 'size')) \\\n",
    "    .reset_index()"
   ]
  },
  {
   "cell_type": "code",
   "execution_count": 100,
   "id": "ff8160f3",
   "metadata": {},
   "outputs": [
    {
     "data": {
      "text/plain": [
       "0    166\n",
       "1    158\n",
       "2    130\n",
       "3    101\n",
       "4     78\n",
       "5     55\n",
       "6     34\n",
       "7     16\n",
       "8      3\n",
       "Name: count, dtype: int64"
      ]
     },
     "execution_count": 100,
     "metadata": {},
     "output_type": "execute_result"
    }
   ],
   "source": [
    "men_ages_1['count']"
   ]
  },
  {
   "cell_type": "code",
   "execution_count": 102,
   "id": "dc31c367",
   "metadata": {},
   "outputs": [
    {
     "data": {
      "application/vnd.plotly.v1+json": {
       "config": {
        "plotlyServerURL": "https://plot.ly"
       },
       "data": [
        {
         "hoverinfo": "name+x",
         "marker": {
          "color": "#005f73"
         },
         "name": "Men 1778",
         "orientation": "h",
         "type": "bar",
         "x": {
          "bdata": "5ACyAJcAbwBbADUACgACAA==",
          "dtype": "i2"
         },
         "xaxis": "x",
         "y": [
          0,
          10,
          20,
          30,
          40,
          50,
          60,
          70,
          80,
          90
         ],
         "yaxis": "y"
        },
        {
         "customdata": {
          "bdata": "ygClAKEAeABEAC8ACQABAA==",
          "dtype": "i2"
         },
         "hovertemplate": "%{customdata}",
         "marker": {
          "color": "#ae2012"
         },
         "name": "Women 1778",
         "orientation": "h",
         "type": "bar",
         "x": {
          "bdata": "Nv9b/1//iP+8/9H/9////w==",
          "dtype": "i2"
         },
         "xaxis": "x",
         "y": [
          0,
          10,
          20,
          30,
          40,
          50,
          60,
          70,
          80,
          90
         ],
         "yaxis": "y"
        },
        {
         "hoverinfo": "name+x",
         "marker": {
          "color": "#94d2bd"
         },
         "name": "Men 1897",
         "orientation": "h",
         "type": "bar",
         "x": {
          "bdata": "pgCeAIIAZQBOADcAIgAQAAMA",
          "dtype": "i2"
         },
         "xaxis": "x2",
         "y": [
          0,
          10,
          20,
          30,
          40,
          50,
          60,
          70,
          80,
          90
         ],
         "yaxis": "y2"
        },
        {
         "customdata": {
          "bdata": "zgCJAI8AYQBHADQAFAAHAAQA",
          "dtype": "i2"
         },
         "hoverinfo": "name",
         "hovertemplate": "%{customdata}",
         "marker": {
          "color": "#ca6702"
         },
         "name": "Women 1897",
         "orientation": "h",
         "type": "bar",
         "x": {
          "bdata": "Mv93/3H/n/+5/8z/7P/5//z/",
          "dtype": "i2"
         },
         "xaxis": "x2",
         "y": [
          0,
          10,
          20,
          30,
          40,
          50,
          60,
          70,
          80,
          90
         ],
         "yaxis": "y2"
        }
       ],
       "layout": {
        "annotations": [
         {
          "font": {
           "size": 16
          },
          "showarrow": false,
          "text": "1778 year",
          "x": 0.225,
          "xanchor": "center",
          "xref": "paper",
          "y": 1,
          "yanchor": "bottom",
          "yref": "paper"
         },
         {
          "font": {
           "size": 16
          },
          "showarrow": false,
          "text": "1897 year",
          "x": 0.775,
          "xanchor": "center",
          "xref": "paper",
          "y": 1,
          "yanchor": "bottom",
          "yref": "paper"
         }
        ],
        "bargap": 0.1,
        "barmode": "overlay",
        "height": 500,
        "template": {
         "data": {
          "bar": [
           {
            "error_x": {
             "color": "#2a3f5f"
            },
            "error_y": {
             "color": "#2a3f5f"
            },
            "marker": {
             "line": {
              "color": "#E5ECF6",
              "width": 0.5
             },
             "pattern": {
              "fillmode": "overlay",
              "size": 10,
              "solidity": 0.2
             }
            },
            "type": "bar"
           }
          ],
          "barpolar": [
           {
            "marker": {
             "line": {
              "color": "#E5ECF6",
              "width": 0.5
             },
             "pattern": {
              "fillmode": "overlay",
              "size": 10,
              "solidity": 0.2
             }
            },
            "type": "barpolar"
           }
          ],
          "carpet": [
           {
            "aaxis": {
             "endlinecolor": "#2a3f5f",
             "gridcolor": "white",
             "linecolor": "white",
             "minorgridcolor": "white",
             "startlinecolor": "#2a3f5f"
            },
            "baxis": {
             "endlinecolor": "#2a3f5f",
             "gridcolor": "white",
             "linecolor": "white",
             "minorgridcolor": "white",
             "startlinecolor": "#2a3f5f"
            },
            "type": "carpet"
           }
          ],
          "choropleth": [
           {
            "colorbar": {
             "outlinewidth": 0,
             "ticks": ""
            },
            "type": "choropleth"
           }
          ],
          "contour": [
           {
            "colorbar": {
             "outlinewidth": 0,
             "ticks": ""
            },
            "colorscale": [
             [
              0,
              "#0d0887"
             ],
             [
              0.1111111111111111,
              "#46039f"
             ],
             [
              0.2222222222222222,
              "#7201a8"
             ],
             [
              0.3333333333333333,
              "#9c179e"
             ],
             [
              0.4444444444444444,
              "#bd3786"
             ],
             [
              0.5555555555555556,
              "#d8576b"
             ],
             [
              0.6666666666666666,
              "#ed7953"
             ],
             [
              0.7777777777777778,
              "#fb9f3a"
             ],
             [
              0.8888888888888888,
              "#fdca26"
             ],
             [
              1,
              "#f0f921"
             ]
            ],
            "type": "contour"
           }
          ],
          "contourcarpet": [
           {
            "colorbar": {
             "outlinewidth": 0,
             "ticks": ""
            },
            "type": "contourcarpet"
           }
          ],
          "heatmap": [
           {
            "colorbar": {
             "outlinewidth": 0,
             "ticks": ""
            },
            "colorscale": [
             [
              0,
              "#0d0887"
             ],
             [
              0.1111111111111111,
              "#46039f"
             ],
             [
              0.2222222222222222,
              "#7201a8"
             ],
             [
              0.3333333333333333,
              "#9c179e"
             ],
             [
              0.4444444444444444,
              "#bd3786"
             ],
             [
              0.5555555555555556,
              "#d8576b"
             ],
             [
              0.6666666666666666,
              "#ed7953"
             ],
             [
              0.7777777777777778,
              "#fb9f3a"
             ],
             [
              0.8888888888888888,
              "#fdca26"
             ],
             [
              1,
              "#f0f921"
             ]
            ],
            "type": "heatmap"
           }
          ],
          "histogram": [
           {
            "marker": {
             "pattern": {
              "fillmode": "overlay",
              "size": 10,
              "solidity": 0.2
             }
            },
            "type": "histogram"
           }
          ],
          "histogram2d": [
           {
            "colorbar": {
             "outlinewidth": 0,
             "ticks": ""
            },
            "colorscale": [
             [
              0,
              "#0d0887"
             ],
             [
              0.1111111111111111,
              "#46039f"
             ],
             [
              0.2222222222222222,
              "#7201a8"
             ],
             [
              0.3333333333333333,
              "#9c179e"
             ],
             [
              0.4444444444444444,
              "#bd3786"
             ],
             [
              0.5555555555555556,
              "#d8576b"
             ],
             [
              0.6666666666666666,
              "#ed7953"
             ],
             [
              0.7777777777777778,
              "#fb9f3a"
             ],
             [
              0.8888888888888888,
              "#fdca26"
             ],
             [
              1,
              "#f0f921"
             ]
            ],
            "type": "histogram2d"
           }
          ],
          "histogram2dcontour": [
           {
            "colorbar": {
             "outlinewidth": 0,
             "ticks": ""
            },
            "colorscale": [
             [
              0,
              "#0d0887"
             ],
             [
              0.1111111111111111,
              "#46039f"
             ],
             [
              0.2222222222222222,
              "#7201a8"
             ],
             [
              0.3333333333333333,
              "#9c179e"
             ],
             [
              0.4444444444444444,
              "#bd3786"
             ],
             [
              0.5555555555555556,
              "#d8576b"
             ],
             [
              0.6666666666666666,
              "#ed7953"
             ],
             [
              0.7777777777777778,
              "#fb9f3a"
             ],
             [
              0.8888888888888888,
              "#fdca26"
             ],
             [
              1,
              "#f0f921"
             ]
            ],
            "type": "histogram2dcontour"
           }
          ],
          "mesh3d": [
           {
            "colorbar": {
             "outlinewidth": 0,
             "ticks": ""
            },
            "type": "mesh3d"
           }
          ],
          "parcoords": [
           {
            "line": {
             "colorbar": {
              "outlinewidth": 0,
              "ticks": ""
             }
            },
            "type": "parcoords"
           }
          ],
          "pie": [
           {
            "automargin": true,
            "type": "pie"
           }
          ],
          "scatter": [
           {
            "fillpattern": {
             "fillmode": "overlay",
             "size": 10,
             "solidity": 0.2
            },
            "type": "scatter"
           }
          ],
          "scatter3d": [
           {
            "line": {
             "colorbar": {
              "outlinewidth": 0,
              "ticks": ""
             }
            },
            "marker": {
             "colorbar": {
              "outlinewidth": 0,
              "ticks": ""
             }
            },
            "type": "scatter3d"
           }
          ],
          "scattercarpet": [
           {
            "marker": {
             "colorbar": {
              "outlinewidth": 0,
              "ticks": ""
             }
            },
            "type": "scattercarpet"
           }
          ],
          "scattergeo": [
           {
            "marker": {
             "colorbar": {
              "outlinewidth": 0,
              "ticks": ""
             }
            },
            "type": "scattergeo"
           }
          ],
          "scattergl": [
           {
            "marker": {
             "colorbar": {
              "outlinewidth": 0,
              "ticks": ""
             }
            },
            "type": "scattergl"
           }
          ],
          "scattermap": [
           {
            "marker": {
             "colorbar": {
              "outlinewidth": 0,
              "ticks": ""
             }
            },
            "type": "scattermap"
           }
          ],
          "scattermapbox": [
           {
            "marker": {
             "colorbar": {
              "outlinewidth": 0,
              "ticks": ""
             }
            },
            "type": "scattermapbox"
           }
          ],
          "scatterpolar": [
           {
            "marker": {
             "colorbar": {
              "outlinewidth": 0,
              "ticks": ""
             }
            },
            "type": "scatterpolar"
           }
          ],
          "scatterpolargl": [
           {
            "marker": {
             "colorbar": {
              "outlinewidth": 0,
              "ticks": ""
             }
            },
            "type": "scatterpolargl"
           }
          ],
          "scatterternary": [
           {
            "marker": {
             "colorbar": {
              "outlinewidth": 0,
              "ticks": ""
             }
            },
            "type": "scatterternary"
           }
          ],
          "surface": [
           {
            "colorbar": {
             "outlinewidth": 0,
             "ticks": ""
            },
            "colorscale": [
             [
              0,
              "#0d0887"
             ],
             [
              0.1111111111111111,
              "#46039f"
             ],
             [
              0.2222222222222222,
              "#7201a8"
             ],
             [
              0.3333333333333333,
              "#9c179e"
             ],
             [
              0.4444444444444444,
              "#bd3786"
             ],
             [
              0.5555555555555556,
              "#d8576b"
             ],
             [
              0.6666666666666666,
              "#ed7953"
             ],
             [
              0.7777777777777778,
              "#fb9f3a"
             ],
             [
              0.8888888888888888,
              "#fdca26"
             ],
             [
              1,
              "#f0f921"
             ]
            ],
            "type": "surface"
           }
          ],
          "table": [
           {
            "cells": {
             "fill": {
              "color": "#EBF0F8"
             },
             "line": {
              "color": "white"
             }
            },
            "header": {
             "fill": {
              "color": "#C8D4E3"
             },
             "line": {
              "color": "white"
             }
            },
            "type": "table"
           }
          ]
         },
         "layout": {
          "annotationdefaults": {
           "arrowcolor": "#2a3f5f",
           "arrowhead": 0,
           "arrowwidth": 1
          },
          "autotypenumbers": "strict",
          "coloraxis": {
           "colorbar": {
            "outlinewidth": 0,
            "ticks": ""
           }
          },
          "colorscale": {
           "diverging": [
            [
             0,
             "#8e0152"
            ],
            [
             0.1,
             "#c51b7d"
            ],
            [
             0.2,
             "#de77ae"
            ],
            [
             0.3,
             "#f1b6da"
            ],
            [
             0.4,
             "#fde0ef"
            ],
            [
             0.5,
             "#f7f7f7"
            ],
            [
             0.6,
             "#e6f5d0"
            ],
            [
             0.7,
             "#b8e186"
            ],
            [
             0.8,
             "#7fbc41"
            ],
            [
             0.9,
             "#4d9221"
            ],
            [
             1,
             "#276419"
            ]
           ],
           "sequential": [
            [
             0,
             "#0d0887"
            ],
            [
             0.1111111111111111,
             "#46039f"
            ],
            [
             0.2222222222222222,
             "#7201a8"
            ],
            [
             0.3333333333333333,
             "#9c179e"
            ],
            [
             0.4444444444444444,
             "#bd3786"
            ],
            [
             0.5555555555555556,
             "#d8576b"
            ],
            [
             0.6666666666666666,
             "#ed7953"
            ],
            [
             0.7777777777777778,
             "#fb9f3a"
            ],
            [
             0.8888888888888888,
             "#fdca26"
            ],
            [
             1,
             "#f0f921"
            ]
           ],
           "sequentialminus": [
            [
             0,
             "#0d0887"
            ],
            [
             0.1111111111111111,
             "#46039f"
            ],
            [
             0.2222222222222222,
             "#7201a8"
            ],
            [
             0.3333333333333333,
             "#9c179e"
            ],
            [
             0.4444444444444444,
             "#bd3786"
            ],
            [
             0.5555555555555556,
             "#d8576b"
            ],
            [
             0.6666666666666666,
             "#ed7953"
            ],
            [
             0.7777777777777778,
             "#fb9f3a"
            ],
            [
             0.8888888888888888,
             "#fdca26"
            ],
            [
             1,
             "#f0f921"
            ]
           ]
          },
          "colorway": [
           "#636efa",
           "#EF553B",
           "#00cc96",
           "#ab63fa",
           "#FFA15A",
           "#19d3f3",
           "#FF6692",
           "#B6E880",
           "#FF97FF",
           "#FECB52"
          ],
          "font": {
           "color": "#2a3f5f"
          },
          "geo": {
           "bgcolor": "white",
           "lakecolor": "white",
           "landcolor": "#E5ECF6",
           "showlakes": true,
           "showland": true,
           "subunitcolor": "white"
          },
          "hoverlabel": {
           "align": "left"
          },
          "hovermode": "closest",
          "mapbox": {
           "style": "light"
          },
          "paper_bgcolor": "white",
          "plot_bgcolor": "#E5ECF6",
          "polar": {
           "angularaxis": {
            "gridcolor": "white",
            "linecolor": "white",
            "ticks": ""
           },
           "bgcolor": "#E5ECF6",
           "radialaxis": {
            "gridcolor": "white",
            "linecolor": "white",
            "ticks": ""
           }
          },
          "scene": {
           "xaxis": {
            "backgroundcolor": "#E5ECF6",
            "gridcolor": "white",
            "gridwidth": 2,
            "linecolor": "white",
            "showbackground": true,
            "ticks": "",
            "zerolinecolor": "white"
           },
           "yaxis": {
            "backgroundcolor": "#E5ECF6",
            "gridcolor": "white",
            "gridwidth": 2,
            "linecolor": "white",
            "showbackground": true,
            "ticks": "",
            "zerolinecolor": "white"
           },
           "zaxis": {
            "backgroundcolor": "#E5ECF6",
            "gridcolor": "white",
            "gridwidth": 2,
            "linecolor": "white",
            "showbackground": true,
            "ticks": "",
            "zerolinecolor": "white"
           }
          },
          "shapedefaults": {
           "line": {
            "color": "#2a3f5f"
           }
          },
          "ternary": {
           "aaxis": {
            "gridcolor": "white",
            "linecolor": "white",
            "ticks": ""
           },
           "baxis": {
            "gridcolor": "white",
            "linecolor": "white",
            "ticks": ""
           },
           "bgcolor": "#E5ECF6",
           "caxis": {
            "gridcolor": "white",
            "linecolor": "white",
            "ticks": ""
           }
          },
          "title": {
           "x": 0.05
          },
          "xaxis": {
           "automargin": true,
           "gridcolor": "white",
           "linecolor": "white",
           "ticks": "",
           "title": {
            "standoff": 15
           },
           "zerolinecolor": "white",
           "zerolinewidth": 2
          },
          "yaxis": {
           "automargin": true,
           "gridcolor": "white",
           "linecolor": "white",
           "ticks": "",
           "title": {
            "standoff": 15
           },
           "zerolinecolor": "white",
           "zerolinewidth": 2
          }
         }
        },
        "title": {
         "font": {
          "size": 30
         },
         "text": "Sex-age pyramid"
        },
        "width": 1000,
        "xaxis": {
         "anchor": "y",
         "domain": [
          0,
          0.45
         ],
         "range": [
          -250,
          250
         ],
         "title": {
          "text": "Number"
         }
        },
        "xaxis2": {
         "anchor": "y2",
         "domain": [
          0.55,
          1
         ],
         "range": [
          -250,
          250
         ],
         "title": {
          "text": "Number"
         }
        },
        "yaxis": {
         "range": [
          -8,
          98
         ],
         "ticktext": [
          "0-10",
          "10-20",
          "20-30",
          "30-40",
          "40-50",
          "50-60",
          "60-70",
          "70-80",
          "80-90"
         ],
         "tickvals": [
          0,
          10,
          20,
          30,
          40,
          50,
          60,
          70,
          80,
          90
         ],
         "title": {
          "text": "Age"
         }
        },
        "yaxis2": {
         "anchor": "x2",
         "domain": [
          0,
          1
         ],
         "matches": "y",
         "showticklabels": false
        }
       }
      }
     },
     "metadata": {},
     "output_type": "display_data"
    }
   ],
   "source": [
    "fig = make_subplots(\n",
    "    rows=1,\n",
    "    cols=2,\n",
    "    specs=[[{'type': 'bar'}, {'type': 'bar'}]],\n",
    "    subplot_titles=(\n",
    "        '1778 year',\n",
    "        '1897 year',\n",
    "    ),\n",
    "    shared_yaxes=True\n",
    ")\n",
    "\n",
    "fig.add_trace(\n",
    "    go.Bar(\n",
    "        y=bins,\n",
    "        x=pd.Series(men_ages_2['count']),\n",
    "        orientation='h',\n",
    "        name='Men 1778',\n",
    "        hoverinfo='name+x',\n",
    "        marker=dict(color='#005f73')\n",
    "    ), row=1, col=1\n",
    "),\n",
    "\n",
    "fig.add_trace(\n",
    "    go.Bar(\n",
    "        y=bins,\n",
    "        x=pd.Series(women_ages_2['count']) * -1,\n",
    "        orientation='h',\n",
    "        name='Women 1778',\n",
    "        textposition=None,\n",
    "        customdata=pd.Series(women_ages_2['count']),\n",
    "        hovertemplate='%{customdata}',\n",
    "        marker=dict(color='#ae2012')\n",
    "    ), row=1, col=1\n",
    ")\n",
    "\n",
    "fig.add_trace(\n",
    "    go.Bar(\n",
    "        y=bins,\n",
    "        x=pd.Series(men_ages_1['count']),\n",
    "        orientation='h',\n",
    "        name='Men 1897',\n",
    "        hoverinfo='name+x',\n",
    "        marker=dict(color='#94d2bd')\n",
    "    ), row=1, col=2\n",
    ")\n",
    "\n",
    "fig.add_trace(\n",
    "    go.Bar(\n",
    "        y=bins,\n",
    "        x=pd.Series(women_ages_1['count']) * -1,\n",
    "        orientation='h',\n",
    "        name='Women 1897',\n",
    "        hoverinfo='name',\n",
    "        customdata=pd.Series(women_ages_1['count']),\n",
    "        hovertemplate='%{customdata}',\n",
    "        textposition=None,\n",
    "        marker=dict(color='#ca6702')\n",
    "    ), row=1, col=2\n",
    ")\n",
    "\n",
    "xaxis = dict(\n",
    "    range=[-250, 250],\n",
    "    title='Number'\n",
    ")\n",
    "\n",
    "fig.update_layout(\n",
    "    yaxis=go.layout.YAxis(title='Age', range=[-8, 98], tickvals=bins, ticktext=labels),\n",
    "    xaxis=dict(**xaxis),\n",
    "    xaxis2=dict(**xaxis),\n",
    "    title_text=\"Sex-age pyramid\",\n",
    "    title_font=dict(size=30),\n",
    "    height=500,\n",
    "    width=1000,\n",
    "    barmode='overlay',\n",
    "    bargap=0.1,\n",
    ")\n",
    "\n",
    "fig.show()"
   ]
  },
  {
   "cell_type": "code",
   "execution_count": 87,
   "id": "89703bdd",
   "metadata": {},
   "outputs": [
    {
     "data": {
      "image/png": "[encoded data removed]",
      "text/plain": [
       "<Figure size 640x480 with 1 Axes>"
      ]
     },
     "metadata": {},
     "output_type": "display_data"
    }
   ],
   "source": [
    "people1_ages_df = people1_df.loc[:, ['age', 'sex']]\n",
    "people1_ages_df.loc[:, 'year'] = 1897\n",
    "people1_ages_df.loc[people1_ages_df.sex == 'm', 'sex'] = 'male'\n",
    "people1_ages_df.loc[people1_ages_df.sex == 'f', 'sex'] = 'female'\n",
    "\n",
    "people2_ages_df = people2_df.loc[:, ['age', 'sex']]\n",
    "people2_ages_df.loc[:, 'year'] = 1778\n",
    "people2_ages_df.loc[people2_ages_df.sex == 'm', 'sex'] = 'male'\n",
    "people2_ages_df.loc[people2_ages_df.sex == 'f', 'sex'] = 'female'\n",
    "\n",
    "data_concated_ages = pd.concat([people2_ages_df, people1_ages_df])\n",
    "\n",
    "plt.title('Age boxplot')\n",
    "sns.boxplot(\n",
    "    data=data_concated_ages,\n",
    "    y='age',\n",
    "    x='year',\n",
    "    hue='sex',\n",
    "    legend='brief',\n",
    "    palette=['#0a9396', '#bb3e03'],\n",
    ")\n",
    "sns.despine(offset=10, trim=True)\n",
    "plt.xlabel('Year')\n",
    "plt.ylabel('Age')\n",
    "plt.show()"
   ]
  },
  {
   "cell_type": "code",
   "execution_count": 88,
   "id": "ac9a316e",
   "metadata": {},
   "outputs": [
    {
     "name": "stdout",
     "output_type": "stream",
     "text": [
      "Some more statistics in 1778 and 1897 years:\n",
      "The average age - 23.53 and 25.42\n",
      "The number of people - 1597 and 1545\n",
      "The men proportion - 52.0% and 50.0%\n",
      "The men average age - 23.58 and 26.63\n",
      "The women average age - 23.47 and 24.2\n"
     ]
    }
   ],
   "source": [
    "mean_age1 = people1_df.age.mean()\n",
    "mean_age2 = people2_df.age.mean()\n",
    "\n",
    "people_count1 = people1_df.age.count()\n",
    "people_count2 = people2_df.age.count()\n",
    "\n",
    "men_count1 = men_ages_1.count()\n",
    "men_count2 = men_ages_2.count()\n",
    "\n",
    "mean_men1 = men_ages_1.mean()\n",
    "mean_men2 = men_ages_2.mean()\n",
    "\n",
    "mean_women1 = women_ages_1.mean() * -1\n",
    "mean_women2 = women_ages_2.mean() * -1\n",
    "\n",
    "print(\"Some more statistics in 1778 and 1897 years:\")\n",
    "print(f\"The average age - {round(mean_age2, 2)} and {round(mean_age1, 2)}\")\n",
    "print(f\"The number of people - {people_count2} and {people_count1}\")\n",
    "print(f\"The men proportion - {round(men_count2 / people_count2, 2) * 100}% and {round(men_count1 / people_count1, 2) * 100}%\")\n",
    "print(f\"The men average age - {round(mean_men2, 2)} and {round(mean_men1, 2)}\")\n",
    "print(f\"The women average age - {round(mean_women2, 2)} and {round(mean_women1, 2)}\")"
   ]
  },
  {
   "cell_type": "markdown",
   "id": "623ceaf2",
   "metadata": {},
   "source": [
    "### Family Size"
   ]
  },
  {
   "cell_type": "code",
   "execution_count": 89,
   "id": "992fe22e",
   "metadata": {},
   "outputs": [
    {
     "data": {
      "image/png": "[encoded data removed]",
      "text/plain": [
       "<Figure size 640x480 with 1 Axes>"
      ]
     },
     "metadata": {},
     "output_type": "display_data"
    }
   ],
   "source": [
    "family_size_counts_1 = people1_df.groupby('household_id')['id'] \\\n",
    "    .count() \\\n",
    "    .reset_index() \\\n",
    "    .rename(columns={'id': 'count'}) \\\n",
    "    .sort_values('count')\n",
    "\n",
    "family_size_counts_1.loc[:, 'year'] = 1897\n",
    "\n",
    "family_size_counts_2 = people2_df.groupby('household_id')['id'] \\\n",
    "    .count() \\\n",
    "    .reset_index() \\\n",
    "    .rename(columns={'id': 'count'}) \\\n",
    "    .sort_values('count')\n",
    "\n",
    "family_size_counts_2.loc[:, 'year'] = 1778\n",
    "\n",
    "family_size = pd.concat([family_size_counts_1, family_size_counts_2])\n",
    "\n",
    "plt.title('Log Density plot of family size in 1778/1897 years')\n",
    "ax = sns.kdeplot(\n",
    "    data=family_size,\n",
    "    x='count',\n",
    "    hue='year',\n",
    "    log_scale=True,\n",
    "    fill=True,\n",
    "    alpha=0.7,\n",
    "    palette=['#0a9396', '#bb3e03']\n",
    ")\n",
    "plt.xlabel('Log Count')\n",
    "plt.show()"
   ]
  },
  {
   "cell_type": "markdown",
   "id": "d701f6fd",
   "metadata": {},
   "source": [
    "In 1778 the family could include even **100 members**, so it is why the blue graph is wide and due to it, it is better to use the log scale"
   ]
  },
  {
   "cell_type": "code",
   "execution_count": 90,
   "id": "d2c74133",
   "metadata": {},
   "outputs": [
    {
     "name": "stdout",
     "output_type": "stream",
     "text": [
      "The average family size in 1778 is 15.21\n",
      "And the average family size in 1897 is 5.94\n"
     ]
    }
   ],
   "source": [
    "print(f\"The average family size in 1778 is {round(family_size_counts_2['count'].mean(), 2)}\")\n",
    "print(f\"And the average family size in 1897 is {round(family_size_counts_1['count'].mean(), 2)}\")"
   ]
  },
  {
   "cell_type": "markdown",
   "id": "4a2c6c71",
   "metadata": {},
   "source": [
    "### Family Total Structure Comparison"
   ]
  },
  {
   "cell_type": "code",
   "execution_count": 92,
   "id": "758a4a52",
   "metadata": {},
   "outputs": [
    {
     "data": {
      "application/vnd.plotly.v1+json": {
       "config": {
        "plotlyServerURL": "https://plot.ly"
       },
       "data": [
        {
         "domain": {
          "x": [
           0.55,
           1
          ],
          "y": [
           0.575,
           1
          ]
         },
         "hole": 0.3,
         "hoverinfo": "label+percent",
         "labels": [
          "Самотні особи",
          "Безструктурні",
          "Нуклеарні",
          "Розширені",
          "Мультифокальні"
         ],
         "marker": {
          "colors": [
           "#001219",
           "#0a9396",
           "#e9d8a6",
           "#ca6702",
           "#ae2012"
          ],
          "line": {
           "color": "#000000",
           "width": 2
          }
         },
         "textfont": {
          "size": 20
         },
         "textinfo": "value",
         "textposition": "inside",
         "type": "pie",
         "values": {
          "bdata": "AAAAAAAA8D8AAAAAAEBWQAAAAAAAQFxAAAAAAAAASkAAAAAAAAAUQA==",
          "dtype": "f8"
         }
        },
        {
         "domain": {
          "x": [
           0,
           0.45
          ],
          "y": [
           0.575,
           1
          ]
         },
         "hole": 0.3,
         "hoverinfo": "label+percent",
         "labels": [
          "Самотні особи",
          "Безструктурні",
          "Нуклеарні",
          "Розширені",
          "Мультифокальні"
         ],
         "marker": {
          "colors": [
           "#001219",
           "#0a9396",
           "#e9d8a6",
           "#ca6702",
           "#ae2012"
          ],
          "line": {
           "color": "#000000",
           "width": 2
          }
         },
         "textfont": {
          "size": 20
         },
         "textinfo": "value",
         "textposition": "inside",
         "type": "pie",
         "values": {
          "bdata": "AAAAAAAAAAAAAAAAAABWQAAAAAAAADVAAAAAAAAAAEAAAAAAAAAAAA==",
          "dtype": "f8"
         }
        },
        {
         "marker": {
          "color": "#9b2226"
         },
         "name": "1778",
         "textposition": "inside",
         "type": "bar",
         "x": [
          "1a Вдови і вдівці",
          "1b Нежонаті, або неокресленого цивільного стану",
          "2a Нежонаті брати і сестри, які живуть разом",
          "2b Інші кревні, які живуть разом",
          "3a Шлюбі пари без дітей",
          "3b Шлюбні пари з дітьми",
          "3c Вдівці з дітьми",
          "3d Вдови з дітьми",
          "4a Родини з висхідним розширенням",
          "4b Родини з низхідним розширенням",
          "4c Родини з бічним розширенням",
          "4d Комбінація 4a-4c",
          "5a Родини з висхідними другорядними ядрами",
          "5b Родини з низхідними другорядними ядрами",
          "5c Родини з бічними другорядними ядрами",
          "5d Братські родини",
          "5e Інші"
         ],
         "xaxis": "x",
         "y": {
          "bdata": "AAAAAAAAAAAAAAAAAAAAAAAAAAAAAAAAAAAAAAAAAAA830+Nl26CPxfZzvdT48U/AAAAAAAAAAA830+Nl26CPzzfT42XboI/AAAAAAAAAAA830+Nl26CPwAAAAAAAAAAPN9PjZdugj8K16NwPQq3P1TjpZvEILA/2s73U+Oluz8j2/l+arzgPw==",
          "dtype": "f8"
         },
         "yaxis": "y"
        },
        {
         "marker": {
          "color": "#005f73"
         },
         "name": "1897",
         "textposition": "inside",
         "type": "bar",
         "x": [
          "1a Вдови і вдівці",
          "1b Нежонаті, або неокресленого цивільного стану",
          "2a Нежонаті брати і сестри, які живуть разом",
          "2b Інші кревні, які живуть разом",
          "3a Шлюбі пари без дітей",
          "3b Шлюбні пари з дітьми",
          "3c Вдівці з дітьми",
          "3d Вдови з дітьми",
          "4a Родини з висхідним розширенням",
          "4b Родини з низхідним розширенням",
          "4c Родини з бічним розширенням",
          "4d Комбінація 4a-4c",
          "5a Родини з висхідними другорядними ядрами",
          "5b Родини з низхідними другорядними ядрами",
          "5c Родини з бічними другорядними ядрами",
          "5d Братські родини",
          "5e Інші"
         ],
         "xaxis": "x",
         "y": {
          "bdata": "+n5qvHSTiD/8qfHSTWKAPwAAAAAAAAAA/Knx0k1icD8bL90kBoGlP3E9CtejcNU/+n5qvHSTiD9aZDvfT42nP3E9CtejcL0/uB6F61G4jj/azvdT46WrP7gehetRuI4/WDm0yHa+nz8UrkfhehTOP1pkO99PjZc/7FG4HoXroT/b+X5qvHSTPw==",
          "dtype": "f8"
         },
         "yaxis": "y"
        }
       ],
       "layout": {
        "annotations": [
         {
          "font": {
           "size": 16
          },
          "showarrow": false,
          "text": "People category distribution in 1778",
          "x": 0.225,
          "xanchor": "center",
          "xref": "paper",
          "y": 1,
          "yanchor": "bottom",
          "yref": "paper"
         },
         {
          "font": {
           "size": 16
          },
          "showarrow": false,
          "text": "People category distribution in 1897",
          "x": 0.775,
          "xanchor": "center",
          "xref": "paper",
          "y": 1,
          "yanchor": "bottom",
          "yref": "paper"
         },
         {
          "font": {
           "size": 16
          },
          "showarrow": false,
          "text": "People class distribution in 1778/1897",
          "x": 0.5,
          "xanchor": "center",
          "xref": "paper",
          "y": 0.425,
          "yanchor": "bottom",
          "yref": "paper"
         }
        ],
        "barmode": "group",
        "height": 900,
        "template": {
         "data": {
          "bar": [
           {
            "error_x": {
             "color": "#2a3f5f"
            },
            "error_y": {
             "color": "#2a3f5f"
            },
            "marker": {
             "line": {
              "color": "#E5ECF6",
              "width": 0.5
             },
             "pattern": {
              "fillmode": "overlay",
              "size": 10,
              "solidity": 0.2
             }
            },
            "type": "bar"
           }
          ],
          "barpolar": [
           {
            "marker": {
             "line": {
              "color": "#E5ECF6",
              "width": 0.5
             },
             "pattern": {
              "fillmode": "overlay",
              "size": 10,
              "solidity": 0.2
             }
            },
            "type": "barpolar"
           }
          ],
          "carpet": [
           {
            "aaxis": {
             "endlinecolor": "#2a3f5f",
             "gridcolor": "white",
             "linecolor": "white",
             "minorgridcolor": "white",
             "startlinecolor": "#2a3f5f"
            },
            "baxis": {
             "endlinecolor": "#2a3f5f",
             "gridcolor": "white",
             "linecolor": "white",
             "minorgridcolor": "white",
             "startlinecolor": "#2a3f5f"
            },
            "type": "carpet"
           }
          ],
          "choropleth": [
           {
            "colorbar": {
             "outlinewidth": 0,
             "ticks": ""
            },
            "type": "choropleth"
           }
          ],
          "contour": [
           {
            "colorbar": {
             "outlinewidth": 0,
             "ticks": ""
            },
            "colorscale": [
             [
              0,
              "#0d0887"
             ],
             [
              0.1111111111111111,
              "#46039f"
             ],
             [
              0.2222222222222222,
              "#7201a8"
             ],
             [
              0.3333333333333333,
              "#9c179e"
             ],
             [
              0.4444444444444444,
              "#bd3786"
             ],
             [
              0.5555555555555556,
              "#d8576b"
             ],
             [
              0.6666666666666666,
              "#ed7953"
             ],
             [
              0.7777777777777778,
              "#fb9f3a"
             ],
             [
              0.8888888888888888,
              "#fdca26"
             ],
             [
              1,
              "#f0f921"
             ]
            ],
            "type": "contour"
           }
          ],
          "contourcarpet": [
           {
            "colorbar": {
             "outlinewidth": 0,
             "ticks": ""
            },
            "type": "contourcarpet"
           }
          ],
          "heatmap": [
           {
            "colorbar": {
             "outlinewidth": 0,
             "ticks": ""
            },
            "colorscale": [
             [
              0,
              "#0d0887"
             ],
             [
              0.1111111111111111,
              "#46039f"
             ],
             [
              0.2222222222222222,
              "#7201a8"
             ],
             [
              0.3333333333333333,
              "#9c179e"
             ],
             [
              0.4444444444444444,
              "#bd3786"
             ],
             [
              0.5555555555555556,
              "#d8576b"
             ],
             [
              0.6666666666666666,
              "#ed7953"
             ],
             [
              0.7777777777777778,
              "#fb9f3a"
             ],
             [
              0.8888888888888888,
              "#fdca26"
             ],
             [
              1,
              "#f0f921"
             ]
            ],
            "type": "heatmap"
           }
          ],
          "histogram": [
           {
            "marker": {
             "pattern": {
              "fillmode": "overlay",
              "size": 10,
              "solidity": 0.2
             }
            },
            "type": "histogram"
           }
          ],
          "histogram2d": [
           {
            "colorbar": {
             "outlinewidth": 0,
             "ticks": ""
            },
            "colorscale": [
             [
              0,
              "#0d0887"
             ],
             [
              0.1111111111111111,
              "#46039f"
             ],
             [
              0.2222222222222222,
              "#7201a8"
             ],
             [
              0.3333333333333333,
              "#9c179e"
             ],
             [
              0.4444444444444444,
              "#bd3786"
             ],
             [
              0.5555555555555556,
              "#d8576b"
             ],
             [
              0.6666666666666666,
              "#ed7953"
             ],
             [
              0.7777777777777778,
              "#fb9f3a"
             ],
             [
              0.8888888888888888,
              "#fdca26"
             ],
             [
              1,
              "#f0f921"
             ]
            ],
            "type": "histogram2d"
           }
          ],
          "histogram2dcontour": [
           {
            "colorbar": {
             "outlinewidth": 0,
             "ticks": ""
            },
            "colorscale": [
             [
              0,
              "#0d0887"
             ],
             [
              0.1111111111111111,
              "#46039f"
             ],
             [
              0.2222222222222222,
              "#7201a8"
             ],
             [
              0.3333333333333333,
              "#9c179e"
             ],
             [
              0.4444444444444444,
              "#bd3786"
             ],
             [
              0.5555555555555556,
              "#d8576b"
             ],
             [
              0.6666666666666666,
              "#ed7953"
             ],
             [
              0.7777777777777778,
              "#fb9f3a"
             ],
             [
              0.8888888888888888,
              "#fdca26"
             ],
             [
              1,
              "#f0f921"
             ]
            ],
            "type": "histogram2dcontour"
           }
          ],
          "mesh3d": [
           {
            "colorbar": {
             "outlinewidth": 0,
             "ticks": ""
            },
            "type": "mesh3d"
           }
          ],
          "parcoords": [
           {
            "line": {
             "colorbar": {
              "outlinewidth": 0,
              "ticks": ""
             }
            },
            "type": "parcoords"
           }
          ],
          "pie": [
           {
            "automargin": true,
            "type": "pie"
           }
          ],
          "scatter": [
           {
            "fillpattern": {
             "fillmode": "overlay",
             "size": 10,
             "solidity": 0.2
            },
            "type": "scatter"
           }
          ],
          "scatter3d": [
           {
            "line": {
             "colorbar": {
              "outlinewidth": 0,
              "ticks": ""
             }
            },
            "marker": {
             "colorbar": {
              "outlinewidth": 0,
              "ticks": ""
             }
            },
            "type": "scatter3d"
           }
          ],
          "scattercarpet": [
           {
            "marker": {
             "colorbar": {
              "outlinewidth": 0,
              "ticks": ""
             }
            },
            "type": "scattercarpet"
           }
          ],
          "scattergeo": [
           {
            "marker": {
             "colorbar": {
              "outlinewidth": 0,
              "ticks": ""
             }
            },
            "type": "scattergeo"
           }
          ],
          "scattergl": [
           {
            "marker": {
             "colorbar": {
              "outlinewidth": 0,
              "ticks": ""
             }
            },
            "type": "scattergl"
           }
          ],
          "scattermap": [
           {
            "marker": {
             "colorbar": {
              "outlinewidth": 0,
              "ticks": ""
             }
            },
            "type": "scattermap"
           }
          ],
          "scattermapbox": [
           {
            "marker": {
             "colorbar": {
              "outlinewidth": 0,
              "ticks": ""
             }
            },
            "type": "scattermapbox"
           }
          ],
          "scatterpolar": [
           {
            "marker": {
             "colorbar": {
              "outlinewidth": 0,
              "ticks": ""
             }
            },
            "type": "scatterpolar"
           }
          ],
          "scatterpolargl": [
           {
            "marker": {
             "colorbar": {
              "outlinewidth": 0,
              "ticks": ""
             }
            },
            "type": "scatterpolargl"
           }
          ],
          "scatterternary": [
           {
            "marker": {
             "colorbar": {
              "outlinewidth": 0,
              "ticks": ""
             }
            },
            "type": "scatterternary"
           }
          ],
          "surface": [
           {
            "colorbar": {
             "outlinewidth": 0,
             "ticks": ""
            },
            "colorscale": [
             [
              0,
              "#0d0887"
             ],
             [
              0.1111111111111111,
              "#46039f"
             ],
             [
              0.2222222222222222,
              "#7201a8"
             ],
             [
              0.3333333333333333,
              "#9c179e"
             ],
             [
              0.4444444444444444,
              "#bd3786"
             ],
             [
              0.5555555555555556,
              "#d8576b"
             ],
             [
              0.6666666666666666,
              "#ed7953"
             ],
             [
              0.7777777777777778,
              "#fb9f3a"
             ],
             [
              0.8888888888888888,
              "#fdca26"
             ],
             [
              1,
              "#f0f921"
             ]
            ],
            "type": "surface"
           }
          ],
          "table": [
           {
            "cells": {
             "fill": {
              "color": "#EBF0F8"
             },
             "line": {
              "color": "white"
             }
            },
            "header": {
             "fill": {
              "color": "#C8D4E3"
             },
             "line": {
              "color": "white"
             }
            },
            "type": "table"
           }
          ]
         },
         "layout": {
          "annotationdefaults": {
           "arrowcolor": "#2a3f5f",
           "arrowhead": 0,
           "arrowwidth": 1
          },
          "autotypenumbers": "strict",
          "coloraxis": {
           "colorbar": {
            "outlinewidth": 0,
            "ticks": ""
           }
          },
          "colorscale": {
           "diverging": [
            [
             0,
             "#8e0152"
            ],
            [
             0.1,
             "#c51b7d"
            ],
            [
             0.2,
             "#de77ae"
            ],
            [
             0.3,
             "#f1b6da"
            ],
            [
             0.4,
             "#fde0ef"
            ],
            [
             0.5,
             "#f7f7f7"
            ],
            [
             0.6,
             "#e6f5d0"
            ],
            [
             0.7,
             "#b8e186"
            ],
            [
             0.8,
             "#7fbc41"
            ],
            [
             0.9,
             "#4d9221"
            ],
            [
             1,
             "#276419"
            ]
           ],
           "sequential": [
            [
             0,
             "#0d0887"
            ],
            [
             0.1111111111111111,
             "#46039f"
            ],
            [
             0.2222222222222222,
             "#7201a8"
            ],
            [
             0.3333333333333333,
             "#9c179e"
            ],
            [
             0.4444444444444444,
             "#bd3786"
            ],
            [
             0.5555555555555556,
             "#d8576b"
            ],
            [
             0.6666666666666666,
             "#ed7953"
            ],
            [
             0.7777777777777778,
             "#fb9f3a"
            ],
            [
             0.8888888888888888,
             "#fdca26"
            ],
            [
             1,
             "#f0f921"
            ]
           ],
           "sequentialminus": [
            [
             0,
             "#0d0887"
            ],
            [
             0.1111111111111111,
             "#46039f"
            ],
            [
             0.2222222222222222,
             "#7201a8"
            ],
            [
             0.3333333333333333,
             "#9c179e"
            ],
            [
             0.4444444444444444,
             "#bd3786"
            ],
            [
             0.5555555555555556,
             "#d8576b"
            ],
            [
             0.6666666666666666,
             "#ed7953"
            ],
            [
             0.7777777777777778,
             "#fb9f3a"
            ],
            [
             0.8888888888888888,
             "#fdca26"
            ],
            [
             1,
             "#f0f921"
            ]
           ]
          },
          "colorway": [
           "#636efa",
           "#EF553B",
           "#00cc96",
           "#ab63fa",
           "#FFA15A",
           "#19d3f3",
           "#FF6692",
           "#B6E880",
           "#FF97FF",
           "#FECB52"
          ],
          "font": {
           "color": "#2a3f5f"
          },
          "geo": {
           "bgcolor": "white",
           "lakecolor": "white",
           "landcolor": "#E5ECF6",
           "showlakes": true,
           "showland": true,
           "subunitcolor": "white"
          },
          "hoverlabel": {
           "align": "left"
          },
          "hovermode": "closest",
          "mapbox": {
           "style": "light"
          },
          "paper_bgcolor": "white",
          "plot_bgcolor": "#E5ECF6",
          "polar": {
           "angularaxis": {
            "gridcolor": "white",
            "linecolor": "white",
            "ticks": ""
           },
           "bgcolor": "#E5ECF6",
           "radialaxis": {
            "gridcolor": "white",
            "linecolor": "white",
            "ticks": ""
           }
          },
          "scene": {
           "xaxis": {
            "backgroundcolor": "#E5ECF6",
            "gridcolor": "white",
            "gridwidth": 2,
            "linecolor": "white",
            "showbackground": true,
            "ticks": "",
            "zerolinecolor": "white"
           },
           "yaxis": {
            "backgroundcolor": "#E5ECF6",
            "gridcolor": "white",
            "gridwidth": 2,
            "linecolor": "white",
            "showbackground": true,
            "ticks": "",
            "zerolinecolor": "white"
           },
           "zaxis": {
            "backgroundcolor": "#E5ECF6",
            "gridcolor": "white",
            "gridwidth": 2,
            "linecolor": "white",
            "showbackground": true,
            "ticks": "",
            "zerolinecolor": "white"
           }
          },
          "shapedefaults": {
           "line": {
            "color": "#2a3f5f"
           }
          },
          "ternary": {
           "aaxis": {
            "gridcolor": "white",
            "linecolor": "white",
            "ticks": ""
           },
           "baxis": {
            "gridcolor": "white",
            "linecolor": "white",
            "ticks": ""
           },
           "bgcolor": "#E5ECF6",
           "caxis": {
            "gridcolor": "white",
            "linecolor": "white",
            "ticks": ""
           }
          },
          "title": {
           "x": 0.05
          },
          "xaxis": {
           "automargin": true,
           "gridcolor": "white",
           "linecolor": "white",
           "ticks": "",
           "title": {
            "standoff": 15
           },
           "zerolinecolor": "white",
           "zerolinewidth": 2
          },
          "yaxis": {
           "automargin": true,
           "gridcolor": "white",
           "linecolor": "white",
           "ticks": "",
           "title": {
            "standoff": 15
           },
           "zerolinecolor": "white",
           "zerolinewidth": 2
          }
         }
        },
        "uniformtext": {
         "minsize": 12,
         "mode": "hide"
        },
        "width": 1000,
        "xaxis": {
         "anchor": "y",
         "domain": [
          0,
          1
         ]
        },
        "yaxis": {
         "anchor": "x",
         "domain": [
          0,
          0.425
         ],
         "tickformat": ".0%"
        }
       }
      }
     },
     "metadata": {},
     "output_type": "display_data"
    }
   ],
   "source": [
    "fig = make_subplots(\n",
    "    rows=2,\n",
    "    cols=2,\n",
    "    specs=[[{'type': 'pie'}, {'type': 'pie'}], [{'type': 'bar', 'colspan': 2}, None]],\n",
    "    subplot_titles=(\n",
    "        'People category distribution in 1778',\n",
    "        'People category distribution in 1897',\n",
    "        'People class distribution in 1778/1897'\n",
    "    ),\n",
    "    vertical_spacing=0.15\n",
    ")\n",
    "\n",
    "pie_colors = ['#001219', '#0a9396', '#e9d8a6', '#ca6702', '#ae2012']\n",
    "\n",
    "fig.add_trace(\n",
    "    go.Pie(\n",
    "        labels=family_total_structure_1_df.category.unique(),\n",
    "        values=family_total_structure_1_df.groupby('category')['category_total_count'] \\\n",
    "            .first() \\\n",
    "            .reset_index() \\\n",
    "            ['category_total_count'],\n",
    "        textinfo='value',\n",
    "        hoverinfo='label+percent',\n",
    "        marker=dict(colors=pie_colors, line=dict(color='#000000', width=2)),\n",
    "        textfont_size=20,\n",
    "        hole=0.3\n",
    "    ),\n",
    "    row=1, col=2\n",
    ")\n",
    "\n",
    "fig.add_trace(\n",
    "    go.Pie(\n",
    "        labels=family_total_structure_2_df.category.unique(),\n",
    "        values=family_total_structure_2_df.groupby('category')['category_total_count'] \\\n",
    "            .first() \\\n",
    "            .reset_index() \\\n",
    "            ['category_total_count'],\n",
    "        textinfo='value',\n",
    "        hoverinfo='label+percent',\n",
    "        marker=dict(colors=pie_colors, line=dict(color='#000000', width=2)),\n",
    "        textfont_size=20,\n",
    "        hole=0.3\n",
    "    ),\n",
    "    row=1, col=1\n",
    ")\n",
    "\n",
    "fig.add_trace(\n",
    "    go.Bar(\n",
    "        name='1778',\n",
    "        x=family_total_structure_2_df.loc[:, 'class'],\n",
    "        y=family_total_structure_2_df.loc[:, 'class_percentage'] / 100,\n",
    "        marker_color='#9b2226'\n",
    "    ),\n",
    "    row=2, col='all'\n",
    ")\n",
    "\n",
    "fig.add_trace(\n",
    "    go.Bar(\n",
    "        name='1897',\n",
    "        x=family_total_structure_1_df.loc[:, 'class'],\n",
    "        y=family_total_structure_1_df.loc[:, 'class_percentage'] / 100,\n",
    "        marker_color='#005f73'\n",
    "    ),\n",
    "    row=2, col='all'\n",
    ")\n",
    "\n",
    "fig.update_yaxes(\n",
    "    tickformat=\".0%\",\n",
    ")\n",
    "\n",
    "fig.update_traces(textposition='inside')\n",
    "fig.update_layout(\n",
    "    barmode='group',\n",
    "    height=900,\n",
    "    width=1000,\n",
    "    uniformtext_minsize=12,\n",
    "    uniformtext_mode='hide',\n",
    ")\n",
    "\n",
    "fig.show()"
   ]
  },
  {
   "cell_type": "markdown",
   "id": "9ad17256",
   "metadata": {},
   "source": [
    "Family structure in 1778 was very broad and included a large circle of relatives, so about 52% families in 1778 were remarked as \"other\" class. And to 1897 the number of nuclear, total and expanded families was highly increased  "
   ]
  },
  {
   "cell_type": "markdown",
   "id": "e137a594",
   "metadata": {},
   "source": [
    "### Surname Comparison"
   ]
  },
  {
   "cell_type": "code",
   "execution_count": 93,
   "id": "52cd8255",
   "metadata": {},
   "outputs": [],
   "source": [
    "auth_key = os.getenv('AUTH_KEY')"
   ]
  },
  {
   "cell_type": "code",
   "execution_count": 94,
   "id": "00ff2f7b",
   "metadata": {},
   "outputs": [],
   "source": [
    "deepl_client = deepl.DeepLClient(auth_key)"
   ]
  },
  {
   "cell_type": "markdown",
   "id": "518ff4b6",
   "metadata": {},
   "source": [
    "To decrease the number of requests and the time of translating let's translate only the male surname of each household "
   ]
  },
  {
   "cell_type": "code",
   "execution_count": 95,
   "id": "38b4a851",
   "metadata": {},
   "outputs": [],
   "source": [
    "surnames_1 = people1_df[people1_df.sex == 'm'] \\\n",
    "    .groupby(['household_id'])['surname'] \\\n",
    "    .first() \\\n",
    "    .reset_index()\n",
    "\n",
    "surnames_1.loc[:, 'surname_translated'] = ''\n",
    "surnames_1.loc[:, 'surname_translated'] = surnames_1.surname.apply(lambda x: deepl_client.translate_text(x, target_lang=\"UK\").text)"
   ]
  },
  {
   "cell_type": "code",
   "execution_count": 96,
   "id": "55e69c50",
   "metadata": {},
   "outputs": [],
   "source": [
    "surnames_2 = people2_df.groupby(['household_id'])['surname'] \\\n",
    "    .first() \\\n",
    "    .reset_index() \\\n",
    "    ['surname']"
   ]
  },
  {
   "cell_type": "code",
   "execution_count": 97,
   "id": "72f3f7bf",
   "metadata": {},
   "outputs": [
    {
     "data": {
      "text/plain": [
       "(256, 105)"
      ]
     },
     "execution_count": 97,
     "metadata": {},
     "output_type": "execute_result"
    }
   ],
   "source": [
    "(len(surnames_1), len(surnames_2))"
   ]
  },
  {
   "cell_type": "code",
   "execution_count": 98,
   "id": "a0a0c4a3",
   "metadata": {},
   "outputs": [],
   "source": [
    "surnames_1 = pd.Series(surnames_1['surname_translated'].str.lower())\n",
    "surnames_2 = surnames_2.str.lower()"
   ]
  },
  {
   "cell_type": "code",
   "execution_count": 99,
   "id": "e7621648",
   "metadata": {},
   "outputs": [],
   "source": [
    "# Not include last symbols at the end of the word\n",
    "surnames_1 = surnames_1.str.extract(r'(\\w+)', expand=False)\n",
    "surnames_2 = surnames_2.str.extract(r'(\\w+)', expand=False)"
   ]
  },
  {
   "cell_type": "code",
   "execution_count": 100,
   "id": "4c54a12e",
   "metadata": {},
   "outputs": [],
   "source": [
    "similar_surnames_text = ''\n",
    "\n",
    "for surname in list(surnames_2):\n",
    "    if surname in set(surnames_1):\n",
    "        similar_surnames_text += surname + ' '"
   ]
  },
  {
   "cell_type": "markdown",
   "id": "dd8a5527",
   "metadata": {},
   "source": [
    "Let's see the word cloud of the most similar surnames that there are in both years"
   ]
  },
  {
   "cell_type": "code",
   "execution_count": 101,
   "id": "c9ac1670",
   "metadata": {},
   "outputs": [
    {
     "data": {
      "image/png": "[encoded data removed]",
      "text/plain": [
       "<Figure size 1000x500 with 1 Axes>"
      ]
     },
     "metadata": {},
     "output_type": "display_data"
    }
   ],
   "source": [
    "wordcloud = WordCloud(width=800, height=400, background_color='white').generate(similar_surnames_text)\n",
    "\n",
    "plt.figure(figsize=(10, 5))\n",
    "plt.imshow(wordcloud, interpolation='bilinear')\n",
    "plt.axis('off')\n",
    "plt.show()"
   ]
  },
  {
   "cell_type": "markdown",
   "id": "97ff3bf4",
   "metadata": {},
   "source": [
    "It is *so* sadly to see \"московченко\" here, but it is the reality 😩"
   ]
  },
  {
   "cell_type": "markdown",
   "id": "98d84199",
   "metadata": {},
   "source": [
    "## Conclusions"
   ]
  },
  {
   "cell_type": "markdown",
   "id": "1f19b203",
   "metadata": {},
   "source": [
    "Using preprocessed data and the listed visualizations we can make the next conclusions:\n",
    "1) The average age and sex ratio are remained stable ;\n",
    "2) The sex ratio proportion is almost the same (≈ 1);\n",
    "3) The family size during the period was highly decreased (from 15 => 6);\n",
    "4) The percentage of nuclear and expanded families was highly increased (from 19% => 43.5%, and from 1.8% => 20% respectively)\n",
    "5) The percentage of \"other\" family class was extremely decreased (from 58% => 2%), and so the percentage of the others classes was increase (particularly for \"3b Шлюбні пари з дітьми\" and for \"5b Родини з низхідними другорядними ядрама\")\n",
    "6) The most common surnames in both years are: Позняк, Московченко, Воробей, Бортник... "
   ]
  }
 ],
 "metadata": {
  "kernelspec": {
   "display_name": "venv",
   "language": "python",
   "name": "python3"
  },
  "language_info": {
   "codemirror_mode": {
    "name": "ipython",
    "version": 3
   },
   "file_extension": ".py",
   "mimetype": "text/x-python",
   "name": "python",
   "nbconvert_exporter": "python",
   "pygments_lexer": "ipython3",
   "version": "3.12.3"
  }
 },
 "nbformat": 4,
 "nbformat_minor": 5
}
